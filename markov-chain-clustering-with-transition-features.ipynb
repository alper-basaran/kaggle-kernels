{
 "cells": [
  {
   "cell_type": "markdown",
   "id": "rapid-front",
   "metadata": {
    "papermill": {
     "duration": 0.029016,
     "end_time": "2021-09-10T16:11:12.165968",
     "exception": false,
     "start_time": "2021-09-10T16:11:12.136952",
     "status": "completed"
    },
    "tags": []
   },
   "source": [
    "# Using Markov Chain Transition Probabilities as Features for Machine Learning\n",
    "\n",
    "This notebook demonstrates the estimation of Markov chain transition probabilities and using the estimated values as a feature vector for further processing and machine learning tasks. \n",
    "\n",
    "\n",
    "### Table of Contents\n",
    "* [Simulating Markov Chain](#simulate-markov-chain)\n",
    "    * [Generating Samples from a Model](#generate-sequence-from-p)\n",
    "    * [Visualize Sequence](#visualize-sequence)\n",
    "    * [Visualizing Multiple Sequences and Inspecting Similarities](#visualize-multiple-sequences)\n",
    "    * [Visualizing Similarities Between Pairs of Time Series](#visualize-similarities)\n",
    "* [Estimating the Stochastic Matrix and Feature Vector for Time Series](#estimating-matrix)\n",
    "    * [Estimating the Stochastic Matrix From Observations](#estimation-from-observation)\n",
    "    * [Estimation Accuracy](#estimation-accuracy)\n",
    "    * [Calculating Features for Time Series](#calculating-features)\n",
    "    * [Calculating the Principal Components for Visualizing the Clusters](#pca-and-visualization)\n",
    "    \n",
    "### Introduction\n",
    "\n",
    "As majority of the machine learning algorithms require the input data in a tabular, fixed length normalized vector format, performing ML tasks on arbitrary length time series data is often not straightforward. This kernel demonstrates the use of Markov chain modelling to convert an arbitrary-length observed sequence into a fixed length feature vector by capturing the most of the information available in the observed sequence. Once the feature vector is computed, it can be used in many different data science tasks and classical, highly explainable ML algorithms for tasks such as, visualization, clustering, classification etc.\n",
    "\n",
    "\n",
    "According to Wikipedia definition;\n",
    "> A Markov chain is a stochastic model describing a sequence of possible events in which the probability of each event depends only on the state attained in the previous event. \n",
    "\n",
    "A Markov chain is useful for modelling sequences of observations/measurements/events or any other stochastic process with Markov assumption, meaning that, the probability distribution of the next value in the sequence, only depends on the previous value and does not depend on the past history, as can be seen in below equation:\n",
    "\n",
    "$$P(X_n=x_n|X_{n-1} = x_{n-1}, X_{n-2}=x_{n-2}{\\dotsb}X_0=x_0)=P(X_n=x_n|X_{n-1}=x_{n-1})$$\n",
    "\n",
    "\n",
    "Markov chains can be used for modelling a broad range of phenomena such as;\n",
    "\n",
    " - Evolution of state of a system  \n",
    " - Successive actions taken by a user\n",
    " - Gene and protein sequences\n",
    " \n",
    "\n",
    "A discrete time, finite state Markov chain can be modeled by its ___Stochastic matrix___, that is a square matrix used to describe the 'transition probabilities' of the chain between pairs of states. Assuming that our random process can be in either one of two states, \n",
    "$$a_1,a_2$$\n",
    "\n",
    "and has the stochastic matrix shown below:\n",
    "\n",
    "$$P=\n",
    "\\begin{pmatrix}\n",
    "a_{11} & a_{12} \\\\\n",
    "a_{21} & a_{22}\n",
    "\\end{pmatrix}\n",
    "$$\n",
    "\n",
    "This matrix can be interpreted as;\n",
    "- When the system is in state $a_1$, the next state of the system will be $a_1$ with probability $a_{11}$\n",
    "- When the system is in state $a_1$, the next state of the system will be $a_2$ with probability $a_{12}$\n",
    "- When the system is in state $a_2$, the next state of the system will be $a_1$ with probability $a_{21}$\n",
    "- When the system is in state $a_2$, the next state of the system will be $a_2$ with probability $a_{22}$\n",
    "\n",
    "\n",
    "$$P=\n",
    "\\begin{pmatrix}\n",
    "0.1 & 0.9 \\\\\n",
    "0.7 & 0.5\n",
    "\\end{pmatrix}\n",
    "$$\n",
    "\n",
    "\n",
    "Now that we have the basics, let's get to the code!"
   ]
  },
  {
   "cell_type": "markdown",
   "id": "architectural-disposal",
   "metadata": {
    "papermill": {
     "duration": 0.026396,
     "end_time": "2021-09-10T16:11:12.219076",
     "exception": false,
     "start_time": "2021-09-10T16:11:12.192680",
     "status": "completed"
    },
    "tags": []
   },
   "source": [
    "\n",
    "<a id='simulate-markov-chain'></a>\n",
    "# Simulating Markov Chains"
   ]
  },
  {
   "cell_type": "code",
   "execution_count": 1,
   "id": "acknowledged-portal",
   "metadata": {
    "_cell_guid": "b1076dfc-b9ad-4769-8c92-a6c4dae69d19",
    "_uuid": "8f2839f25d086af736a60e9eeb907d3b93b6e0e5",
    "execution": {
     "iopub.execute_input": "2021-09-10T16:11:12.276991Z",
     "iopub.status.busy": "2021-09-10T16:11:12.275797Z",
     "iopub.status.idle": "2021-09-10T16:11:13.752435Z",
     "shell.execute_reply": "2021-09-10T16:11:13.752935Z",
     "shell.execute_reply.started": "2021-09-10T15:20:10.786296Z"
    },
    "papermill": {
     "duration": 1.507376,
     "end_time": "2021-09-10T16:11:13.753248",
     "exception": false,
     "start_time": "2021-09-10T16:11:12.245872",
     "status": "completed"
    },
    "tags": []
   },
   "outputs": [
    {
     "data": {
      "text/html": [
       "\n",
       "    <div class=\"bk-root\">\n",
       "        <a href=\"https://bokeh.org\" target=\"_blank\" class=\"bk-logo bk-logo-small bk-logo-notebook\"></a>\n",
       "        <span id=\"1002\">Loading BokehJS ...</span>\n",
       "    </div>"
      ]
     },
     "metadata": {},
     "output_type": "display_data"
    },
    {
     "data": {
      "application/javascript": [
       "\n",
       "(function(root) {\n",
       "  function now() {\n",
       "    return new Date();\n",
       "  }\n",
       "\n",
       "  var force = true;\n",
       "\n",
       "  if (typeof root._bokeh_onload_callbacks === \"undefined\" || force === true) {\n",
       "    root._bokeh_onload_callbacks = [];\n",
       "    root._bokeh_is_loading = undefined;\n",
       "  }\n",
       "\n",
       "  var JS_MIME_TYPE = 'application/javascript';\n",
       "  var HTML_MIME_TYPE = 'text/html';\n",
       "  var EXEC_MIME_TYPE = 'application/vnd.bokehjs_exec.v0+json';\n",
       "  var CLASS_NAME = 'output_bokeh rendered_html';\n",
       "\n",
       "  /**\n",
       "   * Render data to the DOM node\n",
       "   */\n",
       "  function render(props, node) {\n",
       "    var script = document.createElement(\"script\");\n",
       "    node.appendChild(script);\n",
       "  }\n",
       "\n",
       "  /**\n",
       "   * Handle when an output is cleared or removed\n",
       "   */\n",
       "  function handleClearOutput(event, handle) {\n",
       "    var cell = handle.cell;\n",
       "\n",
       "    var id = cell.output_area._bokeh_element_id;\n",
       "    var server_id = cell.output_area._bokeh_server_id;\n",
       "    // Clean up Bokeh references\n",
       "    if (id != null && id in Bokeh.index) {\n",
       "      Bokeh.index[id].model.document.clear();\n",
       "      delete Bokeh.index[id];\n",
       "    }\n",
       "\n",
       "    if (server_id !== undefined) {\n",
       "      // Clean up Bokeh references\n",
       "      var cmd = \"from bokeh.io.state import curstate; print(curstate().uuid_to_server['\" + server_id + \"'].get_sessions()[0].document.roots[0]._id)\";\n",
       "      cell.notebook.kernel.execute(cmd, {\n",
       "        iopub: {\n",
       "          output: function(msg) {\n",
       "            var id = msg.content.text.trim();\n",
       "            if (id in Bokeh.index) {\n",
       "              Bokeh.index[id].model.document.clear();\n",
       "              delete Bokeh.index[id];\n",
       "            }\n",
       "          }\n",
       "        }\n",
       "      });\n",
       "      // Destroy server and session\n",
       "      var cmd = \"import bokeh.io.notebook as ion; ion.destroy_server('\" + server_id + \"')\";\n",
       "      cell.notebook.kernel.execute(cmd);\n",
       "    }\n",
       "  }\n",
       "\n",
       "  /**\n",
       "   * Handle when a new output is added\n",
       "   */\n",
       "  function handleAddOutput(event, handle) {\n",
       "    var output_area = handle.output_area;\n",
       "    var output = handle.output;\n",
       "\n",
       "    // limit handleAddOutput to display_data with EXEC_MIME_TYPE content only\n",
       "    if ((output.output_type != \"display_data\") || (!Object.prototype.hasOwnProperty.call(output.data, EXEC_MIME_TYPE))) {\n",
       "      return\n",
       "    }\n",
       "\n",
       "    var toinsert = output_area.element.find(\".\" + CLASS_NAME.split(' ')[0]);\n",
       "\n",
       "    if (output.metadata[EXEC_MIME_TYPE][\"id\"] !== undefined) {\n",
       "      toinsert[toinsert.length - 1].firstChild.textContent = output.data[JS_MIME_TYPE];\n",
       "      // store reference to embed id on output_area\n",
       "      output_area._bokeh_element_id = output.metadata[EXEC_MIME_TYPE][\"id\"];\n",
       "    }\n",
       "    if (output.metadata[EXEC_MIME_TYPE][\"server_id\"] !== undefined) {\n",
       "      var bk_div = document.createElement(\"div\");\n",
       "      bk_div.innerHTML = output.data[HTML_MIME_TYPE];\n",
       "      var script_attrs = bk_div.children[0].attributes;\n",
       "      for (var i = 0; i < script_attrs.length; i++) {\n",
       "        toinsert[toinsert.length - 1].firstChild.setAttribute(script_attrs[i].name, script_attrs[i].value);\n",
       "        toinsert[toinsert.length - 1].firstChild.textContent = bk_div.children[0].textContent\n",
       "      }\n",
       "      // store reference to server id on output_area\n",
       "      output_area._bokeh_server_id = output.metadata[EXEC_MIME_TYPE][\"server_id\"];\n",
       "    }\n",
       "  }\n",
       "\n",
       "  function register_renderer(events, OutputArea) {\n",
       "\n",
       "    function append_mime(data, metadata, element) {\n",
       "      // create a DOM node to render to\n",
       "      var toinsert = this.create_output_subarea(\n",
       "        metadata,\n",
       "        CLASS_NAME,\n",
       "        EXEC_MIME_TYPE\n",
       "      );\n",
       "      this.keyboard_manager.register_events(toinsert);\n",
       "      // Render to node\n",
       "      var props = {data: data, metadata: metadata[EXEC_MIME_TYPE]};\n",
       "      render(props, toinsert[toinsert.length - 1]);\n",
       "      element.append(toinsert);\n",
       "      return toinsert\n",
       "    }\n",
       "\n",
       "    /* Handle when an output is cleared or removed */\n",
       "    events.on('clear_output.CodeCell', handleClearOutput);\n",
       "    events.on('delete.Cell', handleClearOutput);\n",
       "\n",
       "    /* Handle when a new output is added */\n",
       "    events.on('output_added.OutputArea', handleAddOutput);\n",
       "\n",
       "    /**\n",
       "     * Register the mime type and append_mime function with output_area\n",
       "     */\n",
       "    OutputArea.prototype.register_mime_type(EXEC_MIME_TYPE, append_mime, {\n",
       "      /* Is output safe? */\n",
       "      safe: true,\n",
       "      /* Index of renderer in `output_area.display_order` */\n",
       "      index: 0\n",
       "    });\n",
       "  }\n",
       "\n",
       "  // register the mime type if in Jupyter Notebook environment and previously unregistered\n",
       "  if (root.Jupyter !== undefined) {\n",
       "    var events = require('base/js/events');\n",
       "    var OutputArea = require('notebook/js/outputarea').OutputArea;\n",
       "\n",
       "    if (OutputArea.prototype.mime_types().indexOf(EXEC_MIME_TYPE) == -1) {\n",
       "      register_renderer(events, OutputArea);\n",
       "    }\n",
       "  }\n",
       "\n",
       "  \n",
       "  if (typeof (root._bokeh_timeout) === \"undefined\" || force === true) {\n",
       "    root._bokeh_timeout = Date.now() + 5000;\n",
       "    root._bokeh_failed_load = false;\n",
       "  }\n",
       "\n",
       "  var NB_LOAD_WARNING = {'data': {'text/html':\n",
       "     \"<div style='background-color: #fdd'>\\n\"+\n",
       "     \"<p>\\n\"+\n",
       "     \"BokehJS does not appear to have successfully loaded. If loading BokehJS from CDN, this \\n\"+\n",
       "     \"may be due to a slow or bad network connection. Possible fixes:\\n\"+\n",
       "     \"</p>\\n\"+\n",
       "     \"<ul>\\n\"+\n",
       "     \"<li>re-rerun `output_notebook()` to attempt to load from CDN again, or</li>\\n\"+\n",
       "     \"<li>use INLINE resources instead, as so:</li>\\n\"+\n",
       "     \"</ul>\\n\"+\n",
       "     \"<code>\\n\"+\n",
       "     \"from bokeh.resources import INLINE\\n\"+\n",
       "     \"output_notebook(resources=INLINE)\\n\"+\n",
       "     \"</code>\\n\"+\n",
       "     \"</div>\"}};\n",
       "\n",
       "  function display_loaded() {\n",
       "    var el = document.getElementById(\"1002\");\n",
       "    if (el != null) {\n",
       "      el.textContent = \"BokehJS is loading...\";\n",
       "    }\n",
       "    if (root.Bokeh !== undefined) {\n",
       "      if (el != null) {\n",
       "        el.textContent = \"BokehJS \" + root.Bokeh.version + \" successfully loaded.\";\n",
       "      }\n",
       "    } else if (Date.now() < root._bokeh_timeout) {\n",
       "      setTimeout(display_loaded, 100)\n",
       "    }\n",
       "  }\n",
       "\n",
       "\n",
       "  function run_callbacks() {\n",
       "    try {\n",
       "      root._bokeh_onload_callbacks.forEach(function(callback) {\n",
       "        if (callback != null)\n",
       "          callback();\n",
       "      });\n",
       "    } finally {\n",
       "      delete root._bokeh_onload_callbacks\n",
       "    }\n",
       "    console.debug(\"Bokeh: all callbacks have finished\");\n",
       "  }\n",
       "\n",
       "  function load_libs(css_urls, js_urls, callback) {\n",
       "    if (css_urls == null) css_urls = [];\n",
       "    if (js_urls == null) js_urls = [];\n",
       "\n",
       "    root._bokeh_onload_callbacks.push(callback);\n",
       "    if (root._bokeh_is_loading > 0) {\n",
       "      console.debug(\"Bokeh: BokehJS is being loaded, scheduling callback at\", now());\n",
       "      return null;\n",
       "    }\n",
       "    if (js_urls == null || js_urls.length === 0) {\n",
       "      run_callbacks();\n",
       "      return null;\n",
       "    }\n",
       "    console.debug(\"Bokeh: BokehJS not loaded, scheduling load and callback at\", now());\n",
       "    root._bokeh_is_loading = css_urls.length + js_urls.length;\n",
       "\n",
       "    function on_load() {\n",
       "      root._bokeh_is_loading--;\n",
       "      if (root._bokeh_is_loading === 0) {\n",
       "        console.debug(\"Bokeh: all BokehJS libraries/stylesheets loaded\");\n",
       "        run_callbacks()\n",
       "      }\n",
       "    }\n",
       "\n",
       "    function on_error(url) {\n",
       "      console.error(\"failed to load \" + url);\n",
       "    }\n",
       "\n",
       "    for (let i = 0; i < css_urls.length; i++) {\n",
       "      const url = css_urls[i];\n",
       "      const element = document.createElement(\"link\");\n",
       "      element.onload = on_load;\n",
       "      element.onerror = on_error.bind(null, url);\n",
       "      element.rel = \"stylesheet\";\n",
       "      element.type = \"text/css\";\n",
       "      element.href = url;\n",
       "      console.debug(\"Bokeh: injecting link tag for BokehJS stylesheet: \", url);\n",
       "      document.body.appendChild(element);\n",
       "    }\n",
       "\n",
       "    const hashes = {\"https://cdn.bokeh.org/bokeh/release/bokeh-2.3.1.min.js\": \"YF85VygJKMVnHE+lLv2AM93Vbstr0yo2TbIu5v8se5Rq3UQAUmcuh4aaJwNlpKwa\", \"https://cdn.bokeh.org/bokeh/release/bokeh-widgets-2.3.1.min.js\": \"KKuas3gevv3PvrlkyCMzffFeaMq5we/a2QsP5AUoS3mJ0jmaCL7jirFJN3GoE/lM\", \"https://cdn.bokeh.org/bokeh/release/bokeh-tables-2.3.1.min.js\": \"MK/uFc3YT18pkvvXRl66tTHjP0/dxoSH2e/eiNMFIguKlun2+WVqaPTWmUy/zvh4\"};\n",
       "\n",
       "    for (let i = 0; i < js_urls.length; i++) {\n",
       "      const url = js_urls[i];\n",
       "      const element = document.createElement('script');\n",
       "      element.onload = on_load;\n",
       "      element.onerror = on_error.bind(null, url);\n",
       "      element.async = false;\n",
       "      element.src = url;\n",
       "      if (url in hashes) {\n",
       "        element.crossOrigin = \"anonymous\";\n",
       "        element.integrity = \"sha384-\" + hashes[url];\n",
       "      }\n",
       "      console.debug(\"Bokeh: injecting script tag for BokehJS library: \", url);\n",
       "      document.head.appendChild(element);\n",
       "    }\n",
       "  };\n",
       "\n",
       "  function inject_raw_css(css) {\n",
       "    const element = document.createElement(\"style\");\n",
       "    element.appendChild(document.createTextNode(css));\n",
       "    document.body.appendChild(element);\n",
       "  }\n",
       "\n",
       "  \n",
       "  var js_urls = [\"https://cdn.bokeh.org/bokeh/release/bokeh-2.3.1.min.js\", \"https://cdn.bokeh.org/bokeh/release/bokeh-widgets-2.3.1.min.js\", \"https://cdn.bokeh.org/bokeh/release/bokeh-tables-2.3.1.min.js\"];\n",
       "  var css_urls = [];\n",
       "  \n",
       "\n",
       "  var inline_js = [\n",
       "    function(Bokeh) {\n",
       "      Bokeh.set_log_level(\"info\");\n",
       "    },\n",
       "    function(Bokeh) {\n",
       "    \n",
       "    \n",
       "    }\n",
       "  ];\n",
       "\n",
       "  function run_inline_js() {\n",
       "    \n",
       "    if (root.Bokeh !== undefined || force === true) {\n",
       "      \n",
       "    for (var i = 0; i < inline_js.length; i++) {\n",
       "      inline_js[i].call(root, root.Bokeh);\n",
       "    }\n",
       "    if (force === true) {\n",
       "        display_loaded();\n",
       "      }} else if (Date.now() < root._bokeh_timeout) {\n",
       "      setTimeout(run_inline_js, 100);\n",
       "    } else if (!root._bokeh_failed_load) {\n",
       "      console.log(\"Bokeh: BokehJS failed to load within specified timeout.\");\n",
       "      root._bokeh_failed_load = true;\n",
       "    } else if (force !== true) {\n",
       "      var cell = $(document.getElementById(\"1002\")).parents('.cell').data().cell;\n",
       "      cell.output_area.append_execute_result(NB_LOAD_WARNING)\n",
       "    }\n",
       "\n",
       "  }\n",
       "\n",
       "  if (root._bokeh_is_loading === 0) {\n",
       "    console.debug(\"Bokeh: BokehJS loaded, going straight to plotting\");\n",
       "    run_inline_js();\n",
       "  } else {\n",
       "    load_libs(css_urls, js_urls, function() {\n",
       "      console.debug(\"Bokeh: BokehJS plotting callback run at\", now());\n",
       "      run_inline_js();\n",
       "    });\n",
       "  }\n",
       "}(window));"
      ],
      "application/vnd.bokehjs_load.v0+json": "\n(function(root) {\n  function now() {\n    return new Date();\n  }\n\n  var force = true;\n\n  if (typeof root._bokeh_onload_callbacks === \"undefined\" || force === true) {\n    root._bokeh_onload_callbacks = [];\n    root._bokeh_is_loading = undefined;\n  }\n\n  \n\n  \n  if (typeof (root._bokeh_timeout) === \"undefined\" || force === true) {\n    root._bokeh_timeout = Date.now() + 5000;\n    root._bokeh_failed_load = false;\n  }\n\n  var NB_LOAD_WARNING = {'data': {'text/html':\n     \"<div style='background-color: #fdd'>\\n\"+\n     \"<p>\\n\"+\n     \"BokehJS does not appear to have successfully loaded. If loading BokehJS from CDN, this \\n\"+\n     \"may be due to a slow or bad network connection. Possible fixes:\\n\"+\n     \"</p>\\n\"+\n     \"<ul>\\n\"+\n     \"<li>re-rerun `output_notebook()` to attempt to load from CDN again, or</li>\\n\"+\n     \"<li>use INLINE resources instead, as so:</li>\\n\"+\n     \"</ul>\\n\"+\n     \"<code>\\n\"+\n     \"from bokeh.resources import INLINE\\n\"+\n     \"output_notebook(resources=INLINE)\\n\"+\n     \"</code>\\n\"+\n     \"</div>\"}};\n\n  function display_loaded() {\n    var el = document.getElementById(\"1002\");\n    if (el != null) {\n      el.textContent = \"BokehJS is loading...\";\n    }\n    if (root.Bokeh !== undefined) {\n      if (el != null) {\n        el.textContent = \"BokehJS \" + root.Bokeh.version + \" successfully loaded.\";\n      }\n    } else if (Date.now() < root._bokeh_timeout) {\n      setTimeout(display_loaded, 100)\n    }\n  }\n\n\n  function run_callbacks() {\n    try {\n      root._bokeh_onload_callbacks.forEach(function(callback) {\n        if (callback != null)\n          callback();\n      });\n    } finally {\n      delete root._bokeh_onload_callbacks\n    }\n    console.debug(\"Bokeh: all callbacks have finished\");\n  }\n\n  function load_libs(css_urls, js_urls, callback) {\n    if (css_urls == null) css_urls = [];\n    if (js_urls == null) js_urls = [];\n\n    root._bokeh_onload_callbacks.push(callback);\n    if (root._bokeh_is_loading > 0) {\n      console.debug(\"Bokeh: BokehJS is being loaded, scheduling callback at\", now());\n      return null;\n    }\n    if (js_urls == null || js_urls.length === 0) {\n      run_callbacks();\n      return null;\n    }\n    console.debug(\"Bokeh: BokehJS not loaded, scheduling load and callback at\", now());\n    root._bokeh_is_loading = css_urls.length + js_urls.length;\n\n    function on_load() {\n      root._bokeh_is_loading--;\n      if (root._bokeh_is_loading === 0) {\n        console.debug(\"Bokeh: all BokehJS libraries/stylesheets loaded\");\n        run_callbacks()\n      }\n    }\n\n    function on_error(url) {\n      console.error(\"failed to load \" + url);\n    }\n\n    for (let i = 0; i < css_urls.length; i++) {\n      const url = css_urls[i];\n      const element = document.createElement(\"link\");\n      element.onload = on_load;\n      element.onerror = on_error.bind(null, url);\n      element.rel = \"stylesheet\";\n      element.type = \"text/css\";\n      element.href = url;\n      console.debug(\"Bokeh: injecting link tag for BokehJS stylesheet: \", url);\n      document.body.appendChild(element);\n    }\n\n    const hashes = {\"https://cdn.bokeh.org/bokeh/release/bokeh-2.3.1.min.js\": \"YF85VygJKMVnHE+lLv2AM93Vbstr0yo2TbIu5v8se5Rq3UQAUmcuh4aaJwNlpKwa\", \"https://cdn.bokeh.org/bokeh/release/bokeh-widgets-2.3.1.min.js\": \"KKuas3gevv3PvrlkyCMzffFeaMq5we/a2QsP5AUoS3mJ0jmaCL7jirFJN3GoE/lM\", \"https://cdn.bokeh.org/bokeh/release/bokeh-tables-2.3.1.min.js\": \"MK/uFc3YT18pkvvXRl66tTHjP0/dxoSH2e/eiNMFIguKlun2+WVqaPTWmUy/zvh4\"};\n\n    for (let i = 0; i < js_urls.length; i++) {\n      const url = js_urls[i];\n      const element = document.createElement('script');\n      element.onload = on_load;\n      element.onerror = on_error.bind(null, url);\n      element.async = false;\n      element.src = url;\n      if (url in hashes) {\n        element.crossOrigin = \"anonymous\";\n        element.integrity = \"sha384-\" + hashes[url];\n      }\n      console.debug(\"Bokeh: injecting script tag for BokehJS library: \", url);\n      document.head.appendChild(element);\n    }\n  };\n\n  function inject_raw_css(css) {\n    const element = document.createElement(\"style\");\n    element.appendChild(document.createTextNode(css));\n    document.body.appendChild(element);\n  }\n\n  \n  var js_urls = [\"https://cdn.bokeh.org/bokeh/release/bokeh-2.3.1.min.js\", \"https://cdn.bokeh.org/bokeh/release/bokeh-widgets-2.3.1.min.js\", \"https://cdn.bokeh.org/bokeh/release/bokeh-tables-2.3.1.min.js\"];\n  var css_urls = [];\n  \n\n  var inline_js = [\n    function(Bokeh) {\n      Bokeh.set_log_level(\"info\");\n    },\n    function(Bokeh) {\n    \n    \n    }\n  ];\n\n  function run_inline_js() {\n    \n    if (root.Bokeh !== undefined || force === true) {\n      \n    for (var i = 0; i < inline_js.length; i++) {\n      inline_js[i].call(root, root.Bokeh);\n    }\n    if (force === true) {\n        display_loaded();\n      }} else if (Date.now() < root._bokeh_timeout) {\n      setTimeout(run_inline_js, 100);\n    } else if (!root._bokeh_failed_load) {\n      console.log(\"Bokeh: BokehJS failed to load within specified timeout.\");\n      root._bokeh_failed_load = true;\n    } else if (force !== true) {\n      var cell = $(document.getElementById(\"1002\")).parents('.cell').data().cell;\n      cell.output_area.append_execute_result(NB_LOAD_WARNING)\n    }\n\n  }\n\n  if (root._bokeh_is_loading === 0) {\n    console.debug(\"Bokeh: BokehJS loaded, going straight to plotting\");\n    run_inline_js();\n  } else {\n    load_libs(css_urls, js_urls, function() {\n      console.debug(\"Bokeh: BokehJS plotting callback run at\", now());\n      run_inline_js();\n    });\n  }\n}(window));"
     },
     "metadata": {},
     "output_type": "display_data"
    }
   ],
   "source": [
    "#Importing required libraries\n",
    "\n",
    "import numpy as np\n",
    "import pandas as pd\n",
    "from random import seed\n",
    "from random import random\n",
    "import matplotlib.pyplot as plt\n",
    "import seaborn as sns\n",
    "import inspect\n",
    "from bokeh.io import curdoc, show\n",
    "from bokeh.models import ColumnDataSource, Grid, LabelSet, LinearAxis, Plot, Wedge, CategoricalColorMapper\n",
    "from bokeh.io import push_notebook, show, output_notebook\n",
    "from bokeh.plotting import figure\n",
    "from bokeh.layouts import row\n",
    "from matplotlib.colors import rgb2hex as rgb2hex\n",
    "import matplotlib.cm as cm\n",
    "\n",
    "output_notebook()"
   ]
  },
  {
   "cell_type": "code",
   "execution_count": 2,
   "id": "allied-equilibrium",
   "metadata": {
    "execution": {
     "iopub.execute_input": "2021-09-10T16:11:13.814982Z",
     "iopub.status.busy": "2021-09-10T16:11:13.813992Z",
     "iopub.status.idle": "2021-09-10T16:11:13.820192Z",
     "shell.execute_reply": "2021-09-10T16:11:13.820695Z",
     "shell.execute_reply.started": "2021-09-10T15:20:10.808156Z"
    },
    "papermill": {
     "duration": 0.038602,
     "end_time": "2021-09-10T16:11:13.820883",
     "exception": false,
     "start_time": "2021-09-10T16:11:13.782281",
     "status": "completed"
    },
    "tags": []
   },
   "outputs": [],
   "source": [
    "#Some helpers for inspecting variables\n",
    "def print_var(x):    \n",
    "    print(retrieve_name(x) + ': ' + str(x))\n",
    "\n",
    "def retrieve_name(var):\n",
    "    for fi in reversed(inspect.stack()):\n",
    "        names = [var_name for var_name, var_val in fi.frame.f_locals.items() if var_val is var]\n",
    "        if len(names) > 0:\n",
    "            return names[0]    "
   ]
  },
  {
   "cell_type": "markdown",
   "id": "introductory-atlanta",
   "metadata": {
    "papermill": {
     "duration": 0.027786,
     "end_time": "2021-09-10T16:11:13.878304",
     "exception": false,
     "start_time": "2021-09-10T16:11:13.850518",
     "status": "completed"
    },
    "tags": []
   },
   "source": [
    "Assuming that our Markov chain has state space:\n",
    "$$(1,2,3)$$\n",
    "\n",
    "The chain can be in one of these states at any given time, and the stochastic matrix needs to be in the form $3x3$ such as;\n",
    "\n",
    "$$P=\n",
    "\\begin{pmatrix}\n",
    "p_{11} & p_{12} & p_{13} \\\\\n",
    "p_{21} & p_{22} & p_{23} \\\\\n",
    "p_{31} & p_{32} & p_{33}\n",
    "\\end{pmatrix}\n",
    "$$\n",
    "\n",
    "In order to be used as a stochastic matrix, each row of the matrix need to sum up to 1: \n",
    "\n",
    "$$p_{11}+p_{12}+p_{13}=1$$ \n",
    "\n",
    "This implies that the total probability of transitioning to any one of the states (including itself), from a state should be ___1___ (certain event). In the cell below, we are defining a function for generating random NxN matrices to be used as state transition probabilities for Markov chains.\n",
    "\n"
   ]
  },
  {
   "cell_type": "code",
   "execution_count": 3,
   "id": "first-status",
   "metadata": {
    "execution": {
     "iopub.execute_input": "2021-09-10T16:11:13.938637Z",
     "iopub.status.busy": "2021-09-10T16:11:13.937593Z",
     "iopub.status.idle": "2021-09-10T16:11:13.945290Z",
     "shell.execute_reply": "2021-09-10T16:11:13.944670Z",
     "shell.execute_reply.started": "2021-09-10T15:20:10.834336Z"
    },
    "papermill": {
     "duration": 0.039168,
     "end_time": "2021-09-10T16:11:13.945437",
     "exception": false,
     "start_time": "2021-09-10T16:11:13.906269",
     "status": "completed"
    },
    "tags": []
   },
   "outputs": [],
   "source": [
    "def generate_P(N = 3):\n",
    "    '''\n",
    "    Generates a stochastic matrix with the specified size\n",
    "    '''\n",
    "    P = np.random.rand(N, N)   \n",
    "    #Divide each row by sum of the entire row to normalize row to 1\n",
    "    P = P/P.sum(axis=1)[:,None]\n",
    "    return P\n",
    "\n",
    "def noisify(base_p, noise_factor = 0.05):\n",
    "    '''\n",
    "    Adds random noise to given matrix\n",
    "    '''\n",
    "    (M,N) = base_p.shape\n",
    "    P = np.random.rand(N, N)   \n",
    "    #Divide each row by sum of the entire row to normalize row to 1\n",
    "    sampled = base_p + P * noise_factor\n",
    "    sampled = sampled/sampled.sum(axis=1)[:,None]\n",
    "    return sampled"
   ]
  },
  {
   "cell_type": "code",
   "execution_count": 4,
   "id": "affected-passage",
   "metadata": {
    "execution": {
     "iopub.execute_input": "2021-09-10T16:11:14.005181Z",
     "iopub.status.busy": "2021-09-10T16:11:14.004521Z",
     "iopub.status.idle": "2021-09-10T16:11:14.012263Z",
     "shell.execute_reply": "2021-09-10T16:11:14.012730Z",
     "shell.execute_reply.started": "2021-09-10T15:20:10.851258Z"
    },
    "papermill": {
     "duration": 0.039146,
     "end_time": "2021-09-10T16:11:14.012930",
     "exception": false,
     "start_time": "2021-09-10T16:11:13.973784",
     "status": "completed"
    },
    "tags": []
   },
   "outputs": [
    {
     "name": "stdout",
     "output_type": "stream",
     "text": [
      "[[0.06966012 0.32439543 0.60594445]\n",
      " [0.30753984 0.43372741 0.25873274]\n",
      " [0.39178367 0.51271749 0.09549885]]\n",
      "[[0.10880366 0.31918303 0.57201331]\n",
      " [0.31169766 0.42471918 0.26358316]\n",
      " [0.38444447 0.51222514 0.10333038]]\n",
      "[1. 1. 1.]\n"
     ]
    }
   ],
   "source": [
    "#Let's take a peek at an example stochastic matrix\n",
    "P = generate_P()\n",
    "noisy = noisify(P)\n",
    "print(P)\n",
    "print(noisy)\n",
    "print(noisy.sum(axis=1))#Make sure every row sums up to 1"
   ]
  },
  {
   "cell_type": "markdown",
   "id": "leading-newcastle",
   "metadata": {
    "papermill": {
     "duration": 0.02819,
     "end_time": "2021-09-10T16:11:14.069890",
     "exception": false,
     "start_time": "2021-09-10T16:11:14.041700",
     "status": "completed"
    },
    "tags": []
   },
   "source": [
    "<a id='generate-sequence-from-p'></a>\n",
    "### Generating Samples from a Model\n",
    "\n",
    "In the next cell, we will define a function to iterate a markov chain, that takes current state of the chain and the stochastic matrix as inputs, and generates the next sample accordingly.\n",
    "\n",
    "Given the current state, we first slice the stochastic matrix to obtain the row with state transition probabilities that are originating from the current state. \n",
    "\n",
    "As an example, if the current state is ___'2'___, the associated row of the stochastic matrix would be:\n",
    "\n",
    "$$\n",
    "\\begin{pmatrix}\n",
    "p_{21} & p_{22} & p_{23}\n",
    "\\end{pmatrix}\n",
    "$$\n",
    "\n",
    "To obtain the next state of the chain, we can use these values as probability mass function of a multinomial distribution and sample from that distribution. \n",
    "\n",
    "The function below is heavily commented, so please check in case you are looking to understand the steps. Please note that below implementation is probably less efficient than a library implementation of multinomial random number generation such as numpy, however is beneficial for understand the inner workings of the algorithm."
   ]
  },
  {
   "cell_type": "code",
   "execution_count": 5,
   "id": "sealed-shade",
   "metadata": {
    "execution": {
     "iopub.execute_input": "2021-09-10T16:11:14.134940Z",
     "iopub.status.busy": "2021-09-10T16:11:14.134270Z",
     "iopub.status.idle": "2021-09-10T16:11:14.137510Z",
     "shell.execute_reply": "2021-09-10T16:11:14.137007Z",
     "shell.execute_reply.started": "2021-09-10T15:20:10.868469Z"
    },
    "papermill": {
     "duration": 0.039321,
     "end_time": "2021-09-10T16:11:14.137664",
     "exception": false,
     "start_time": "2021-09-10T16:11:14.098343",
     "status": "completed"
    },
    "tags": []
   },
   "outputs": [],
   "source": [
    "def iterate_process(current_state, P):\n",
    "    x,y = P.shape\n",
    "    if(x != y):\n",
    "        raise ValueError('State transition matrix needs to be a square matrix')\n",
    "        \n",
    "    if(current_state >= x):\n",
    "        raise ValueError(f\"Current state should be a in {range(x)}\")\n",
    "    \n",
    "    if(current_state < 0):\n",
    "        raise ValueError('Current state should be a positive integer')\n",
    "    \n",
    "    #Get the row with index of the current state, mask other rows out\n",
    "    #That row is the multinomial  probability mass function, that lists the \n",
    "    #discrete probability values for transitioning to target states from the current state\n",
    "    \n",
    "    pmf = np.ma.masked_values((P[current_state]), 0.0) \n",
    "    \n",
    "    \n",
    "    cdf = np.cumsum(pmf) #Compute cdf from pmf\n",
    "    cdf = np.insert(cdf, 0, 0) #Insert 0 to the 0th position\n",
    "        \n",
    "    r = np.random.uniform(0.0, 1.0) #Sample from uniform [0,1]\n",
    "    m = (np.where(cdf < r))[0] #Get indices of elements with value less than 'r'\n",
    "    next_state=m[len(m)-1] #Next state is the \n",
    "    return next_state"
   ]
  },
  {
   "cell_type": "markdown",
   "id": "employed-despite",
   "metadata": {
    "papermill": {
     "duration": 0.028427,
     "end_time": "2021-09-10T16:11:14.194483",
     "exception": false,
     "start_time": "2021-09-10T16:11:14.166056",
     "status": "completed"
    },
    "tags": []
   },
   "source": [
    "Now that we have defined methods for generating the stochastic matrix and iterating the Markov chain, we can go ahead and put these together to generate a sequence of samples.\n",
    "Below function generates a realization of the random process with specified length"
   ]
  },
  {
   "cell_type": "code",
   "execution_count": 6,
   "id": "received-birmingham",
   "metadata": {
    "execution": {
     "iopub.execute_input": "2021-09-10T16:11:14.257588Z",
     "iopub.status.busy": "2021-09-10T16:11:14.256713Z",
     "iopub.status.idle": "2021-09-10T16:11:14.259822Z",
     "shell.execute_reply": "2021-09-10T16:11:14.260406Z",
     "shell.execute_reply.started": "2021-09-10T15:20:10.884398Z"
    },
    "papermill": {
     "duration": 0.03772,
     "end_time": "2021-09-10T16:11:14.260648",
     "exception": false,
     "start_time": "2021-09-10T16:11:14.222928",
     "status": "completed"
    },
    "tags": []
   },
   "outputs": [],
   "source": [
    "def generate_sequence(P, l=1000):\n",
    "    state = 0\n",
    "    sequence = []\n",
    "    \n",
    "    for i in range(l):\n",
    "        #Appending each new sample to the array to obtain a time-series\n",
    "        sequence.append(state)\n",
    "        state = iterate_process(state, P)\n",
    "        \n",
    "    return sequence"
   ]
  },
  {
   "cell_type": "markdown",
   "id": "accurate-argument",
   "metadata": {
    "papermill": {
     "duration": 0.028117,
     "end_time": "2021-09-10T16:11:14.317261",
     "exception": false,
     "start_time": "2021-09-10T16:11:14.289144",
     "status": "completed"
    },
    "tags": []
   },
   "source": [
    "<a id='visualize-sequence'></a>\n",
    "### Visualizing Sequences and Stochastic Matrices\n",
    "\n",
    "As the next step, we can visualize the results to gain some insigth into the random process we have synthesized. \n",
    "\n",
    "For concreteness of the example let's assume that these sequences are generated by a real case as described below:\n",
    "\n",
    "Assume that there's an IoT device installed on a road with 2 lanes, that observes how many vehicles are passing in front of it and reports this information to a cloud service, at regular time intervals. Since the road has 2 lanes, the number of vehicles that can appear in device's observation area can be either 0, 1 or 2 at most. \n",
    "\n",
    "After collecting these measurements, the resulting data would look something like below:\n",
    "\n",
    "$$[0,1,0,1,2,1,1,0,0,{\\dotsb}2,1,1,2,1,2,2,1,2]$$\n",
    "\n",
    "Several remarks can be made by inspecting the sequence.\n"
   ]
  },
  {
   "cell_type": "code",
   "execution_count": 7,
   "id": "touched-confirmation",
   "metadata": {
    "execution": {
     "iopub.execute_input": "2021-09-10T16:11:14.378002Z",
     "iopub.status.busy": "2021-09-10T16:11:14.377278Z",
     "iopub.status.idle": "2021-09-10T16:11:14.391144Z",
     "shell.execute_reply": "2021-09-10T16:11:14.391658Z",
     "shell.execute_reply.started": "2021-09-10T15:20:10.918417Z"
    },
    "papermill": {
     "duration": 0.045814,
     "end_time": "2021-09-10T16:11:14.391845",
     "exception": false,
     "start_time": "2021-09-10T16:11:14.346031",
     "status": "completed"
    },
    "tags": []
   },
   "outputs": [],
   "source": [
    "#Define some functions to be used for visualizing a single sequence along with it's stochastic matrix\n",
    "\n",
    "def get_sample_figure(samples, h, w):\n",
    "    '''\n",
    "    Generates a heatmap-like figure for visualizing sequences\n",
    "    '''\n",
    "    plot_samples = figure(\n",
    "    title=\"# of Vehicles vs Time\",\n",
    "    x_axis_label=\"Sample Index\",\n",
    "    width=w,\n",
    "    height=h)    \n",
    "    \n",
    "    palette=['#1f59b9','#f9b749','#9528c7']\n",
    "    colors = [palette[i] for i in samples]\n",
    "    index = range(len(samples))\n",
    "    plot_samples.rect(index, y=0.3, width=1,\n",
    "       height=1, color=colors)\n",
    "    plot_samples.yaxis.visible=False\n",
    "    \n",
    "    return plot_samples\n",
    "\n",
    "def get_matrix_figure(P, h, title = 'Stochastic Matrix'):\n",
    "    '''\n",
    "    Plots a matrix as a heatmap\n",
    "    '''\n",
    "    map_range = ['s0', 's1', 's2']\n",
    "    \n",
    "    plot_matrix= figure(\n",
    "        title=title, width=h,\n",
    "        height=h, toolbar_location=None,\n",
    "        x_range=map_range, y_range=map_range\n",
    "    )\n",
    "    x = [0.5,1.5,2.5,0.5,1.5,2.5,0.5,1.5,2.5]\n",
    "    y = [0.5,0.5,0.5,1.5,1.5,1.5,2.5,2.5,2.5]\n",
    "    \n",
    "    cmap=cm.jet\n",
    "    matrix_colors = [rgb2hex(cmap(c)) for c in P.flatten()]\n",
    "    plot_matrix.rect(x, y, color=matrix_colors, width=1, height=1)\n",
    "\n",
    "\n",
    "    x_annot = [0,0,0,1,1,1,2,2,2]\n",
    "    y_annot = [0,1,2,0,1,2,0,1,2]\n",
    "    \n",
    "    label_source = ColumnDataSource(data=dict(x=x, y=y, vals= np.round(P.flatten(),3)))   \n",
    "    labels = LabelSet(x='x', y='y', text='vals',\n",
    "                      x_offset=-12, y_offset=-5, source=label_source,\n",
    "                      render_mode='css',text_font_size='1em', text_color='white')\n",
    "\n",
    "\n",
    "    plot_matrix.add_layout(labels)\n",
    "    #plot_matrix.add_tools(HoverTool(tooltips=None))\n",
    "    return plot_matrix\n",
    "\n",
    "def plot_sequence(P, samples, h=175, w=1000):\n",
    "    \n",
    "    plot_samples = get_sample_figure(samples, h, w)\n",
    "    plot_matrix = get_matrix_figure(P, h)\n",
    "\n",
    "    show(row(plot_matrix, plot_samples))\n",
    "    "
   ]
  },
  {
   "cell_type": "code",
   "execution_count": 8,
   "id": "approved-declaration",
   "metadata": {
    "execution": {
     "iopub.execute_input": "2021-09-10T16:11:14.452993Z",
     "iopub.status.busy": "2021-09-10T16:11:14.452353Z",
     "iopub.status.idle": "2021-09-10T16:11:14.592807Z",
     "shell.execute_reply": "2021-09-10T16:11:14.593351Z",
     "shell.execute_reply.started": "2021-09-10T15:20:11.035837Z"
    },
    "papermill": {
     "duration": 0.172744,
     "end_time": "2021-09-10T16:11:14.593520",
     "exception": false,
     "start_time": "2021-09-10T16:11:14.420776",
     "status": "completed"
    },
    "tags": []
   },
   "outputs": [
    {
     "data": {
      "text/html": [
       "\n",
       "\n",
       "\n",
       "\n",
       "\n",
       "\n",
       "  <div class=\"bk-root\" id=\"7ce498c0-8382-4f8e-9e4a-5f8771912834\" data-root-id=\"1080\"></div>\n"
      ]
     },
     "metadata": {},
     "output_type": "display_data"
    },
    {
     "data": {
      "application/javascript": [
       "(function(root) {\n",
       "  function embed_document(root) {\n",
       "    \n",
       "  var docs_json = {\"7148875e-b758-42d2-9fd2-7f05effc52eb\":{\"defs\":[],\"roots\":{\"references\":[{\"attributes\":{\"children\":[{\"id\":\"1041\"},{\"id\":\"1003\"}]},\"id\":\"1080\",\"type\":\"Row\"},{\"attributes\":{},\"id\":\"1063\",\"type\":\"HelpTool\"},{\"attributes\":{},\"id\":\"1019\",\"type\":\"BasicTicker\"},{\"attributes\":{\"formatter\":{\"id\":\"1088\"},\"major_label_policy\":{\"id\":\"1086\"},\"ticker\":{\"id\":\"1053\"}},\"id\":\"1052\",\"type\":\"CategoricalAxis\"},{\"attributes\":{\"data\":{\"fill_color\":[\"#1f59b9\",\"#1f59b9\",\"#9528c7\",\"#f9b749\",\"#1f59b9\",\"#9528c7\",\"#f9b749\",\"#9528c7\",\"#9528c7\",\"#f9b749\",\"#9528c7\",\"#1f59b9\",\"#9528c7\",\"#1f59b9\",\"#1f59b9\",\"#1f59b9\",\"#1f59b9\",\"#9528c7\",\"#f9b749\",\"#1f59b9\",\"#1f59b9\",\"#1f59b9\",\"#9528c7\",\"#f9b749\",\"#f9b749\",\"#f9b749\",\"#f9b749\",\"#f9b749\",\"#9528c7\",\"#f9b749\",\"#1f59b9\",\"#9528c7\",\"#9528c7\",\"#f9b749\",\"#9528c7\",\"#f9b749\",\"#f9b749\",\"#f9b749\",\"#f9b749\",\"#9528c7\",\"#f9b749\",\"#9528c7\",\"#f9b749\",\"#1f59b9\",\"#1f59b9\",\"#9528c7\",\"#f9b749\",\"#1f59b9\",\"#1f59b9\",\"#1f59b9\",\"#9528c7\",\"#9528c7\",\"#9528c7\",\"#f9b749\",\"#9528c7\",\"#1f59b9\",\"#1f59b9\",\"#9528c7\",\"#f9b749\",\"#1f59b9\",\"#9528c7\",\"#f9b749\",\"#f9b749\",\"#1f59b9\",\"#1f59b9\",\"#1f59b9\",\"#9528c7\",\"#9528c7\",\"#f9b749\",\"#1f59b9\",\"#9528c7\",\"#f9b749\",\"#f9b749\",\"#1f59b9\",\"#9528c7\",\"#f9b749\",\"#f9b749\",\"#f9b749\",\"#1f59b9\",\"#9528c7\",\"#9528c7\",\"#1f59b9\",\"#1f59b9\",\"#1f59b9\",\"#9528c7\",\"#f9b749\",\"#1f59b9\",\"#1f59b9\",\"#9528c7\",\"#f9b749\",\"#1f59b9\",\"#9528c7\",\"#9528c7\",\"#1f59b9\",\"#9528c7\",\"#9528c7\",\"#9528c7\",\"#f9b749\",\"#1f59b9\",\"#9528c7\",\"#f9b749\",\"#1f59b9\",\"#1f59b9\",\"#9528c7\",\"#f9b749\",\"#f9b749\",\"#f9b749\",\"#9528c7\",\"#f9b749\",\"#1f59b9\",\"#9528c7\",\"#f9b749\",\"#f9b749\",\"#f9b749\",\"#1f59b9\",\"#1f59b9\",\"#1f59b9\",\"#1f59b9\",\"#1f59b9\",\"#9528c7\",\"#f9b749\",\"#1f59b9\",\"#1f59b9\",\"#1f59b9\",\"#1f59b9\",\"#1f59b9\",\"#9528c7\",\"#f9b749\",\"#9528c7\",\"#9528c7\",\"#1f59b9\",\"#1f59b9\",\"#9528c7\",\"#1f59b9\",\"#9528c7\",\"#f9b749\",\"#9528c7\",\"#f9b749\",\"#9528c7\",\"#1f59b9\",\"#1f59b9\",\"#9528c7\",\"#1f59b9\",\"#1f59b9\",\"#1f59b9\",\"#9528c7\",\"#1f59b9\",\"#1f59b9\",\"#1f59b9\",\"#1f59b9\",\"#9528c7\",\"#f9b749\",\"#9528c7\",\"#f9b749\",\"#f9b749\",\"#1f59b9\",\"#9528c7\",\"#9528c7\",\"#f9b749\",\"#1f59b9\",\"#1f59b9\",\"#f9b749\",\"#f9b749\",\"#f9b749\",\"#1f59b9\",\"#1f59b9\",\"#f9b749\",\"#f9b749\",\"#9528c7\",\"#9528c7\",\"#f9b749\",\"#9528c7\",\"#f9b749\",\"#f9b749\",\"#9528c7\",\"#9528c7\",\"#f9b749\",\"#9528c7\",\"#f9b749\",\"#f9b749\",\"#1f59b9\",\"#1f59b9\",\"#9528c7\",\"#1f59b9\",\"#9528c7\",\"#f9b749\",\"#1f59b9\",\"#1f59b9\",\"#9528c7\",\"#f9b749\",\"#9528c7\",\"#f9b749\",\"#f9b749\",\"#f9b749\",\"#1f59b9\",\"#1f59b9\",\"#1f59b9\",\"#9528c7\",\"#9528c7\",\"#f9b749\",\"#9528c7\",\"#9528c7\",\"#9528c7\",\"#9528c7\",\"#1f59b9\",\"#1f59b9\",\"#1f59b9\",\"#9528c7\",\"#9528c7\",\"#f9b749\",\"#f9b749\",\"#9528c7\",\"#9528c7\",\"#f9b749\",\"#9528c7\",\"#9528c7\",\"#1f59b9\",\"#1f59b9\",\"#f9b749\",\"#1f59b9\",\"#9528c7\",\"#f9b749\",\"#f9b749\",\"#9528c7\",\"#f9b749\",\"#1f59b9\",\"#9528c7\",\"#f9b749\",\"#9528c7\",\"#f9b749\",\"#f9b749\",\"#9528c7\",\"#f9b749\",\"#1f59b9\",\"#9528c7\",\"#f9b749\",\"#1f59b9\",\"#9528c7\",\"#9528c7\",\"#f9b749\",\"#9528c7\",\"#9528c7\",\"#1f59b9\",\"#9528c7\",\"#f9b749\",\"#1f59b9\",\"#9528c7\",\"#f9b749\",\"#1f59b9\",\"#1f59b9\"],\"line_color\":[\"#1f59b9\",\"#1f59b9\",\"#9528c7\",\"#f9b749\",\"#1f59b9\",\"#9528c7\",\"#f9b749\",\"#9528c7\",\"#9528c7\",\"#f9b749\",\"#9528c7\",\"#1f59b9\",\"#9528c7\",\"#1f59b9\",\"#1f59b9\",\"#1f59b9\",\"#1f59b9\",\"#9528c7\",\"#f9b749\",\"#1f59b9\",\"#1f59b9\",\"#1f59b9\",\"#9528c7\",\"#f9b749\",\"#f9b749\",\"#f9b749\",\"#f9b749\",\"#f9b749\",\"#9528c7\",\"#f9b749\",\"#1f59b9\",\"#9528c7\",\"#9528c7\",\"#f9b749\",\"#9528c7\",\"#f9b749\",\"#f9b749\",\"#f9b749\",\"#f9b749\",\"#9528c7\",\"#f9b749\",\"#9528c7\",\"#f9b749\",\"#1f59b9\",\"#1f59b9\",\"#9528c7\",\"#f9b749\",\"#1f59b9\",\"#1f59b9\",\"#1f59b9\",\"#9528c7\",\"#9528c7\",\"#9528c7\",\"#f9b749\",\"#9528c7\",\"#1f59b9\",\"#1f59b9\",\"#9528c7\",\"#f9b749\",\"#1f59b9\",\"#9528c7\",\"#f9b749\",\"#f9b749\",\"#1f59b9\",\"#1f59b9\",\"#1f59b9\",\"#9528c7\",\"#9528c7\",\"#f9b749\",\"#1f59b9\",\"#9528c7\",\"#f9b749\",\"#f9b749\",\"#1f59b9\",\"#9528c7\",\"#f9b749\",\"#f9b749\",\"#f9b749\",\"#1f59b9\",\"#9528c7\",\"#9528c7\",\"#1f59b9\",\"#1f59b9\",\"#1f59b9\",\"#9528c7\",\"#f9b749\",\"#1f59b9\",\"#1f59b9\",\"#9528c7\",\"#f9b749\",\"#1f59b9\",\"#9528c7\",\"#9528c7\",\"#1f59b9\",\"#9528c7\",\"#9528c7\",\"#9528c7\",\"#f9b749\",\"#1f59b9\",\"#9528c7\",\"#f9b749\",\"#1f59b9\",\"#1f59b9\",\"#9528c7\",\"#f9b749\",\"#f9b749\",\"#f9b749\",\"#9528c7\",\"#f9b749\",\"#1f59b9\",\"#9528c7\",\"#f9b749\",\"#f9b749\",\"#f9b749\",\"#1f59b9\",\"#1f59b9\",\"#1f59b9\",\"#1f59b9\",\"#1f59b9\",\"#9528c7\",\"#f9b749\",\"#1f59b9\",\"#1f59b9\",\"#1f59b9\",\"#1f59b9\",\"#1f59b9\",\"#9528c7\",\"#f9b749\",\"#9528c7\",\"#9528c7\",\"#1f59b9\",\"#1f59b9\",\"#9528c7\",\"#1f59b9\",\"#9528c7\",\"#f9b749\",\"#9528c7\",\"#f9b749\",\"#9528c7\",\"#1f59b9\",\"#1f59b9\",\"#9528c7\",\"#1f59b9\",\"#1f59b9\",\"#1f59b9\",\"#9528c7\",\"#1f59b9\",\"#1f59b9\",\"#1f59b9\",\"#1f59b9\",\"#9528c7\",\"#f9b749\",\"#9528c7\",\"#f9b749\",\"#f9b749\",\"#1f59b9\",\"#9528c7\",\"#9528c7\",\"#f9b749\",\"#1f59b9\",\"#1f59b9\",\"#f9b749\",\"#f9b749\",\"#f9b749\",\"#1f59b9\",\"#1f59b9\",\"#f9b749\",\"#f9b749\",\"#9528c7\",\"#9528c7\",\"#f9b749\",\"#9528c7\",\"#f9b749\",\"#f9b749\",\"#9528c7\",\"#9528c7\",\"#f9b749\",\"#9528c7\",\"#f9b749\",\"#f9b749\",\"#1f59b9\",\"#1f59b9\",\"#9528c7\",\"#1f59b9\",\"#9528c7\",\"#f9b749\",\"#1f59b9\",\"#1f59b9\",\"#9528c7\",\"#f9b749\",\"#9528c7\",\"#f9b749\",\"#f9b749\",\"#f9b749\",\"#1f59b9\",\"#1f59b9\",\"#1f59b9\",\"#9528c7\",\"#9528c7\",\"#f9b749\",\"#9528c7\",\"#9528c7\",\"#9528c7\",\"#9528c7\",\"#1f59b9\",\"#1f59b9\",\"#1f59b9\",\"#9528c7\",\"#9528c7\",\"#f9b749\",\"#f9b749\",\"#9528c7\",\"#9528c7\",\"#f9b749\",\"#9528c7\",\"#9528c7\",\"#1f59b9\",\"#1f59b9\",\"#f9b749\",\"#1f59b9\",\"#9528c7\",\"#f9b749\",\"#f9b749\",\"#9528c7\",\"#f9b749\",\"#1f59b9\",\"#9528c7\",\"#f9b749\",\"#9528c7\",\"#f9b749\",\"#f9b749\",\"#9528c7\",\"#f9b749\",\"#1f59b9\",\"#9528c7\",\"#f9b749\",\"#1f59b9\",\"#9528c7\",\"#9528c7\",\"#f9b749\",\"#9528c7\",\"#9528c7\",\"#1f59b9\",\"#9528c7\",\"#f9b749\",\"#1f59b9\",\"#9528c7\",\"#f9b749\",\"#1f59b9\",\"#1f59b9\"],\"x\":[0,1,2,3,4,5,6,7,8,9,10,11,12,13,14,15,16,17,18,19,20,21,22,23,24,25,26,27,28,29,30,31,32,33,34,35,36,37,38,39,40,41,42,43,44,45,46,47,48,49,50,51,52,53,54,55,56,57,58,59,60,61,62,63,64,65,66,67,68,69,70,71,72,73,74,75,76,77,78,79,80,81,82,83,84,85,86,87,88,89,90,91,92,93,94,95,96,97,98,99,100,101,102,103,104,105,106,107,108,109,110,111,112,113,114,115,116,117,118,119,120,121,122,123,124,125,126,127,128,129,130,131,132,133,134,135,136,137,138,139,140,141,142,143,144,145,146,147,148,149,150,151,152,153,154,155,156,157,158,159,160,161,162,163,164,165,166,167,168,169,170,171,172,173,174,175,176,177,178,179,180,181,182,183,184,185,186,187,188,189,190,191,192,193,194,195,196,197,198,199,200,201,202,203,204,205,206,207,208,209,210,211,212,213,214,215,216,217,218,219,220,221,222,223,224,225,226,227,228,229,230,231,232,233,234,235,236,237,238,239,240,241,242,243,244,245,246,247,248,249]},\"selected\":{\"id\":\"1100\"},\"selection_policy\":{\"id\":\"1101\"}},\"id\":\"1036\",\"type\":\"ColumnDataSource\"},{\"attributes\":{\"render_mode\":\"css\",\"source\":{\"id\":\"1077\"},\"text\":{\"field\":\"vals\"},\"text_color\":{\"value\":\"white\"},\"text_font_size\":{\"value\":\"1em\"},\"x\":{\"field\":\"x\"},\"x_offset\":{\"value\":-12},\"y\":{\"field\":\"y\"},\"y_offset\":{\"value\":-5}},\"id\":\"1078\",\"type\":\"LabelSet\"},{\"attributes\":{\"axis\":{\"id\":\"1014\"},\"ticker\":null},\"id\":\"1017\",\"type\":\"Grid\"},{\"attributes\":{},\"id\":\"1088\",\"type\":\"CategoricalTickFormatter\"},{\"attributes\":{\"source\":{\"id\":\"1036\"}},\"id\":\"1040\",\"type\":\"CDSView\"},{\"attributes\":{\"below\":[{\"id\":\"1052\"}],\"center\":[{\"id\":\"1054\"},{\"id\":\"1057\"},{\"id\":\"1078\"}],\"height\":175,\"left\":[{\"id\":\"1055\"}],\"renderers\":[{\"id\":\"1075\"}],\"title\":{\"id\":\"1042\"},\"toolbar\":{\"id\":\"1065\"},\"toolbar_location\":null,\"width\":175,\"x_range\":{\"id\":\"1044\"},\"x_scale\":{\"id\":\"1048\"},\"y_range\":{\"id\":\"1046\"},\"y_scale\":{\"id\":\"1050\"}},\"id\":\"1041\",\"subtype\":\"Figure\",\"type\":\"Plot\"},{\"attributes\":{\"axis\":{\"id\":\"1055\"},\"dimension\":1,\"ticker\":null},\"id\":\"1057\",\"type\":\"Grid\"},{\"attributes\":{\"text\":\"# of Vehicles vs Time\"},\"id\":\"1004\",\"type\":\"Title\"},{\"attributes\":{\"fill_color\":{\"field\":\"fill_color\"},\"height\":{\"value\":1},\"line_color\":{\"field\":\"line_color\"},\"width\":{\"value\":1},\"x\":{\"field\":\"x\"},\"y\":{\"field\":\"y\"}},\"id\":\"1073\",\"type\":\"Rect\"},{\"attributes\":{},\"id\":\"1056\",\"type\":\"CategoricalTicker\"},{\"attributes\":{},\"id\":\"1091\",\"type\":\"BasicTickFormatter\"},{\"attributes\":{\"factors\":[\"s0\",\"s1\",\"s2\"]},\"id\":\"1044\",\"type\":\"FactorRange\"},{\"attributes\":{},\"id\":\"1050\",\"type\":\"CategoricalScale\"},{\"attributes\":{},\"id\":\"1085\",\"type\":\"CategoricalTickFormatter\"},{\"attributes\":{},\"id\":\"1092\",\"type\":\"AllLabels\"},{\"attributes\":{\"bottom_units\":\"screen\",\"fill_alpha\":0.5,\"fill_color\":\"lightgrey\",\"left_units\":\"screen\",\"level\":\"overlay\",\"line_alpha\":1.0,\"line_color\":\"black\",\"line_dash\":[4,4],\"line_width\":2,\"right_units\":\"screen\",\"syncable\":false,\"top_units\":\"screen\"},\"id\":\"1028\",\"type\":\"BoxAnnotation\"},{\"attributes\":{},\"id\":\"1089\",\"type\":\"AllLabels\"},{\"attributes\":{\"data\":{\"fill_color\":[\"#43ffb4\",\"#00009b\",\"#a0ff56\",\"#0cf4eb\",\"#02e8f4\",\"#009cff\",\"#0038ff\",\"#a7ff50\",\"#0090ff\"],\"line_color\":[\"#43ffb4\",\"#00009b\",\"#a0ff56\",\"#0cf4eb\",\"#02e8f4\",\"#009cff\",\"#0038ff\",\"#a7ff50\",\"#0090ff\"],\"x\":[0.5,1.5,2.5,0.5,1.5,2.5,0.5,1.5,2.5],\"y\":[0.5,0.5,0.5,1.5,1.5,1.5,2.5,2.5,2.5]},\"selected\":{\"id\":\"1095\"},\"selection_policy\":{\"id\":\"1096\"}},\"id\":\"1072\",\"type\":\"ColumnDataSource\"},{\"attributes\":{},\"id\":\"1086\",\"type\":\"AllLabels\"},{\"attributes\":{},\"id\":\"1094\",\"type\":\"BasicTickFormatter\"},{\"attributes\":{\"formatter\":{\"id\":\"1085\"},\"major_label_policy\":{\"id\":\"1083\"},\"ticker\":{\"id\":\"1056\"}},\"id\":\"1055\",\"type\":\"CategoricalAxis\"},{\"attributes\":{},\"id\":\"1023\",\"type\":\"WheelZoomTool\"},{\"attributes\":{\"data_source\":{\"id\":\"1036\"},\"glyph\":{\"id\":\"1037\"},\"hover_glyph\":null,\"muted_glyph\":null,\"nonselection_glyph\":{\"id\":\"1038\"},\"view\":{\"id\":\"1040\"}},\"id\":\"1039\",\"type\":\"GlyphRenderer\"},{\"attributes\":{},\"id\":\"1012\",\"type\":\"LinearScale\"},{\"attributes\":{},\"id\":\"1053\",\"type\":\"CategoricalTicker\"},{\"attributes\":{},\"id\":\"1095\",\"type\":\"Selection\"},{\"attributes\":{\"below\":[{\"id\":\"1014\"}],\"center\":[{\"id\":\"1017\"},{\"id\":\"1021\"}],\"height\":175,\"left\":[{\"id\":\"1018\"}],\"renderers\":[{\"id\":\"1039\"}],\"title\":{\"id\":\"1004\"},\"toolbar\":{\"id\":\"1029\"},\"width\":1000,\"x_range\":{\"id\":\"1006\"},\"x_scale\":{\"id\":\"1010\"},\"y_range\":{\"id\":\"1008\"},\"y_scale\":{\"id\":\"1012\"}},\"id\":\"1003\",\"subtype\":\"Figure\",\"type\":\"Plot\"},{\"attributes\":{},\"id\":\"1096\",\"type\":\"UnionRenderers\"},{\"attributes\":{\"axis\":{\"id\":\"1052\"},\"ticker\":null},\"id\":\"1054\",\"type\":\"Grid\"},{\"attributes\":{\"fill_alpha\":{\"value\":0.1},\"fill_color\":{\"field\":\"fill_color\"},\"height\":{\"value\":1},\"line_alpha\":{\"value\":0.1},\"line_color\":{\"field\":\"line_color\"},\"width\":{\"value\":1},\"x\":{\"field\":\"x\"},\"y\":{\"field\":\"y\"}},\"id\":\"1074\",\"type\":\"Rect\"},{\"attributes\":{\"active_multi\":null,\"tools\":[{\"id\":\"1058\"},{\"id\":\"1059\"},{\"id\":\"1060\"},{\"id\":\"1061\"},{\"id\":\"1062\"},{\"id\":\"1063\"}]},\"id\":\"1065\",\"type\":\"Toolbar\"},{\"attributes\":{},\"id\":\"1022\",\"type\":\"PanTool\"},{\"attributes\":{},\"id\":\"1097\",\"type\":\"Selection\"},{\"attributes\":{\"factors\":[\"s0\",\"s1\",\"s2\"]},\"id\":\"1046\",\"type\":\"FactorRange\"},{\"attributes\":{},\"id\":\"1059\",\"type\":\"WheelZoomTool\"},{\"attributes\":{\"bottom_units\":\"screen\",\"fill_alpha\":0.5,\"fill_color\":\"lightgrey\",\"left_units\":\"screen\",\"level\":\"overlay\",\"line_alpha\":1.0,\"line_color\":\"black\",\"line_dash\":[4,4],\"line_width\":2,\"right_units\":\"screen\",\"syncable\":false,\"top_units\":\"screen\"},\"id\":\"1064\",\"type\":\"BoxAnnotation\"},{\"attributes\":{\"formatter\":{\"id\":\"1091\"},\"major_label_policy\":{\"id\":\"1089\"},\"ticker\":{\"id\":\"1019\"},\"visible\":false},\"id\":\"1018\",\"type\":\"LinearAxis\"},{\"attributes\":{},\"id\":\"1083\",\"type\":\"AllLabels\"},{\"attributes\":{},\"id\":\"1098\",\"type\":\"UnionRenderers\"},{\"attributes\":{\"overlay\":{\"id\":\"1028\"}},\"id\":\"1024\",\"type\":\"BoxZoomTool\"},{\"attributes\":{},\"id\":\"1025\",\"type\":\"SaveTool\"},{\"attributes\":{},\"id\":\"1100\",\"type\":\"Selection\"},{\"attributes\":{},\"id\":\"1058\",\"type\":\"PanTool\"},{\"attributes\":{},\"id\":\"1027\",\"type\":\"HelpTool\"},{\"attributes\":{\"axis_label\":\"Sample Index\",\"formatter\":{\"id\":\"1094\"},\"major_label_policy\":{\"id\":\"1092\"},\"ticker\":{\"id\":\"1015\"}},\"id\":\"1014\",\"type\":\"LinearAxis\"},{\"attributes\":{\"overlay\":{\"id\":\"1064\"}},\"id\":\"1060\",\"type\":\"BoxZoomTool\"},{\"attributes\":{},\"id\":\"1101\",\"type\":\"UnionRenderers\"},{\"attributes\":{},\"id\":\"1008\",\"type\":\"DataRange1d\"},{\"attributes\":{},\"id\":\"1061\",\"type\":\"SaveTool\"},{\"attributes\":{\"axis\":{\"id\":\"1018\"},\"dimension\":1,\"ticker\":null},\"id\":\"1021\",\"type\":\"Grid\"},{\"attributes\":{},\"id\":\"1026\",\"type\":\"ResetTool\"},{\"attributes\":{\"data_source\":{\"id\":\"1072\"},\"glyph\":{\"id\":\"1073\"},\"hover_glyph\":null,\"muted_glyph\":null,\"nonselection_glyph\":{\"id\":\"1074\"},\"view\":{\"id\":\"1076\"}},\"id\":\"1075\",\"type\":\"GlyphRenderer\"},{\"attributes\":{\"text\":\"Stochastic Matrix\"},\"id\":\"1042\",\"type\":\"Title\"},{\"attributes\":{},\"id\":\"1048\",\"type\":\"CategoricalScale\"},{\"attributes\":{},\"id\":\"1010\",\"type\":\"LinearScale\"},{\"attributes\":{},\"id\":\"1062\",\"type\":\"ResetTool\"},{\"attributes\":{\"fill_color\":{\"field\":\"fill_color\"},\"height\":{\"value\":1},\"line_color\":{\"field\":\"line_color\"},\"width\":{\"value\":1},\"x\":{\"field\":\"x\"},\"y\":{\"value\":0.3}},\"id\":\"1037\",\"type\":\"Rect\"},{\"attributes\":{\"fill_alpha\":{\"value\":0.1},\"fill_color\":{\"field\":\"fill_color\"},\"height\":{\"value\":1},\"line_alpha\":{\"value\":0.1},\"line_color\":{\"field\":\"line_color\"},\"width\":{\"value\":1},\"x\":{\"field\":\"x\"},\"y\":{\"value\":0.3}},\"id\":\"1038\",\"type\":\"Rect\"},{\"attributes\":{\"active_multi\":null,\"tools\":[{\"id\":\"1022\"},{\"id\":\"1023\"},{\"id\":\"1024\"},{\"id\":\"1025\"},{\"id\":\"1026\"},{\"id\":\"1027\"}]},\"id\":\"1029\",\"type\":\"Toolbar\"},{\"attributes\":{\"data\":{\"vals\":{\"__ndarray__\":\"L90kBoGV2z85tMh2vp+aP8dLN4lBYOE/sHJoke181z8OLbKd76fWP0Jg5dAi29E/sp3vp8ZLxz9vEoPAyqHhP0oMAiuHFtE/\",\"dtype\":\"float64\",\"order\":\"little\",\"shape\":[9]},\"x\":[0.5,1.5,2.5,0.5,1.5,2.5,0.5,1.5,2.5],\"y\":[0.5,0.5,0.5,1.5,1.5,1.5,2.5,2.5,2.5]},\"selected\":{\"id\":\"1097\"},\"selection_policy\":{\"id\":\"1098\"}},\"id\":\"1077\",\"type\":\"ColumnDataSource\"},{\"attributes\":{},\"id\":\"1015\",\"type\":\"BasicTicker\"},{\"attributes\":{},\"id\":\"1006\",\"type\":\"DataRange1d\"},{\"attributes\":{\"source\":{\"id\":\"1072\"}},\"id\":\"1076\",\"type\":\"CDSView\"}],\"root_ids\":[\"1080\"]},\"title\":\"Bokeh Application\",\"version\":\"2.3.1\"}};\n",
       "  var render_items = [{\"docid\":\"7148875e-b758-42d2-9fd2-7f05effc52eb\",\"root_ids\":[\"1080\"],\"roots\":{\"1080\":\"7ce498c0-8382-4f8e-9e4a-5f8771912834\"}}];\n",
       "  root.Bokeh.embed.embed_items_notebook(docs_json, render_items);\n",
       "\n",
       "  }\n",
       "  if (root.Bokeh !== undefined) {\n",
       "    embed_document(root);\n",
       "  } else {\n",
       "    var attempts = 0;\n",
       "    var timer = setInterval(function(root) {\n",
       "      if (root.Bokeh !== undefined) {\n",
       "        clearInterval(timer);\n",
       "        embed_document(root);\n",
       "      } else {\n",
       "        attempts++;\n",
       "        if (attempts > 100) {\n",
       "          clearInterval(timer);\n",
       "          console.log(\"Bokeh: ERROR: Unable to run BokehJS code because BokehJS library is missing\");\n",
       "        }\n",
       "      }\n",
       "    }, 10, root)\n",
       "  }\n",
       "})(window);"
      ],
      "application/vnd.bokehjs_exec.v0+json": ""
     },
     "metadata": {
      "application/vnd.bokehjs_exec.v0+json": {
       "id": "1080"
      }
     },
     "output_type": "display_data"
    }
   ],
   "source": [
    "#Generate a sequence to simulate # of cars passing through a road with 3 lanes at any successive measurements\n",
    "\n",
    "N = 3 # |StateSpace|\n",
    "L=250 #Length of sequence (# of measurements)\n",
    "\n",
    "np.random.seed(2) # random seed for reproducability\n",
    "P = generate_P(N) #distribution for markov chain\n",
    "\n",
    "traffic = generate_sequence(P,L)\n",
    "\n",
    "plot_sequence(P, traffic)"
   ]
  },
  {
   "cell_type": "markdown",
   "id": "specialized-evaluation",
   "metadata": {
    "papermill": {
     "duration": 0.029815,
     "end_time": "2021-09-10T16:11:14.653698",
     "exception": false,
     "start_time": "2021-09-10T16:11:14.623883",
     "status": "completed"
    },
    "tags": []
   },
   "source": [
    "<a id='visualize-multiple-sequences'></a>\n",
    "### Generate and Visualize Multiple Sequences\n",
    "\n",
    "In the cell below, we generate 3 different stochastic matrices, each one representing a different __regime__ of traffic. \n",
    "\n",
    "The 1st stochastic matrix corresponds to a _quite_ traffic regime. The state is 0 most of the time, in other words, most of the measurements yield 0 cars passing through the road, with occasional 1 or 2 cars.\n",
    "\n",
    "$$P_{quite}=\n",
    "\\begin{pmatrix}\n",
    "0.85 & 0.10 & 0.05 \\\\\n",
    "0.95 & 0.04 & 0.01 \\\\\n",
    "0.95 & 0.03 & 0.02\n",
    "\\end{pmatrix}\n",
    "$$\n",
    "\n",
    "The 2nd stochastic matrix corresponds to a usual traffic regime, with the most likely measurement being 1. As can be seen in below matrix, the transition probabilities targeting state 1 is highest in all rows. (Regardless of the current state, the most likely next step is 1)\n",
    "\n",
    "$$P_{usual}=\n",
    "\\begin{pmatrix}\n",
    "0.20 & 0.60 & 0.20 \\\\\n",
    "0.10 & 0.70 & 0.30 \\\\\n",
    "0.15 & 0.55 & 0.30\n",
    "\\end{pmatrix}\n",
    "$$\n",
    "\n",
    "Finally, the 3rd stochastic matrix represents a _busy_ traffic regime, with the state '2 cars' being the most likely.\n",
    "\n",
    "$$P_{busy}=\n",
    "\\begin{pmatrix}\n",
    "0.05 & 0.25 & 0.70 \\\\\n",
    "0.05 & 0.35 & 0.60 \\\\\n",
    "0.01 & 0.09 & 0.90\n",
    "\\end{pmatrix}\n",
    "$$\n",
    "\n",
    "\n",
    "In the cell below, we take these 3 matrices as bases for different regimes of traffic and, generate 30 different observation sequences. We can consider these sequences as measurements taken during different 5 minute intervals of the same day. In each one of the measurement intervals, the traffic is in either one of 3 defined regimes, i.e the stochastic matrix is ___close to___ either one of the matrices. We have generated the stochastic matrices for these 30 observation sequences adding random noise to the base regime matrices.\n",
    "\n",
    "The notion of ___closeness___ is particularly important in this exercise since the objective is to __estimate the stochastic matrix of given sequences and using this matrix as a feature vector for clustering algorithms__, in which the concept of distance and closeness is central.\n",
    "\n"
   ]
  },
  {
   "cell_type": "code",
   "execution_count": 9,
   "id": "rolled-economy",
   "metadata": {
    "execution": {
     "iopub.execute_input": "2021-09-10T16:11:14.730419Z",
     "iopub.status.busy": "2021-09-10T16:11:14.723960Z",
     "iopub.status.idle": "2021-09-10T16:11:36.850953Z",
     "shell.execute_reply": "2021-09-10T16:11:36.850420Z",
     "shell.execute_reply.started": "2021-09-10T15:20:11.659507Z"
    },
    "papermill": {
     "duration": 22.167143,
     "end_time": "2021-09-10T16:11:36.851110",
     "exception": false,
     "start_time": "2021-09-10T16:11:14.683967",
     "status": "completed"
    },
    "tags": []
   },
   "outputs": [
    {
     "data": {
      "text/plain": [
       "<AxesSubplot:>"
      ]
     },
     "execution_count": 9,
     "metadata": {},
     "output_type": "execute_result"
    },
    {
     "data": {
      "image/png": "[encoded data removed]",
      "text/plain": [
       "<Figure size 1800x432 with 2 Axes>"
      ]
     },
     "metadata": {
      "needs_background": "light"
     },
     "output_type": "display_data"
    }
   ],
   "source": [
    "N = 3 # |StateSpace| \n",
    "observations = []\n",
    "sequence = []\n",
    "P_s = []\n",
    "traffic_states = []\n",
    "\n",
    "\n",
    "p_quiet = [ #Calm-traffic\n",
    "    0.85, 0.1, 0.05,\n",
    "    0.95, 0.04, 0.01,\n",
    "    0.95, 0.03, 0.02]\n",
    "\n",
    "p_usual = [ # casually-active\n",
    "    0.2, 0.6, 0.2,\n",
    "    0.1, 0.7, 0.3,\n",
    "    0.15, 0.55, 0.3]\n",
    "\n",
    "p_busy =[ # extremely busy/congestion\n",
    "    0.05, 0.25, 0.7,\n",
    "    0.05, 0.35, 0.6,\n",
    "    0.01, 0.09, 0.9]\n",
    "\n",
    "regimes = [\n",
    "    np.array(p_quiet).reshape(3,3),\n",
    "    np.array(p_usual).reshape(3,3),\n",
    "    np.array(p_busy).reshape(3,3)\n",
    "]\n",
    "\n",
    "for i in range(100):\n",
    "    regime = np.random.choice([0, 1, 2])  #pick a random regime\n",
    "    P = noisify(regimes[regime], noise_factor=0.2)\n",
    "    P_s.append(P)\n",
    "    traffic_states.append(regime)\n",
    "    sequence = generate_sequence(P, l=1000) \n",
    "    observations.append(sequence)\n",
    "    \n",
    "    \n",
    "plt.figure(figsize=(25, 6))\n",
    "cmap = sns.color_palette(\"prism\", N)\n",
    "\n",
    "#visualize first 150 samples of each sequence\n",
    "sns.heatmap(np.asarray(observations)[:25,:150], cmap=cmap, annot=False)"
   ]
  },
  {
   "cell_type": "markdown",
   "id": "outside-transfer",
   "metadata": {
    "papermill": {
     "duration": 0.031682,
     "end_time": "2021-09-10T16:11:36.915365",
     "exception": false,
     "start_time": "2021-09-10T16:11:36.883683",
     "status": "completed"
    },
    "tags": []
   },
   "source": [
    "Each row of the above heatmap visualizes one of the realizations of the random process (sequence of observations). The regime of traffic has been randomly selected for each sequence, and resembles either one of the traffic states defined (quiet, usual, busy).\n",
    "\n",
    "As can be seen in the heatmap, some of the rows are mostly yellow, where others are either mostly blue or, mostly purple. Althgough the sequences are generated completely randomly and none of the rows are identical, sequences generated by a particular regime generate similar visualizations. \n",
    "\n",
    "In the visualization above, rows can be interpreted by their dominant color such as;\n",
    "\n",
    ">  * Mostly blue (0) if traffic is in __quite__ regime\n",
    ">  * Mostly yellow (1) if traffic is in __usual__ regime\n",
    ">  * Mostly purple (2) if traffic is in __busy__ regime\n",
    "\n",
    "\n",
    "As you can see in the next cell, sequences generated by similar stochastic matrices look similar. This result confirms that the similarity between these random time series is also reflected in their corresponding stochastic matrices, and the stochastic matrix can capture some aspect of the similarities of observed time series. \n",
    "\n",
    "In following parts of this kernel, we are going to work the other way around and try to identify the traffic regimes underlying the observed time series by their estimated stochastic matrices."
   ]
  },
  {
   "cell_type": "code",
   "execution_count": 10,
   "id": "progressive-reputation",
   "metadata": {
    "execution": {
     "iopub.execute_input": "2021-09-10T16:11:36.985396Z",
     "iopub.status.busy": "2021-09-10T16:11:36.984367Z",
     "iopub.status.idle": "2021-09-10T16:11:36.987547Z",
     "shell.execute_reply": "2021-09-10T16:11:36.987057Z",
     "shell.execute_reply.started": "2021-09-10T15:20:33.694482Z"
    },
    "papermill": {
     "duration": 0.040751,
     "end_time": "2021-09-10T16:11:36.987698",
     "exception": false,
     "start_time": "2021-09-10T16:11:36.946947",
     "status": "completed"
    },
    "tags": []
   },
   "outputs": [],
   "source": [
    "#Select 2 sequences from each regime and visualize\n",
    "traffic_states = np.array(traffic_states)\n",
    "quiet_observations = np.where(traffic_states == 0)[0][:2] #time series with quite traffic profile\n",
    "usual_observations = np.where(traffic_states == 1)[0][:2] #usual traffic\n",
    "busy_observations = np.where(traffic_states == 2)[0][:2]  #busy traffic"
   ]
  },
  {
   "cell_type": "markdown",
   "id": "hybrid-battlefield",
   "metadata": {
    "papermill": {
     "duration": 0.030988,
     "end_time": "2021-09-10T16:11:37.050744",
     "exception": false,
     "start_time": "2021-09-10T16:11:37.019756",
     "status": "completed"
    },
    "tags": []
   },
   "source": [
    "<a id='visualize-similarities'></a>\n",
    "### Visualize Pairs of Observations and Investigate Similarities"
   ]
  },
  {
   "cell_type": "markdown",
   "id": "explicit-chinese",
   "metadata": {
    "papermill": {
     "duration": 0.031108,
     "end_time": "2021-09-10T16:11:37.113456",
     "exception": false,
     "start_time": "2021-09-10T16:11:37.082348",
     "status": "completed"
    },
    "tags": []
   },
   "source": [
    "#### Two sequences generated by a quiet traffic profile\n",
    "As can be seen in below visualizations, similar stochastic matrices generate similar sequences."
   ]
  },
  {
   "cell_type": "code",
   "execution_count": 11,
   "id": "republican-cliff",
   "metadata": {
    "execution": {
     "iopub.execute_input": "2021-09-10T16:11:37.204148Z",
     "iopub.status.busy": "2021-09-10T16:11:37.191437Z",
     "iopub.status.idle": "2021-09-10T16:11:37.369540Z",
     "shell.execute_reply": "2021-09-10T16:11:37.368834Z",
     "shell.execute_reply.started": "2021-09-10T15:20:33.701514Z"
    },
    "papermill": {
     "duration": 0.223701,
     "end_time": "2021-09-10T16:11:37.369693",
     "exception": false,
     "start_time": "2021-09-10T16:11:37.145992",
     "status": "completed"
    },
    "tags": []
   },
   "outputs": [
    {
     "data": {
      "text/html": [
       "\n",
       "\n",
       "\n",
       "\n",
       "\n",
       "\n",
       "  <div class=\"bk-root\" id=\"126a4a47-04de-4dc7-bcc1-f258d35696b9\" data-root-id=\"1290\"></div>\n"
      ]
     },
     "metadata": {},
     "output_type": "display_data"
    },
    {
     "data": {
      "application/javascript": [
       "(function(root) {\n",
       "  function embed_document(root) {\n",
       "    \n",
       "  var docs_json = {\"260eb15f-ecd4-437a-a85f-3760cf2227b6\":{\"defs\":[],\"roots\":{\"references\":[{\"attributes\":{\"children\":[{\"id\":\"1251\"},{\"id\":\"1213\"}]},\"id\":\"1290\",\"type\":\"Row\"},{\"attributes\":{},\"id\":\"1321\",\"type\":\"AllLabels\"},{\"attributes\":{},\"id\":\"1229\",\"type\":\"BasicTicker\"},{\"attributes\":{\"formatter\":{\"id\":\"1320\"},\"major_label_policy\":{\"id\":\"1318\"},\"ticker\":{\"id\":\"1263\"}},\"id\":\"1262\",\"type\":\"CategoricalAxis\"},{\"attributes\":{\"axis\":{\"id\":\"1228\"},\"dimension\":1,\"ticker\":null},\"id\":\"1231\",\"type\":\"Grid\"},{\"attributes\":{},\"id\":\"1266\",\"type\":\"CategoricalTicker\"},{\"attributes\":{\"data\":{\"fill_color\":[\"#1f59b9\",\"#1f59b9\",\"#9528c7\",\"#1f59b9\",\"#f9b749\",\"#1f59b9\",\"#f9b749\",\"#1f59b9\",\"#1f59b9\",\"#1f59b9\",\"#1f59b9\",\"#1f59b9\",\"#9528c7\",\"#1f59b9\",\"#1f59b9\",\"#1f59b9\",\"#1f59b9\",\"#1f59b9\",\"#1f59b9\",\"#1f59b9\",\"#1f59b9\",\"#1f59b9\",\"#1f59b9\",\"#1f59b9\",\"#1f59b9\",\"#f9b749\",\"#1f59b9\",\"#1f59b9\",\"#f9b749\",\"#1f59b9\",\"#1f59b9\",\"#1f59b9\",\"#9528c7\",\"#1f59b9\",\"#f9b749\",\"#1f59b9\",\"#1f59b9\",\"#1f59b9\",\"#1f59b9\",\"#1f59b9\",\"#1f59b9\",\"#f9b749\",\"#1f59b9\",\"#1f59b9\",\"#9528c7\",\"#1f59b9\",\"#9528c7\",\"#1f59b9\",\"#1f59b9\",\"#9528c7\",\"#1f59b9\",\"#1f59b9\",\"#f9b749\",\"#1f59b9\",\"#1f59b9\",\"#1f59b9\",\"#1f59b9\",\"#9528c7\",\"#1f59b9\",\"#1f59b9\",\"#f9b749\",\"#1f59b9\",\"#1f59b9\",\"#1f59b9\",\"#f9b749\",\"#1f59b9\",\"#f9b749\",\"#1f59b9\",\"#1f59b9\",\"#1f59b9\",\"#9528c7\",\"#1f59b9\",\"#1f59b9\",\"#1f59b9\",\"#9528c7\",\"#1f59b9\",\"#f9b749\",\"#1f59b9\",\"#f9b749\",\"#1f59b9\",\"#9528c7\",\"#9528c7\",\"#1f59b9\",\"#1f59b9\",\"#1f59b9\",\"#1f59b9\",\"#1f59b9\",\"#1f59b9\",\"#1f59b9\",\"#1f59b9\",\"#1f59b9\",\"#9528c7\",\"#1f59b9\",\"#1f59b9\",\"#1f59b9\",\"#f9b749\",\"#1f59b9\",\"#1f59b9\",\"#1f59b9\",\"#9528c7\",\"#1f59b9\",\"#9528c7\",\"#1f59b9\",\"#1f59b9\",\"#f9b749\",\"#1f59b9\",\"#1f59b9\",\"#1f59b9\",\"#1f59b9\",\"#1f59b9\",\"#9528c7\",\"#1f59b9\",\"#1f59b9\",\"#f9b749\",\"#1f59b9\",\"#1f59b9\",\"#f9b749\",\"#1f59b9\",\"#9528c7\",\"#1f59b9\",\"#1f59b9\",\"#1f59b9\",\"#f9b749\",\"#1f59b9\",\"#f9b749\",\"#1f59b9\",\"#1f59b9\",\"#1f59b9\",\"#1f59b9\",\"#1f59b9\",\"#f9b749\",\"#1f59b9\",\"#1f59b9\",\"#1f59b9\",\"#1f59b9\",\"#1f59b9\",\"#1f59b9\",\"#f9b749\",\"#f9b749\",\"#1f59b9\",\"#1f59b9\",\"#1f59b9\",\"#1f59b9\",\"#9528c7\",\"#1f59b9\",\"#1f59b9\",\"#1f59b9\",\"#1f59b9\",\"#1f59b9\",\"#1f59b9\"],\"line_color\":[\"#1f59b9\",\"#1f59b9\",\"#9528c7\",\"#1f59b9\",\"#f9b749\",\"#1f59b9\",\"#f9b749\",\"#1f59b9\",\"#1f59b9\",\"#1f59b9\",\"#1f59b9\",\"#1f59b9\",\"#9528c7\",\"#1f59b9\",\"#1f59b9\",\"#1f59b9\",\"#1f59b9\",\"#1f59b9\",\"#1f59b9\",\"#1f59b9\",\"#1f59b9\",\"#1f59b9\",\"#1f59b9\",\"#1f59b9\",\"#1f59b9\",\"#f9b749\",\"#1f59b9\",\"#1f59b9\",\"#f9b749\",\"#1f59b9\",\"#1f59b9\",\"#1f59b9\",\"#9528c7\",\"#1f59b9\",\"#f9b749\",\"#1f59b9\",\"#1f59b9\",\"#1f59b9\",\"#1f59b9\",\"#1f59b9\",\"#1f59b9\",\"#f9b749\",\"#1f59b9\",\"#1f59b9\",\"#9528c7\",\"#1f59b9\",\"#9528c7\",\"#1f59b9\",\"#1f59b9\",\"#9528c7\",\"#1f59b9\",\"#1f59b9\",\"#f9b749\",\"#1f59b9\",\"#1f59b9\",\"#1f59b9\",\"#1f59b9\",\"#9528c7\",\"#1f59b9\",\"#1f59b9\",\"#f9b749\",\"#1f59b9\",\"#1f59b9\",\"#1f59b9\",\"#f9b749\",\"#1f59b9\",\"#f9b749\",\"#1f59b9\",\"#1f59b9\",\"#1f59b9\",\"#9528c7\",\"#1f59b9\",\"#1f59b9\",\"#1f59b9\",\"#9528c7\",\"#1f59b9\",\"#f9b749\",\"#1f59b9\",\"#f9b749\",\"#1f59b9\",\"#9528c7\",\"#9528c7\",\"#1f59b9\",\"#1f59b9\",\"#1f59b9\",\"#1f59b9\",\"#1f59b9\",\"#1f59b9\",\"#1f59b9\",\"#1f59b9\",\"#1f59b9\",\"#9528c7\",\"#1f59b9\",\"#1f59b9\",\"#1f59b9\",\"#f9b749\",\"#1f59b9\",\"#1f59b9\",\"#1f59b9\",\"#9528c7\",\"#1f59b9\",\"#9528c7\",\"#1f59b9\",\"#1f59b9\",\"#f9b749\",\"#1f59b9\",\"#1f59b9\",\"#1f59b9\",\"#1f59b9\",\"#1f59b9\",\"#9528c7\",\"#1f59b9\",\"#1f59b9\",\"#f9b749\",\"#1f59b9\",\"#1f59b9\",\"#f9b749\",\"#1f59b9\",\"#9528c7\",\"#1f59b9\",\"#1f59b9\",\"#1f59b9\",\"#f9b749\",\"#1f59b9\",\"#f9b749\",\"#1f59b9\",\"#1f59b9\",\"#1f59b9\",\"#1f59b9\",\"#1f59b9\",\"#f9b749\",\"#1f59b9\",\"#1f59b9\",\"#1f59b9\",\"#1f59b9\",\"#1f59b9\",\"#1f59b9\",\"#f9b749\",\"#f9b749\",\"#1f59b9\",\"#1f59b9\",\"#1f59b9\",\"#1f59b9\",\"#9528c7\",\"#1f59b9\",\"#1f59b9\",\"#1f59b9\",\"#1f59b9\",\"#1f59b9\",\"#1f59b9\"],\"x\":[0,1,2,3,4,5,6,7,8,9,10,11,12,13,14,15,16,17,18,19,20,21,22,23,24,25,26,27,28,29,30,31,32,33,34,35,36,37,38,39,40,41,42,43,44,45,46,47,48,49,50,51,52,53,54,55,56,57,58,59,60,61,62,63,64,65,66,67,68,69,70,71,72,73,74,75,76,77,78,79,80,81,82,83,84,85,86,87,88,89,90,91,92,93,94,95,96,97,98,99,100,101,102,103,104,105,106,107,108,109,110,111,112,113,114,115,116,117,118,119,120,121,122,123,124,125,126,127,128,129,130,131,132,133,134,135,136,137,138,139,140,141,142,143,144,145,146,147,148,149]},\"selected\":{\"id\":\"1332\"},\"selection_policy\":{\"id\":\"1333\"}},\"id\":\"1246\",\"type\":\"ColumnDataSource\"},{\"attributes\":{},\"id\":\"1330\",\"type\":\"UnionRenderers\"},{\"attributes\":{\"axis\":{\"id\":\"1265\"},\"dimension\":1,\"ticker\":null},\"id\":\"1267\",\"type\":\"Grid\"},{\"attributes\":{\"data_source\":{\"id\":\"1246\"},\"glyph\":{\"id\":\"1247\"},\"hover_glyph\":null,\"muted_glyph\":null,\"nonselection_glyph\":{\"id\":\"1248\"},\"view\":{\"id\":\"1250\"}},\"id\":\"1249\",\"type\":\"GlyphRenderer\"},{\"attributes\":{\"data_source\":{\"id\":\"1282\"},\"glyph\":{\"id\":\"1283\"},\"hover_glyph\":null,\"muted_glyph\":null,\"nonselection_glyph\":{\"id\":\"1284\"},\"view\":{\"id\":\"1286\"}},\"id\":\"1285\",\"type\":\"GlyphRenderer\"},{\"attributes\":{},\"id\":\"1329\",\"type\":\"Selection\"},{\"attributes\":{\"formatter\":{\"id\":\"1317\"},\"major_label_policy\":{\"id\":\"1315\"},\"ticker\":{\"id\":\"1266\"}},\"id\":\"1265\",\"type\":\"CategoricalAxis\"},{\"attributes\":{},\"id\":\"1327\",\"type\":\"Selection\"},{\"attributes\":{},\"id\":\"1315\",\"type\":\"AllLabels\"},{\"attributes\":{\"fill_color\":{\"field\":\"fill_color\"},\"height\":{\"value\":1},\"line_color\":{\"field\":\"line_color\"},\"width\":{\"value\":1},\"x\":{\"field\":\"x\"},\"y\":{\"value\":0.3}},\"id\":\"1247\",\"type\":\"Rect\"},{\"attributes\":{\"below\":[{\"id\":\"1224\"}],\"center\":[{\"id\":\"1227\"},{\"id\":\"1231\"}],\"height\":175,\"left\":[{\"id\":\"1228\"}],\"renderers\":[{\"id\":\"1249\"}],\"title\":{\"id\":\"1214\"},\"toolbar\":{\"id\":\"1239\"},\"width\":1000,\"x_range\":{\"id\":\"1216\"},\"x_scale\":{\"id\":\"1220\"},\"y_range\":{\"id\":\"1218\"},\"y_scale\":{\"id\":\"1222\"}},\"id\":\"1213\",\"subtype\":\"Figure\",\"type\":\"Plot\"},{\"attributes\":{\"data\":{\"fill_color\":[\"#ffe200\",\"#0030ff\",\"#0020ff\",\"#ff3f00\",\"#0000e8\",\"#0000c8\",\"#da0000\",\"#0000a8\",\"#0000ad\"],\"line_color\":[\"#ffe200\",\"#0030ff\",\"#0020ff\",\"#ff3f00\",\"#0000e8\",\"#0000c8\",\"#da0000\",\"#0000a8\",\"#0000ad\"],\"x\":[0.5,1.5,2.5,0.5,1.5,2.5,0.5,1.5,2.5],\"y\":[0.5,0.5,0.5,1.5,1.5,1.5,2.5,2.5,2.5]},\"selected\":{\"id\":\"1327\"},\"selection_policy\":{\"id\":\"1328\"}},\"id\":\"1282\",\"type\":\"ColumnDataSource\"},{\"attributes\":{\"bottom_units\":\"screen\",\"fill_alpha\":0.5,\"fill_color\":\"lightgrey\",\"left_units\":\"screen\",\"level\":\"overlay\",\"line_alpha\":1.0,\"line_color\":\"black\",\"line_dash\":[4,4],\"line_width\":2,\"right_units\":\"screen\",\"syncable\":false,\"top_units\":\"screen\"},\"id\":\"1238\",\"type\":\"BoxAnnotation\"},{\"attributes\":{},\"id\":\"1232\",\"type\":\"PanTool\"},{\"attributes\":{},\"id\":\"1332\",\"type\":\"Selection\"},{\"attributes\":{\"fill_alpha\":{\"value\":0.1},\"fill_color\":{\"field\":\"fill_color\"},\"height\":{\"value\":1},\"line_alpha\":{\"value\":0.1},\"line_color\":{\"field\":\"line_color\"},\"width\":{\"value\":1},\"x\":{\"field\":\"x\"},\"y\":{\"value\":0.3}},\"id\":\"1248\",\"type\":\"Rect\"},{\"attributes\":{},\"id\":\"1233\",\"type\":\"WheelZoomTool\"},{\"attributes\":{},\"id\":\"1333\",\"type\":\"UnionRenderers\"},{\"attributes\":{\"text\":\"# of Vehicles vs Time\"},\"id\":\"1214\",\"type\":\"Title\"},{\"attributes\":{\"active_multi\":null,\"tools\":[{\"id\":\"1232\"},{\"id\":\"1233\"},{\"id\":\"1234\"},{\"id\":\"1235\"},{\"id\":\"1236\"},{\"id\":\"1237\"}]},\"id\":\"1239\",\"type\":\"Toolbar\"},{\"attributes\":{},\"id\":\"1323\",\"type\":\"BasicTickFormatter\"},{\"attributes\":{\"active_multi\":null,\"tools\":[{\"id\":\"1268\"},{\"id\":\"1269\"},{\"id\":\"1270\"},{\"id\":\"1271\"},{\"id\":\"1272\"},{\"id\":\"1273\"}]},\"id\":\"1275\",\"type\":\"Toolbar\"},{\"attributes\":{},\"id\":\"1324\",\"type\":\"AllLabels\"},{\"attributes\":{\"overlay\":{\"id\":\"1238\"}},\"id\":\"1234\",\"type\":\"BoxZoomTool\"},{\"attributes\":{},\"id\":\"1216\",\"type\":\"DataRange1d\"},{\"attributes\":{},\"id\":\"1263\",\"type\":\"CategoricalTicker\"},{\"attributes\":{\"factors\":[\"s0\",\"s1\",\"s2\"]},\"id\":\"1256\",\"type\":\"FactorRange\"},{\"attributes\":{},\"id\":\"1235\",\"type\":\"SaveTool\"},{\"attributes\":{},\"id\":\"1220\",\"type\":\"LinearScale\"},{\"attributes\":{},\"id\":\"1320\",\"type\":\"CategoricalTickFormatter\"},{\"attributes\":{},\"id\":\"1268\",\"type\":\"PanTool\"},{\"attributes\":{},\"id\":\"1326\",\"type\":\"BasicTickFormatter\"},{\"attributes\":{},\"id\":\"1236\",\"type\":\"ResetTool\"},{\"attributes\":{\"below\":[{\"id\":\"1262\"}],\"center\":[{\"id\":\"1264\"},{\"id\":\"1267\"},{\"id\":\"1288\"}],\"height\":175,\"left\":[{\"id\":\"1265\"}],\"renderers\":[{\"id\":\"1285\"}],\"title\":{\"id\":\"1252\"},\"toolbar\":{\"id\":\"1275\"},\"toolbar_location\":null,\"width\":175,\"x_range\":{\"id\":\"1254\"},\"x_scale\":{\"id\":\"1258\"},\"y_range\":{\"id\":\"1256\"},\"y_scale\":{\"id\":\"1260\"}},\"id\":\"1251\",\"subtype\":\"Figure\",\"type\":\"Plot\"},{\"attributes\":{},\"id\":\"1269\",\"type\":\"WheelZoomTool\"},{\"attributes\":{\"factors\":[\"s0\",\"s1\",\"s2\"]},\"id\":\"1254\",\"type\":\"FactorRange\"},{\"attributes\":{},\"id\":\"1218\",\"type\":\"DataRange1d\"},{\"attributes\":{\"source\":{\"id\":\"1282\"}},\"id\":\"1286\",\"type\":\"CDSView\"},{\"attributes\":{\"overlay\":{\"id\":\"1274\"}},\"id\":\"1270\",\"type\":\"BoxZoomTool\"},{\"attributes\":{},\"id\":\"1237\",\"type\":\"HelpTool\"},{\"attributes\":{\"data\":{\"vals\":{\"__ndarray__\":\"x0s3iUFg5T8Sg8DKoUXGP9NNYhBYOcQ/YOXQItv56j8CK4cW2c63P/yp8dJNYrA/Gy/dJAaB7T/b+X5qvHSjP8uhRbbz/aQ/\",\"dtype\":\"float64\",\"order\":\"little\",\"shape\":[9]},\"x\":[0.5,1.5,2.5,0.5,1.5,2.5,0.5,1.5,2.5],\"y\":[0.5,0.5,0.5,1.5,1.5,1.5,2.5,2.5,2.5]},\"selected\":{\"id\":\"1329\"},\"selection_policy\":{\"id\":\"1330\"}},\"id\":\"1287\",\"type\":\"ColumnDataSource\"},{\"attributes\":{\"text\":\"Stochastic Matrix\"},\"id\":\"1252\",\"type\":\"Title\"},{\"attributes\":{},\"id\":\"1271\",\"type\":\"SaveTool\"},{\"attributes\":{},\"id\":\"1260\",\"type\":\"CategoricalScale\"},{\"attributes\":{\"formatter\":{\"id\":\"1323\"},\"major_label_policy\":{\"id\":\"1321\"},\"ticker\":{\"id\":\"1229\"},\"visible\":false},\"id\":\"1228\",\"type\":\"LinearAxis\"},{\"attributes\":{},\"id\":\"1222\",\"type\":\"LinearScale\"},{\"attributes\":{\"fill_alpha\":{\"value\":0.1},\"fill_color\":{\"field\":\"fill_color\"},\"height\":{\"value\":1},\"line_alpha\":{\"value\":0.1},\"line_color\":{\"field\":\"line_color\"},\"width\":{\"value\":1},\"x\":{\"field\":\"x\"},\"y\":{\"field\":\"y\"}},\"id\":\"1284\",\"type\":\"Rect\"},{\"attributes\":{},\"id\":\"1317\",\"type\":\"CategoricalTickFormatter\"},{\"attributes\":{\"fill_color\":{\"field\":\"fill_color\"},\"height\":{\"value\":1},\"line_color\":{\"field\":\"line_color\"},\"width\":{\"value\":1},\"x\":{\"field\":\"x\"},\"y\":{\"field\":\"y\"}},\"id\":\"1283\",\"type\":\"Rect\"},{\"attributes\":{},\"id\":\"1318\",\"type\":\"AllLabels\"},{\"attributes\":{},\"id\":\"1272\",\"type\":\"ResetTool\"},{\"attributes\":{\"axis\":{\"id\":\"1262\"},\"ticker\":null},\"id\":\"1264\",\"type\":\"Grid\"},{\"attributes\":{\"axis_label\":\"Sample Index\",\"formatter\":{\"id\":\"1326\"},\"major_label_policy\":{\"id\":\"1324\"},\"ticker\":{\"id\":\"1225\"}},\"id\":\"1224\",\"type\":\"LinearAxis\"},{\"attributes\":{\"source\":{\"id\":\"1246\"}},\"id\":\"1250\",\"type\":\"CDSView\"},{\"attributes\":{\"bottom_units\":\"screen\",\"fill_alpha\":0.5,\"fill_color\":\"lightgrey\",\"left_units\":\"screen\",\"level\":\"overlay\",\"line_alpha\":1.0,\"line_color\":\"black\",\"line_dash\":[4,4],\"line_width\":2,\"right_units\":\"screen\",\"syncable\":false,\"top_units\":\"screen\"},\"id\":\"1274\",\"type\":\"BoxAnnotation\"},{\"attributes\":{},\"id\":\"1328\",\"type\":\"UnionRenderers\"},{\"attributes\":{},\"id\":\"1258\",\"type\":\"CategoricalScale\"},{\"attributes\":{},\"id\":\"1273\",\"type\":\"HelpTool\"},{\"attributes\":{},\"id\":\"1225\",\"type\":\"BasicTicker\"},{\"attributes\":{\"axis\":{\"id\":\"1224\"},\"ticker\":null},\"id\":\"1227\",\"type\":\"Grid\"},{\"attributes\":{\"render_mode\":\"css\",\"source\":{\"id\":\"1287\"},\"text\":{\"field\":\"vals\"},\"text_color\":{\"value\":\"white\"},\"text_font_size\":{\"value\":\"1em\"},\"x\":{\"field\":\"x\"},\"x_offset\":{\"value\":-12},\"y\":{\"field\":\"y\"},\"y_offset\":{\"value\":-5}},\"id\":\"1288\",\"type\":\"LabelSet\"}],\"root_ids\":[\"1290\"]},\"title\":\"Bokeh Application\",\"version\":\"2.3.1\"}};\n",
       "  var render_items = [{\"docid\":\"260eb15f-ecd4-437a-a85f-3760cf2227b6\",\"root_ids\":[\"1290\"],\"roots\":{\"1290\":\"126a4a47-04de-4dc7-bcc1-f258d35696b9\"}}];\n",
       "  root.Bokeh.embed.embed_items_notebook(docs_json, render_items);\n",
       "\n",
       "  }\n",
       "  if (root.Bokeh !== undefined) {\n",
       "    embed_document(root);\n",
       "  } else {\n",
       "    var attempts = 0;\n",
       "    var timer = setInterval(function(root) {\n",
       "      if (root.Bokeh !== undefined) {\n",
       "        clearInterval(timer);\n",
       "        embed_document(root);\n",
       "      } else {\n",
       "        attempts++;\n",
       "        if (attempts > 100) {\n",
       "          clearInterval(timer);\n",
       "          console.log(\"Bokeh: ERROR: Unable to run BokehJS code because BokehJS library is missing\");\n",
       "        }\n",
       "      }\n",
       "    }, 10, root)\n",
       "  }\n",
       "})(window);"
      ],
      "application/vnd.bokehjs_exec.v0+json": ""
     },
     "metadata": {
      "application/vnd.bokehjs_exec.v0+json": {
       "id": "1290"
      }
     },
     "output_type": "display_data"
    },
    {
     "data": {
      "text/html": [
       "\n",
       "\n",
       "\n",
       "\n",
       "\n",
       "\n",
       "  <div class=\"bk-root\" id=\"f4a63d4f-d091-4827-b50e-47d0d0476b75\" data-root-id=\"1522\"></div>\n"
      ]
     },
     "metadata": {},
     "output_type": "display_data"
    },
    {
     "data": {
      "application/javascript": [
       "(function(root) {\n",
       "  function embed_document(root) {\n",
       "    \n",
       "  var docs_json = {\"58bd7f9a-2f67-4329-86da-263866077b52\":{\"defs\":[],\"roots\":{\"references\":[{\"attributes\":{\"children\":[{\"id\":\"1483\"},{\"id\":\"1445\"}]},\"id\":\"1522\",\"type\":\"Row\"},{\"attributes\":{\"formatter\":{\"id\":\"1577\"},\"major_label_policy\":{\"id\":\"1575\"},\"ticker\":{\"id\":\"1461\"},\"visible\":false},\"id\":\"1460\",\"type\":\"LinearAxis\"},{\"attributes\":{\"data\":{\"fill_color\":[\"#ffd300\",\"#003cff\",\"#0004ff\",\"#ff6000\",\"#0000ed\",\"#0000ed\",\"#ff5900\",\"#00009f\",\"#001cff\"],\"line_color\":[\"#ffd300\",\"#003cff\",\"#0004ff\",\"#ff6000\",\"#0000ed\",\"#0000ed\",\"#ff5900\",\"#00009f\",\"#001cff\"],\"x\":[0.5,1.5,2.5,0.5,1.5,2.5,0.5,1.5,2.5],\"y\":[0.5,0.5,0.5,1.5,1.5,1.5,2.5,2.5,2.5]},\"selected\":{\"id\":\"1581\"},\"selection_policy\":{\"id\":\"1582\"}},\"id\":\"1514\",\"type\":\"ColumnDataSource\"},{\"attributes\":{\"factors\":[\"s0\",\"s1\",\"s2\"]},\"id\":\"1488\",\"type\":\"FactorRange\"},{\"attributes\":{},\"id\":\"1461\",\"type\":\"BasicTicker\"},{\"attributes\":{},\"id\":\"1584\",\"type\":\"UnionRenderers\"},{\"attributes\":{},\"id\":\"1586\",\"type\":\"Selection\"},{\"attributes\":{\"fill_color\":{\"field\":\"fill_color\"},\"height\":{\"value\":1},\"line_color\":{\"field\":\"line_color\"},\"width\":{\"value\":1},\"x\":{\"field\":\"x\"},\"y\":{\"field\":\"y\"}},\"id\":\"1515\",\"type\":\"Rect\"},{\"attributes\":{},\"id\":\"1448\",\"type\":\"DataRange1d\"},{\"attributes\":{\"axis\":{\"id\":\"1456\"},\"ticker\":null},\"id\":\"1459\",\"type\":\"Grid\"},{\"attributes\":{},\"id\":\"1587\",\"type\":\"UnionRenderers\"},{\"attributes\":{},\"id\":\"1500\",\"type\":\"PanTool\"},{\"attributes\":{\"bottom_units\":\"screen\",\"fill_alpha\":0.5,\"fill_color\":\"lightgrey\",\"left_units\":\"screen\",\"level\":\"overlay\",\"line_alpha\":1.0,\"line_color\":\"black\",\"line_dash\":[4,4],\"line_width\":2,\"right_units\":\"screen\",\"syncable\":false,\"top_units\":\"screen\"},\"id\":\"1506\",\"type\":\"BoxAnnotation\"},{\"attributes\":{\"factors\":[\"s0\",\"s1\",\"s2\"]},\"id\":\"1486\",\"type\":\"FactorRange\"},{\"attributes\":{\"data\":{\"vals\":{\"__ndarray__\":\"F9nO91Pj5T9aZDvfT43HP/hT46WbxMA/QmDl0CLb6T+q8dJNYhC4P6JFtvP91Lg/arx0kxgE6j9YObTIdr6fPyuHFtnO98M/\",\"dtype\":\"float64\",\"order\":\"little\",\"shape\":[9]},\"x\":[0.5,1.5,2.5,0.5,1.5,2.5,0.5,1.5,2.5],\"y\":[0.5,0.5,0.5,1.5,1.5,1.5,2.5,2.5,2.5]},\"selected\":{\"id\":\"1583\"},\"selection_policy\":{\"id\":\"1584\"}},\"id\":\"1519\",\"type\":\"ColumnDataSource\"},{\"attributes\":{\"below\":[{\"id\":\"1494\"}],\"center\":[{\"id\":\"1496\"},{\"id\":\"1499\"},{\"id\":\"1520\"}],\"height\":175,\"left\":[{\"id\":\"1497\"}],\"renderers\":[{\"id\":\"1517\"}],\"title\":{\"id\":\"1484\"},\"toolbar\":{\"id\":\"1507\"},\"toolbar_location\":null,\"width\":175,\"x_range\":{\"id\":\"1486\"},\"x_scale\":{\"id\":\"1490\"},\"y_range\":{\"id\":\"1488\"},\"y_scale\":{\"id\":\"1492\"}},\"id\":\"1483\",\"subtype\":\"Figure\",\"type\":\"Plot\"},{\"attributes\":{},\"id\":\"1501\",\"type\":\"WheelZoomTool\"},{\"attributes\":{\"data_source\":{\"id\":\"1478\"},\"glyph\":{\"id\":\"1479\"},\"hover_glyph\":null,\"muted_glyph\":null,\"nonselection_glyph\":{\"id\":\"1480\"},\"view\":{\"id\":\"1482\"}},\"id\":\"1481\",\"type\":\"GlyphRenderer\"},{\"attributes\":{\"fill_alpha\":{\"value\":0.1},\"fill_color\":{\"field\":\"fill_color\"},\"height\":{\"value\":1},\"line_alpha\":{\"value\":0.1},\"line_color\":{\"field\":\"line_color\"},\"width\":{\"value\":1},\"x\":{\"field\":\"x\"},\"y\":{\"field\":\"y\"}},\"id\":\"1516\",\"type\":\"Rect\"},{\"attributes\":{},\"id\":\"1583\",\"type\":\"Selection\"},{\"attributes\":{\"overlay\":{\"id\":\"1506\"}},\"id\":\"1502\",\"type\":\"BoxZoomTool\"},{\"attributes\":{\"text\":\"Stochastic Matrix\"},\"id\":\"1484\",\"type\":\"Title\"},{\"attributes\":{},\"id\":\"1492\",\"type\":\"CategoricalScale\"},{\"attributes\":{},\"id\":\"1503\",\"type\":\"SaveTool\"},{\"attributes\":{},\"id\":\"1569\",\"type\":\"AllLabels\"},{\"attributes\":{},\"id\":\"1504\",\"type\":\"ResetTool\"},{\"attributes\":{},\"id\":\"1571\",\"type\":\"CategoricalTickFormatter\"},{\"attributes\":{\"source\":{\"id\":\"1478\"}},\"id\":\"1482\",\"type\":\"CDSView\"},{\"attributes\":{},\"id\":\"1490\",\"type\":\"CategoricalScale\"},{\"attributes\":{\"active_multi\":null,\"tools\":[{\"id\":\"1464\"},{\"id\":\"1465\"},{\"id\":\"1466\"},{\"id\":\"1467\"},{\"id\":\"1468\"},{\"id\":\"1469\"}]},\"id\":\"1471\",\"type\":\"Toolbar\"},{\"attributes\":{\"source\":{\"id\":\"1514\"}},\"id\":\"1518\",\"type\":\"CDSView\"},{\"attributes\":{},\"id\":\"1505\",\"type\":\"HelpTool\"},{\"attributes\":{},\"id\":\"1575\",\"type\":\"AllLabels\"},{\"attributes\":{\"data\":{\"fill_color\":[\"#1f59b9\",\"#f9b749\",\"#1f59b9\",\"#1f59b9\",\"#1f59b9\",\"#1f59b9\",\"#1f59b9\",\"#9528c7\",\"#1f59b9\",\"#1f59b9\",\"#1f59b9\",\"#1f59b9\",\"#1f59b9\",\"#1f59b9\",\"#1f59b9\",\"#1f59b9\",\"#9528c7\",\"#1f59b9\",\"#f9b749\",\"#1f59b9\",\"#1f59b9\",\"#9528c7\",\"#1f59b9\",\"#1f59b9\",\"#1f59b9\",\"#1f59b9\",\"#f9b749\",\"#1f59b9\",\"#1f59b9\",\"#f9b749\",\"#1f59b9\",\"#1f59b9\",\"#1f59b9\",\"#1f59b9\",\"#1f59b9\",\"#1f59b9\",\"#9528c7\",\"#1f59b9\",\"#1f59b9\",\"#1f59b9\",\"#1f59b9\",\"#9528c7\",\"#1f59b9\",\"#1f59b9\",\"#1f59b9\",\"#1f59b9\",\"#1f59b9\",\"#1f59b9\",\"#9528c7\",\"#1f59b9\",\"#f9b749\",\"#1f59b9\",\"#1f59b9\",\"#1f59b9\",\"#1f59b9\",\"#1f59b9\",\"#1f59b9\",\"#1f59b9\",\"#1f59b9\",\"#1f59b9\",\"#f9b749\",\"#1f59b9\",\"#f9b749\",\"#1f59b9\",\"#1f59b9\",\"#f9b749\",\"#1f59b9\",\"#1f59b9\",\"#1f59b9\",\"#1f59b9\",\"#f9b749\",\"#1f59b9\",\"#1f59b9\",\"#1f59b9\",\"#1f59b9\",\"#1f59b9\",\"#1f59b9\",\"#f9b749\",\"#1f59b9\",\"#f9b749\",\"#1f59b9\",\"#f9b749\",\"#1f59b9\",\"#1f59b9\",\"#1f59b9\",\"#1f59b9\",\"#1f59b9\",\"#f9b749\",\"#1f59b9\",\"#1f59b9\",\"#9528c7\",\"#1f59b9\",\"#1f59b9\",\"#1f59b9\",\"#f9b749\",\"#1f59b9\",\"#1f59b9\",\"#1f59b9\",\"#1f59b9\",\"#1f59b9\",\"#f9b749\",\"#1f59b9\",\"#9528c7\",\"#9528c7\",\"#1f59b9\",\"#9528c7\",\"#9528c7\",\"#1f59b9\",\"#1f59b9\",\"#1f59b9\",\"#f9b749\",\"#1f59b9\",\"#1f59b9\",\"#1f59b9\",\"#1f59b9\",\"#1f59b9\",\"#9528c7\",\"#1f59b9\",\"#1f59b9\",\"#9528c7\",\"#1f59b9\",\"#1f59b9\",\"#f9b749\",\"#1f59b9\",\"#1f59b9\",\"#1f59b9\",\"#f9b749\",\"#1f59b9\",\"#9528c7\",\"#9528c7\",\"#1f59b9\",\"#1f59b9\",\"#f9b749\",\"#f9b749\",\"#1f59b9\",\"#1f59b9\",\"#f9b749\",\"#1f59b9\",\"#1f59b9\",\"#1f59b9\",\"#1f59b9\",\"#1f59b9\",\"#1f59b9\",\"#1f59b9\",\"#1f59b9\",\"#9528c7\",\"#1f59b9\",\"#1f59b9\",\"#1f59b9\",\"#9528c7\"],\"line_color\":[\"#1f59b9\",\"#f9b749\",\"#1f59b9\",\"#1f59b9\",\"#1f59b9\",\"#1f59b9\",\"#1f59b9\",\"#9528c7\",\"#1f59b9\",\"#1f59b9\",\"#1f59b9\",\"#1f59b9\",\"#1f59b9\",\"#1f59b9\",\"#1f59b9\",\"#1f59b9\",\"#9528c7\",\"#1f59b9\",\"#f9b749\",\"#1f59b9\",\"#1f59b9\",\"#9528c7\",\"#1f59b9\",\"#1f59b9\",\"#1f59b9\",\"#1f59b9\",\"#f9b749\",\"#1f59b9\",\"#1f59b9\",\"#f9b749\",\"#1f59b9\",\"#1f59b9\",\"#1f59b9\",\"#1f59b9\",\"#1f59b9\",\"#1f59b9\",\"#9528c7\",\"#1f59b9\",\"#1f59b9\",\"#1f59b9\",\"#1f59b9\",\"#9528c7\",\"#1f59b9\",\"#1f59b9\",\"#1f59b9\",\"#1f59b9\",\"#1f59b9\",\"#1f59b9\",\"#9528c7\",\"#1f59b9\",\"#f9b749\",\"#1f59b9\",\"#1f59b9\",\"#1f59b9\",\"#1f59b9\",\"#1f59b9\",\"#1f59b9\",\"#1f59b9\",\"#1f59b9\",\"#1f59b9\",\"#f9b749\",\"#1f59b9\",\"#f9b749\",\"#1f59b9\",\"#1f59b9\",\"#f9b749\",\"#1f59b9\",\"#1f59b9\",\"#1f59b9\",\"#1f59b9\",\"#f9b749\",\"#1f59b9\",\"#1f59b9\",\"#1f59b9\",\"#1f59b9\",\"#1f59b9\",\"#1f59b9\",\"#f9b749\",\"#1f59b9\",\"#f9b749\",\"#1f59b9\",\"#f9b749\",\"#1f59b9\",\"#1f59b9\",\"#1f59b9\",\"#1f59b9\",\"#1f59b9\",\"#f9b749\",\"#1f59b9\",\"#1f59b9\",\"#9528c7\",\"#1f59b9\",\"#1f59b9\",\"#1f59b9\",\"#f9b749\",\"#1f59b9\",\"#1f59b9\",\"#1f59b9\",\"#1f59b9\",\"#1f59b9\",\"#f9b749\",\"#1f59b9\",\"#9528c7\",\"#9528c7\",\"#1f59b9\",\"#9528c7\",\"#9528c7\",\"#1f59b9\",\"#1f59b9\",\"#1f59b9\",\"#f9b749\",\"#1f59b9\",\"#1f59b9\",\"#1f59b9\",\"#1f59b9\",\"#1f59b9\",\"#9528c7\",\"#1f59b9\",\"#1f59b9\",\"#9528c7\",\"#1f59b9\",\"#1f59b9\",\"#f9b749\",\"#1f59b9\",\"#1f59b9\",\"#1f59b9\",\"#f9b749\",\"#1f59b9\",\"#9528c7\",\"#9528c7\",\"#1f59b9\",\"#1f59b9\",\"#f9b749\",\"#f9b749\",\"#1f59b9\",\"#1f59b9\",\"#f9b749\",\"#1f59b9\",\"#1f59b9\",\"#1f59b9\",\"#1f59b9\",\"#1f59b9\",\"#1f59b9\",\"#1f59b9\",\"#1f59b9\",\"#9528c7\",\"#1f59b9\",\"#1f59b9\",\"#1f59b9\",\"#9528c7\"],\"x\":[0,1,2,3,4,5,6,7,8,9,10,11,12,13,14,15,16,17,18,19,20,21,22,23,24,25,26,27,28,29,30,31,32,33,34,35,36,37,38,39,40,41,42,43,44,45,46,47,48,49,50,51,52,53,54,55,56,57,58,59,60,61,62,63,64,65,66,67,68,69,70,71,72,73,74,75,76,77,78,79,80,81,82,83,84,85,86,87,88,89,90,91,92,93,94,95,96,97,98,99,100,101,102,103,104,105,106,107,108,109,110,111,112,113,114,115,116,117,118,119,120,121,122,123,124,125,126,127,128,129,130,131,132,133,134,135,136,137,138,139,140,141,142,143,144,145,146,147,148,149]},\"selected\":{\"id\":\"1586\"},\"selection_policy\":{\"id\":\"1587\"}},\"id\":\"1478\",\"type\":\"ColumnDataSource\"},{\"attributes\":{},\"id\":\"1452\",\"type\":\"LinearScale\"},{\"attributes\":{},\"id\":\"1572\",\"type\":\"AllLabels\"},{\"attributes\":{},\"id\":\"1464\",\"type\":\"PanTool\"},{\"attributes\":{\"active_multi\":null,\"tools\":[{\"id\":\"1500\"},{\"id\":\"1501\"},{\"id\":\"1502\"},{\"id\":\"1503\"},{\"id\":\"1504\"},{\"id\":\"1505\"}]},\"id\":\"1507\",\"type\":\"Toolbar\"},{\"attributes\":{},\"id\":\"1465\",\"type\":\"WheelZoomTool\"},{\"attributes\":{},\"id\":\"1574\",\"type\":\"CategoricalTickFormatter\"},{\"attributes\":{\"formatter\":{\"id\":\"1574\"},\"major_label_policy\":{\"id\":\"1572\"},\"ticker\":{\"id\":\"1495\"}},\"id\":\"1494\",\"type\":\"CategoricalAxis\"},{\"attributes\":{\"overlay\":{\"id\":\"1470\"}},\"id\":\"1466\",\"type\":\"BoxZoomTool\"},{\"attributes\":{},\"id\":\"1498\",\"type\":\"CategoricalTicker\"},{\"attributes\":{\"text\":\"# of Vehicles vs Time\"},\"id\":\"1446\",\"type\":\"Title\"},{\"attributes\":{},\"id\":\"1495\",\"type\":\"CategoricalTicker\"},{\"attributes\":{},\"id\":\"1467\",\"type\":\"SaveTool\"},{\"attributes\":{},\"id\":\"1450\",\"type\":\"DataRange1d\"},{\"attributes\":{},\"id\":\"1577\",\"type\":\"BasicTickFormatter\"},{\"attributes\":{\"axis\":{\"id\":\"1494\"},\"ticker\":null},\"id\":\"1496\",\"type\":\"Grid\"},{\"attributes\":{\"fill_color\":{\"field\":\"fill_color\"},\"height\":{\"value\":1},\"line_color\":{\"field\":\"line_color\"},\"width\":{\"value\":1},\"x\":{\"field\":\"x\"},\"y\":{\"value\":0.3}},\"id\":\"1479\",\"type\":\"Rect\"},{\"attributes\":{},\"id\":\"1578\",\"type\":\"AllLabels\"},{\"attributes\":{},\"id\":\"1457\",\"type\":\"BasicTicker\"},{\"attributes\":{\"data_source\":{\"id\":\"1514\"},\"glyph\":{\"id\":\"1515\"},\"hover_glyph\":null,\"muted_glyph\":null,\"nonselection_glyph\":{\"id\":\"1516\"},\"view\":{\"id\":\"1518\"}},\"id\":\"1517\",\"type\":\"GlyphRenderer\"},{\"attributes\":{\"axis\":{\"id\":\"1460\"},\"dimension\":1,\"ticker\":null},\"id\":\"1463\",\"type\":\"Grid\"},{\"attributes\":{},\"id\":\"1468\",\"type\":\"ResetTool\"},{\"attributes\":{\"axis\":{\"id\":\"1497\"},\"dimension\":1,\"ticker\":null},\"id\":\"1499\",\"type\":\"Grid\"},{\"attributes\":{\"axis_label\":\"Sample Index\",\"formatter\":{\"id\":\"1580\"},\"major_label_policy\":{\"id\":\"1578\"},\"ticker\":{\"id\":\"1457\"}},\"id\":\"1456\",\"type\":\"LinearAxis\"},{\"attributes\":{},\"id\":\"1580\",\"type\":\"BasicTickFormatter\"},{\"attributes\":{\"formatter\":{\"id\":\"1571\"},\"major_label_policy\":{\"id\":\"1569\"},\"ticker\":{\"id\":\"1498\"}},\"id\":\"1497\",\"type\":\"CategoricalAxis\"},{\"attributes\":{\"fill_alpha\":{\"value\":0.1},\"fill_color\":{\"field\":\"fill_color\"},\"height\":{\"value\":1},\"line_alpha\":{\"value\":0.1},\"line_color\":{\"field\":\"line_color\"},\"width\":{\"value\":1},\"x\":{\"field\":\"x\"},\"y\":{\"value\":0.3}},\"id\":\"1480\",\"type\":\"Rect\"},{\"attributes\":{\"below\":[{\"id\":\"1456\"}],\"center\":[{\"id\":\"1459\"},{\"id\":\"1463\"}],\"height\":175,\"left\":[{\"id\":\"1460\"}],\"renderers\":[{\"id\":\"1481\"}],\"title\":{\"id\":\"1446\"},\"toolbar\":{\"id\":\"1471\"},\"width\":1000,\"x_range\":{\"id\":\"1448\"},\"x_scale\":{\"id\":\"1452\"},\"y_range\":{\"id\":\"1450\"},\"y_scale\":{\"id\":\"1454\"}},\"id\":\"1445\",\"subtype\":\"Figure\",\"type\":\"Plot\"},{\"attributes\":{},\"id\":\"1454\",\"type\":\"LinearScale\"},{\"attributes\":{},\"id\":\"1581\",\"type\":\"Selection\"},{\"attributes\":{},\"id\":\"1469\",\"type\":\"HelpTool\"},{\"attributes\":{},\"id\":\"1582\",\"type\":\"UnionRenderers\"},{\"attributes\":{\"bottom_units\":\"screen\",\"fill_alpha\":0.5,\"fill_color\":\"lightgrey\",\"left_units\":\"screen\",\"level\":\"overlay\",\"line_alpha\":1.0,\"line_color\":\"black\",\"line_dash\":[4,4],\"line_width\":2,\"right_units\":\"screen\",\"syncable\":false,\"top_units\":\"screen\"},\"id\":\"1470\",\"type\":\"BoxAnnotation\"},{\"attributes\":{\"render_mode\":\"css\",\"source\":{\"id\":\"1519\"},\"text\":{\"field\":\"vals\"},\"text_color\":{\"value\":\"white\"},\"text_font_size\":{\"value\":\"1em\"},\"x\":{\"field\":\"x\"},\"x_offset\":{\"value\":-12},\"y\":{\"field\":\"y\"},\"y_offset\":{\"value\":-5}},\"id\":\"1520\",\"type\":\"LabelSet\"}],\"root_ids\":[\"1522\"]},\"title\":\"Bokeh Application\",\"version\":\"2.3.1\"}};\n",
       "  var render_items = [{\"docid\":\"58bd7f9a-2f67-4329-86da-263866077b52\",\"root_ids\":[\"1522\"],\"roots\":{\"1522\":\"f4a63d4f-d091-4827-b50e-47d0d0476b75\"}}];\n",
       "  root.Bokeh.embed.embed_items_notebook(docs_json, render_items);\n",
       "\n",
       "  }\n",
       "  if (root.Bokeh !== undefined) {\n",
       "    embed_document(root);\n",
       "  } else {\n",
       "    var attempts = 0;\n",
       "    var timer = setInterval(function(root) {\n",
       "      if (root.Bokeh !== undefined) {\n",
       "        clearInterval(timer);\n",
       "        embed_document(root);\n",
       "      } else {\n",
       "        attempts++;\n",
       "        if (attempts > 100) {\n",
       "          clearInterval(timer);\n",
       "          console.log(\"Bokeh: ERROR: Unable to run BokehJS code because BokehJS library is missing\");\n",
       "        }\n",
       "      }\n",
       "    }, 10, root)\n",
       "  }\n",
       "})(window);"
      ],
      "application/vnd.bokehjs_exec.v0+json": ""
     },
     "metadata": {
      "application/vnd.bokehjs_exec.v0+json": {
       "id": "1522"
      }
     },
     "output_type": "display_data"
    }
   ],
   "source": [
    "index0 = quiet_observations[0]\n",
    "index1 = quiet_observations[1]\n",
    "#plot_sequence(P,samples)\n",
    "plot_sequence(P_s[index0], observations[index0][:150])\n",
    "plot_sequence(P_s[index1], observations[index1][:150])"
   ]
  },
  {
   "cell_type": "markdown",
   "id": "musical-harris",
   "metadata": {
    "papermill": {
     "duration": 0.034143,
     "end_time": "2021-09-10T16:11:37.437813",
     "exception": false,
     "start_time": "2021-09-10T16:11:37.403670",
     "status": "completed"
    },
    "tags": []
   },
   "source": [
    "#### Two sequences generated by a usual traffic profile"
   ]
  },
  {
   "cell_type": "code",
   "execution_count": 12,
   "id": "incorporated-lawyer",
   "metadata": {
    "execution": {
     "iopub.execute_input": "2021-09-10T16:11:37.531888Z",
     "iopub.status.busy": "2021-09-10T16:11:37.523780Z",
     "iopub.status.idle": "2021-09-10T16:11:37.721560Z",
     "shell.execute_reply": "2021-09-10T16:11:37.720883Z",
     "shell.execute_reply.started": "2021-09-10T15:20:34.876421Z"
    },
    "papermill": {
     "duration": 0.249627,
     "end_time": "2021-09-10T16:11:37.721716",
     "exception": false,
     "start_time": "2021-09-10T16:11:37.472089",
     "status": "completed"
    },
    "tags": []
   },
   "outputs": [
    {
     "data": {
      "text/html": [
       "\n",
       "\n",
       "\n",
       "\n",
       "\n",
       "\n",
       "  <div class=\"bk-root\" id=\"dc39bca1-1982-4aba-bce4-5498ff1a867d\" data-root-id=\"1776\"></div>\n"
      ]
     },
     "metadata": {},
     "output_type": "display_data"
    },
    {
     "data": {
      "application/javascript": [
       "(function(root) {\n",
       "  function embed_document(root) {\n",
       "    \n",
       "  var docs_json = {\"5996c0cc-a73f-4162-b627-aec4e9ba4002\":{\"defs\":[],\"roots\":{\"references\":[{\"attributes\":{\"children\":[{\"id\":\"1737\"},{\"id\":\"1699\"}]},\"id\":\"1776\",\"type\":\"Row\"},{\"attributes\":{\"fill_color\":{\"field\":\"fill_color\"},\"height\":{\"value\":1},\"line_color\":{\"field\":\"line_color\"},\"width\":{\"value\":1},\"x\":{\"field\":\"x\"},\"y\":{\"field\":\"y\"}},\"id\":\"1769\",\"type\":\"Rect\"},{\"attributes\":{},\"id\":\"1721\",\"type\":\"SaveTool\"},{\"attributes\":{\"factors\":[\"s0\",\"s1\",\"s2\"]},\"id\":\"1742\",\"type\":\"FactorRange\"},{\"attributes\":{},\"id\":\"1706\",\"type\":\"LinearScale\"},{\"attributes\":{\"factors\":[\"s0\",\"s1\",\"s2\"]},\"id\":\"1740\",\"type\":\"FactorRange\"},{\"attributes\":{},\"id\":\"1704\",\"type\":\"DataRange1d\"},{\"attributes\":{},\"id\":\"1754\",\"type\":\"PanTool\"},{\"attributes\":{},\"id\":\"1722\",\"type\":\"ResetTool\"},{\"attributes\":{\"below\":[{\"id\":\"1748\"}],\"center\":[{\"id\":\"1750\"},{\"id\":\"1753\"},{\"id\":\"1774\"}],\"height\":175,\"left\":[{\"id\":\"1751\"}],\"renderers\":[{\"id\":\"1771\"}],\"title\":{\"id\":\"1738\"},\"toolbar\":{\"id\":\"1761\"},\"toolbar_location\":null,\"width\":175,\"x_range\":{\"id\":\"1740\"},\"x_scale\":{\"id\":\"1744\"},\"y_range\":{\"id\":\"1742\"},\"y_scale\":{\"id\":\"1746\"}},\"id\":\"1737\",\"subtype\":\"Figure\",\"type\":\"Plot\"},{\"attributes\":{\"data_source\":{\"id\":\"1732\"},\"glyph\":{\"id\":\"1733\"},\"hover_glyph\":null,\"muted_glyph\":null,\"nonselection_glyph\":{\"id\":\"1734\"},\"view\":{\"id\":\"1736\"}},\"id\":\"1735\",\"type\":\"GlyphRenderer\"},{\"attributes\":{},\"id\":\"1755\",\"type\":\"WheelZoomTool\"},{\"attributes\":{\"bottom_units\":\"screen\",\"fill_alpha\":0.5,\"fill_color\":\"lightgrey\",\"left_units\":\"screen\",\"level\":\"overlay\",\"line_alpha\":1.0,\"line_color\":\"black\",\"line_dash\":[4,4],\"line_width\":2,\"right_units\":\"screen\",\"syncable\":false,\"top_units\":\"screen\"},\"id\":\"1760\",\"type\":\"BoxAnnotation\"},{\"attributes\":{\"data\":{\"vals\":{\"__ndarray__\":\"QmDl0CLb0T+8dJMYBFbePwRWDi2ync8/tvP91Hjpxj85tMh2vp/iP2Q730+Nl84/f2q8dJMYxD+PwvUoXI/iP0w3iUFg5dA/\",\"dtype\":\"float64\",\"order\":\"little\",\"shape\":[9]},\"x\":[0.5,1.5,2.5,0.5,1.5,2.5,0.5,1.5,2.5],\"y\":[0.5,0.5,0.5,1.5,1.5,1.5,2.5,2.5,2.5]},\"selected\":{\"id\":\"1859\"},\"selection_policy\":{\"id\":\"1860\"}},\"id\":\"1773\",\"type\":\"ColumnDataSource\"},{\"attributes\":{},\"id\":\"1723\",\"type\":\"HelpTool\"},{\"attributes\":{\"below\":[{\"id\":\"1710\"}],\"center\":[{\"id\":\"1713\"},{\"id\":\"1717\"}],\"height\":175,\"left\":[{\"id\":\"1714\"}],\"renderers\":[{\"id\":\"1735\"}],\"title\":{\"id\":\"1700\"},\"toolbar\":{\"id\":\"1725\"},\"width\":1000,\"x_range\":{\"id\":\"1702\"},\"x_scale\":{\"id\":\"1706\"},\"y_range\":{\"id\":\"1704\"},\"y_scale\":{\"id\":\"1708\"}},\"id\":\"1699\",\"subtype\":\"Figure\",\"type\":\"Plot\"},{\"attributes\":{\"overlay\":{\"id\":\"1760\"}},\"id\":\"1756\",\"type\":\"BoxZoomTool\"},{\"attributes\":{},\"id\":\"1858\",\"type\":\"UnionRenderers\"},{\"attributes\":{\"text\":\"Stochastic Matrix\"},\"id\":\"1738\",\"type\":\"Title\"},{\"attributes\":{},\"id\":\"1746\",\"type\":\"CategoricalScale\"},{\"attributes\":{},\"id\":\"1708\",\"type\":\"LinearScale\"},{\"attributes\":{},\"id\":\"1757\",\"type\":\"SaveTool\"},{\"attributes\":{},\"id\":\"1702\",\"type\":\"DataRange1d\"},{\"attributes\":{\"source\":{\"id\":\"1768\"}},\"id\":\"1772\",\"type\":\"CDSView\"},{\"attributes\":{},\"id\":\"1859\",\"type\":\"Selection\"},{\"attributes\":{\"render_mode\":\"css\",\"source\":{\"id\":\"1773\"},\"text\":{\"field\":\"vals\"},\"text_color\":{\"value\":\"white\"},\"text_font_size\":{\"value\":\"1em\"},\"x\":{\"field\":\"x\"},\"x_offset\":{\"value\":-12},\"y\":{\"field\":\"y\"},\"y_offset\":{\"value\":-5}},\"id\":\"1774\",\"type\":\"LabelSet\"},{\"attributes\":{\"axis_label\":\"Sample Index\",\"formatter\":{\"id\":\"1856\"},\"major_label_policy\":{\"id\":\"1854\"},\"ticker\":{\"id\":\"1711\"}},\"id\":\"1710\",\"type\":\"LinearAxis\"},{\"attributes\":{},\"id\":\"1758\",\"type\":\"ResetTool\"},{\"attributes\":{},\"id\":\"1860\",\"type\":\"UnionRenderers\"},{\"attributes\":{},\"id\":\"1744\",\"type\":\"CategoricalScale\"},{\"attributes\":{},\"id\":\"1711\",\"type\":\"BasicTicker\"},{\"attributes\":{},\"id\":\"1850\",\"type\":\"CategoricalTickFormatter\"},{\"attributes\":{},\"id\":\"1759\",\"type\":\"HelpTool\"},{\"attributes\":{},\"id\":\"1856\",\"type\":\"BasicTickFormatter\"},{\"attributes\":{},\"id\":\"1862\",\"type\":\"Selection\"},{\"attributes\":{\"axis\":{\"id\":\"1710\"},\"ticker\":null},\"id\":\"1713\",\"type\":\"Grid\"},{\"attributes\":{\"active_multi\":null,\"tools\":[{\"id\":\"1754\"},{\"id\":\"1755\"},{\"id\":\"1756\"},{\"id\":\"1757\"},{\"id\":\"1758\"},{\"id\":\"1759\"}]},\"id\":\"1761\",\"type\":\"Toolbar\"},{\"attributes\":{},\"id\":\"1863\",\"type\":\"UnionRenderers\"},{\"attributes\":{},\"id\":\"1847\",\"type\":\"CategoricalTickFormatter\"},{\"attributes\":{},\"id\":\"1715\",\"type\":\"BasicTicker\"},{\"attributes\":{\"formatter\":{\"id\":\"1850\"},\"major_label_policy\":{\"id\":\"1848\"},\"ticker\":{\"id\":\"1749\"}},\"id\":\"1748\",\"type\":\"CategoricalAxis\"},{\"attributes\":{\"fill_color\":{\"field\":\"fill_color\"},\"height\":{\"value\":1},\"line_color\":{\"field\":\"line_color\"},\"width\":{\"value\":1},\"x\":{\"field\":\"x\"},\"y\":{\"value\":0.3}},\"id\":\"1733\",\"type\":\"Rect\"},{\"attributes\":{\"axis\":{\"id\":\"1714\"},\"dimension\":1,\"ticker\":null},\"id\":\"1717\",\"type\":\"Grid\"},{\"attributes\":{},\"id\":\"1752\",\"type\":\"CategoricalTicker\"},{\"attributes\":{\"fill_alpha\":{\"value\":0.1},\"fill_color\":{\"field\":\"fill_color\"},\"height\":{\"value\":1},\"line_alpha\":{\"value\":0.1},\"line_color\":{\"field\":\"line_color\"},\"width\":{\"value\":1},\"x\":{\"field\":\"x\"},\"y\":{\"field\":\"y\"}},\"id\":\"1770\",\"type\":\"Rect\"},{\"attributes\":{},\"id\":\"1853\",\"type\":\"BasicTickFormatter\"},{\"attributes\":{},\"id\":\"1749\",\"type\":\"CategoricalTicker\"},{\"attributes\":{},\"id\":\"1857\",\"type\":\"Selection\"},{\"attributes\":{\"axis\":{\"id\":\"1748\"},\"ticker\":null},\"id\":\"1750\",\"type\":\"Grid\"},{\"attributes\":{},\"id\":\"1848\",\"type\":\"AllLabels\"},{\"attributes\":{\"formatter\":{\"id\":\"1853\"},\"major_label_policy\":{\"id\":\"1851\"},\"ticker\":{\"id\":\"1715\"},\"visible\":false},\"id\":\"1714\",\"type\":\"LinearAxis\"},{\"attributes\":{\"overlay\":{\"id\":\"1724\"}},\"id\":\"1720\",\"type\":\"BoxZoomTool\"},{\"attributes\":{\"bottom_units\":\"screen\",\"fill_alpha\":0.5,\"fill_color\":\"lightgrey\",\"left_units\":\"screen\",\"level\":\"overlay\",\"line_alpha\":1.0,\"line_color\":\"black\",\"line_dash\":[4,4],\"line_width\":2,\"right_units\":\"screen\",\"syncable\":false,\"top_units\":\"screen\"},\"id\":\"1724\",\"type\":\"BoxAnnotation\"},{\"attributes\":{\"axis\":{\"id\":\"1751\"},\"dimension\":1,\"ticker\":null},\"id\":\"1753\",\"type\":\"Grid\"},{\"attributes\":{\"data_source\":{\"id\":\"1768\"},\"glyph\":{\"id\":\"1769\"},\"hover_glyph\":null,\"muted_glyph\":null,\"nonselection_glyph\":{\"id\":\"1770\"},\"view\":{\"id\":\"1772\"}},\"id\":\"1771\",\"type\":\"GlyphRenderer\"},{\"attributes\":{\"active_multi\":null,\"tools\":[{\"id\":\"1718\"},{\"id\":\"1719\"},{\"id\":\"1720\"},{\"id\":\"1721\"},{\"id\":\"1722\"},{\"id\":\"1723\"}]},\"id\":\"1725\",\"type\":\"Toolbar\"},{\"attributes\":{},\"id\":\"1854\",\"type\":\"AllLabels\"},{\"attributes\":{\"formatter\":{\"id\":\"1847\"},\"major_label_policy\":{\"id\":\"1845\"},\"ticker\":{\"id\":\"1752\"}},\"id\":\"1751\",\"type\":\"CategoricalAxis\"},{\"attributes\":{\"text\":\"# of Vehicles vs Time\"},\"id\":\"1700\",\"type\":\"Title\"},{\"attributes\":{\"data\":{\"fill_color\":[\"#1f59b9\",\"#1f59b9\",\"#f9b749\",\"#f9b749\",\"#f9b749\",\"#f9b749\",\"#f9b749\",\"#1f59b9\",\"#f9b749\",\"#f9b749\",\"#f9b749\",\"#9528c7\",\"#f9b749\",\"#f9b749\",\"#9528c7\",\"#f9b749\",\"#9528c7\",\"#9528c7\",\"#f9b749\",\"#9528c7\",\"#f9b749\",\"#f9b749\",\"#9528c7\",\"#f9b749\",\"#f9b749\",\"#f9b749\",\"#9528c7\",\"#f9b749\",\"#f9b749\",\"#9528c7\",\"#f9b749\",\"#f9b749\",\"#f9b749\",\"#9528c7\",\"#9528c7\",\"#f9b749\",\"#9528c7\",\"#f9b749\",\"#f9b749\",\"#f9b749\",\"#f9b749\",\"#9528c7\",\"#9528c7\",\"#f9b749\",\"#9528c7\",\"#f9b749\",\"#1f59b9\",\"#1f59b9\",\"#f9b749\",\"#f9b749\",\"#f9b749\",\"#f9b749\",\"#9528c7\",\"#f9b749\",\"#f9b749\",\"#9528c7\",\"#9528c7\",\"#9528c7\",\"#1f59b9\",\"#9528c7\",\"#f9b749\",\"#f9b749\",\"#9528c7\",\"#1f59b9\",\"#f9b749\",\"#f9b749\",\"#f9b749\",\"#f9b749\",\"#f9b749\",\"#9528c7\",\"#9528c7\",\"#f9b749\",\"#f9b749\",\"#1f59b9\",\"#f9b749\",\"#f9b749\",\"#f9b749\",\"#1f59b9\",\"#f9b749\",\"#f9b749\",\"#1f59b9\",\"#f9b749\",\"#f9b749\",\"#9528c7\",\"#f9b749\",\"#1f59b9\",\"#9528c7\",\"#f9b749\",\"#f9b749\",\"#1f59b9\",\"#f9b749\",\"#9528c7\",\"#9528c7\",\"#1f59b9\",\"#f9b749\",\"#9528c7\",\"#f9b749\",\"#f9b749\",\"#f9b749\",\"#f9b749\",\"#9528c7\",\"#f9b749\",\"#9528c7\",\"#9528c7\",\"#f9b749\",\"#f9b749\",\"#f9b749\",\"#f9b749\",\"#f9b749\",\"#9528c7\",\"#f9b749\",\"#f9b749\",\"#1f59b9\",\"#1f59b9\",\"#1f59b9\",\"#f9b749\",\"#1f59b9\",\"#9528c7\",\"#1f59b9\",\"#f9b749\",\"#f9b749\",\"#f9b749\",\"#f9b749\",\"#9528c7\",\"#f9b749\",\"#1f59b9\",\"#9528c7\",\"#f9b749\",\"#9528c7\",\"#9528c7\",\"#9528c7\",\"#f9b749\",\"#f9b749\",\"#f9b749\",\"#f9b749\",\"#f9b749\",\"#9528c7\",\"#f9b749\",\"#f9b749\",\"#9528c7\",\"#f9b749\",\"#f9b749\",\"#1f59b9\",\"#1f59b9\",\"#f9b749\",\"#9528c7\",\"#f9b749\",\"#9528c7\",\"#1f59b9\",\"#1f59b9\"],\"line_color\":[\"#1f59b9\",\"#1f59b9\",\"#f9b749\",\"#f9b749\",\"#f9b749\",\"#f9b749\",\"#f9b749\",\"#1f59b9\",\"#f9b749\",\"#f9b749\",\"#f9b749\",\"#9528c7\",\"#f9b749\",\"#f9b749\",\"#9528c7\",\"#f9b749\",\"#9528c7\",\"#9528c7\",\"#f9b749\",\"#9528c7\",\"#f9b749\",\"#f9b749\",\"#9528c7\",\"#f9b749\",\"#f9b749\",\"#f9b749\",\"#9528c7\",\"#f9b749\",\"#f9b749\",\"#9528c7\",\"#f9b749\",\"#f9b749\",\"#f9b749\",\"#9528c7\",\"#9528c7\",\"#f9b749\",\"#9528c7\",\"#f9b749\",\"#f9b749\",\"#f9b749\",\"#f9b749\",\"#9528c7\",\"#9528c7\",\"#f9b749\",\"#9528c7\",\"#f9b749\",\"#1f59b9\",\"#1f59b9\",\"#f9b749\",\"#f9b749\",\"#f9b749\",\"#f9b749\",\"#9528c7\",\"#f9b749\",\"#f9b749\",\"#9528c7\",\"#9528c7\",\"#9528c7\",\"#1f59b9\",\"#9528c7\",\"#f9b749\",\"#f9b749\",\"#9528c7\",\"#1f59b9\",\"#f9b749\",\"#f9b749\",\"#f9b749\",\"#f9b749\",\"#f9b749\",\"#9528c7\",\"#9528c7\",\"#f9b749\",\"#f9b749\",\"#1f59b9\",\"#f9b749\",\"#f9b749\",\"#f9b749\",\"#1f59b9\",\"#f9b749\",\"#f9b749\",\"#1f59b9\",\"#f9b749\",\"#f9b749\",\"#9528c7\",\"#f9b749\",\"#1f59b9\",\"#9528c7\",\"#f9b749\",\"#f9b749\",\"#1f59b9\",\"#f9b749\",\"#9528c7\",\"#9528c7\",\"#1f59b9\",\"#f9b749\",\"#9528c7\",\"#f9b749\",\"#f9b749\",\"#f9b749\",\"#f9b749\",\"#9528c7\",\"#f9b749\",\"#9528c7\",\"#9528c7\",\"#f9b749\",\"#f9b749\",\"#f9b749\",\"#f9b749\",\"#f9b749\",\"#9528c7\",\"#f9b749\",\"#f9b749\",\"#1f59b9\",\"#1f59b9\",\"#1f59b9\",\"#f9b749\",\"#1f59b9\",\"#9528c7\",\"#1f59b9\",\"#f9b749\",\"#f9b749\",\"#f9b749\",\"#f9b749\",\"#9528c7\",\"#f9b749\",\"#1f59b9\",\"#9528c7\",\"#f9b749\",\"#9528c7\",\"#9528c7\",\"#9528c7\",\"#f9b749\",\"#f9b749\",\"#f9b749\",\"#f9b749\",\"#f9b749\",\"#9528c7\",\"#f9b749\",\"#f9b749\",\"#9528c7\",\"#f9b749\",\"#f9b749\",\"#1f59b9\",\"#1f59b9\",\"#f9b749\",\"#9528c7\",\"#f9b749\",\"#9528c7\",\"#1f59b9\",\"#1f59b9\"],\"x\":[0,1,2,3,4,5,6,7,8,9,10,11,12,13,14,15,16,17,18,19,20,21,22,23,24,25,26,27,28,29,30,31,32,33,34,35,36,37,38,39,40,41,42,43,44,45,46,47,48,49,50,51,52,53,54,55,56,57,58,59,60,61,62,63,64,65,66,67,68,69,70,71,72,73,74,75,76,77,78,79,80,81,82,83,84,85,86,87,88,89,90,91,92,93,94,95,96,97,98,99,100,101,102,103,104,105,106,107,108,109,110,111,112,113,114,115,116,117,118,119,120,121,122,123,124,125,126,127,128,129,130,131,132,133,134,135,136,137,138,139,140,141,142,143,144,145,146,147,148,149]},\"selected\":{\"id\":\"1862\"},\"selection_policy\":{\"id\":\"1863\"}},\"id\":\"1732\",\"type\":\"ColumnDataSource\"},{\"attributes\":{\"fill_alpha\":{\"value\":0.1},\"fill_color\":{\"field\":\"fill_color\"},\"height\":{\"value\":1},\"line_alpha\":{\"value\":0.1},\"line_color\":{\"field\":\"line_color\"},\"width\":{\"value\":1},\"x\":{\"field\":\"x\"},\"y\":{\"value\":0.3}},\"id\":\"1734\",\"type\":\"Rect\"},{\"attributes\":{},\"id\":\"1845\",\"type\":\"AllLabels\"},{\"attributes\":{},\"id\":\"1851\",\"type\":\"AllLabels\"},{\"attributes\":{},\"id\":\"1718\",\"type\":\"PanTool\"},{\"attributes\":{},\"id\":\"1719\",\"type\":\"WheelZoomTool\"},{\"attributes\":{\"data\":{\"fill_color\":[\"#009cff\",\"#66ff90\",\"#007cff\",\"#0034ff\",\"#beff39\",\"#0074ff\",\"#0020ff\",\"#beff39\",\"#008cff\"],\"line_color\":[\"#009cff\",\"#66ff90\",\"#007cff\",\"#0034ff\",\"#beff39\",\"#0074ff\",\"#0020ff\",\"#beff39\",\"#008cff\"],\"x\":[0.5,1.5,2.5,0.5,1.5,2.5,0.5,1.5,2.5],\"y\":[0.5,0.5,0.5,1.5,1.5,1.5,2.5,2.5,2.5]},\"selected\":{\"id\":\"1857\"},\"selection_policy\":{\"id\":\"1858\"}},\"id\":\"1768\",\"type\":\"ColumnDataSource\"},{\"attributes\":{\"source\":{\"id\":\"1732\"}},\"id\":\"1736\",\"type\":\"CDSView\"}],\"root_ids\":[\"1776\"]},\"title\":\"Bokeh Application\",\"version\":\"2.3.1\"}};\n",
       "  var render_items = [{\"docid\":\"5996c0cc-a73f-4162-b627-aec4e9ba4002\",\"root_ids\":[\"1776\"],\"roots\":{\"1776\":\"dc39bca1-1982-4aba-bce4-5498ff1a867d\"}}];\n",
       "  root.Bokeh.embed.embed_items_notebook(docs_json, render_items);\n",
       "\n",
       "  }\n",
       "  if (root.Bokeh !== undefined) {\n",
       "    embed_document(root);\n",
       "  } else {\n",
       "    var attempts = 0;\n",
       "    var timer = setInterval(function(root) {\n",
       "      if (root.Bokeh !== undefined) {\n",
       "        clearInterval(timer);\n",
       "        embed_document(root);\n",
       "      } else {\n",
       "        attempts++;\n",
       "        if (attempts > 100) {\n",
       "          clearInterval(timer);\n",
       "          console.log(\"Bokeh: ERROR: Unable to run BokehJS code because BokehJS library is missing\");\n",
       "        }\n",
       "      }\n",
       "    }, 10, root)\n",
       "  }\n",
       "})(window);"
      ],
      "application/vnd.bokehjs_exec.v0+json": ""
     },
     "metadata": {
      "application/vnd.bokehjs_exec.v0+json": {
       "id": "1776"
      }
     },
     "output_type": "display_data"
    },
    {
     "data": {
      "text/html": [
       "\n",
       "\n",
       "\n",
       "\n",
       "\n",
       "\n",
       "  <div class=\"bk-root\" id=\"99e4ea22-11ec-429c-9677-275e6d193ac5\" data-root-id=\"2052\"></div>\n"
      ]
     },
     "metadata": {},
     "output_type": "display_data"
    },
    {
     "data": {
      "application/javascript": [
       "(function(root) {\n",
       "  function embed_document(root) {\n",
       "    \n",
       "  var docs_json = {\"906846c8-e2db-42ec-b7a3-413645d53b7f\":{\"defs\":[],\"roots\":{\"references\":[{\"attributes\":{\"children\":[{\"id\":\"2013\"},{\"id\":\"1975\"}]},\"id\":\"2052\",\"type\":\"Row\"},{\"attributes\":{},\"id\":\"2020\",\"type\":\"CategoricalScale\"},{\"attributes\":{\"render_mode\":\"css\",\"source\":{\"id\":\"2049\"},\"text\":{\"field\":\"vals\"},\"text_color\":{\"value\":\"white\"},\"text_font_size\":{\"value\":\"1em\"},\"x\":{\"field\":\"x\"},\"x_offset\":{\"value\":-12},\"y\":{\"field\":\"y\"},\"y_offset\":{\"value\":-5}},\"id\":\"2050\",\"type\":\"LabelSet\"},{\"attributes\":{\"fill_color\":{\"field\":\"fill_color\"},\"height\":{\"value\":1},\"line_color\":{\"field\":\"line_color\"},\"width\":{\"value\":1},\"x\":{\"field\":\"x\"},\"y\":{\"field\":\"y\"}},\"id\":\"2045\",\"type\":\"Rect\"},{\"attributes\":{},\"id\":\"2035\",\"type\":\"HelpTool\"},{\"attributes\":{\"factors\":[\"s0\",\"s1\",\"s2\"]},\"id\":\"2018\",\"type\":\"FactorRange\"},{\"attributes\":{\"active_multi\":null,\"tools\":[{\"id\":\"2030\"},{\"id\":\"2031\"},{\"id\":\"2032\"},{\"id\":\"2033\"},{\"id\":\"2034\"},{\"id\":\"2035\"}]},\"id\":\"2037\",\"type\":\"Toolbar\"},{\"attributes\":{\"data\":{\"fill_color\":[\"#0060ff\",\"#90ff66\",\"#0084ff\",\"#0038ff\",\"#9dff5a\",\"#009cff\",\"#0040ff\",\"#5dff9a\",\"#00e0fb\"],\"line_color\":[\"#0060ff\",\"#90ff66\",\"#0084ff\",\"#0038ff\",\"#9dff5a\",\"#009cff\",\"#0040ff\",\"#5dff9a\",\"#00e0fb\"],\"x\":[0.5,1.5,2.5,0.5,1.5,2.5,0.5,1.5,2.5],\"y\":[0.5,0.5,0.5,1.5,1.5,1.5,2.5,2.5,2.5]},\"selected\":{\"id\":\"2155\"},\"selection_policy\":{\"id\":\"2156\"}},\"id\":\"2044\",\"type\":\"ColumnDataSource\"},{\"attributes\":{},\"id\":\"2148\",\"type\":\"CategoricalTickFormatter\"},{\"attributes\":{\"formatter\":{\"id\":\"2151\"},\"major_label_policy\":{\"id\":\"2149\"},\"ticker\":{\"id\":\"1991\"},\"visible\":false},\"id\":\"1990\",\"type\":\"LinearAxis\"},{\"attributes\":{},\"id\":\"1982\",\"type\":\"LinearScale\"},{\"attributes\":{},\"id\":\"2145\",\"type\":\"CategoricalTickFormatter\"},{\"attributes\":{\"data\":{\"vals\":{\"__ndarray__\":\"fT81XrpJzD/4U+Olm8TgP1K4HoXrUdA/XrpJDAIrxz8dWmQ730/hP+58PzVeutE/UrgehetRyD9vEoPAyqHdP2iR7Xw/NdY/\",\"dtype\":\"float64\",\"order\":\"little\",\"shape\":[9]},\"x\":[0.5,1.5,2.5,0.5,1.5,2.5,0.5,1.5,2.5],\"y\":[0.5,0.5,0.5,1.5,1.5,1.5,2.5,2.5,2.5]},\"selected\":{\"id\":\"2157\"},\"selection_policy\":{\"id\":\"2158\"}},\"id\":\"2049\",\"type\":\"ColumnDataSource\"},{\"attributes\":{},\"id\":\"2151\",\"type\":\"BasicTickFormatter\"},{\"attributes\":{},\"id\":\"1984\",\"type\":\"LinearScale\"},{\"attributes\":{},\"id\":\"2152\",\"type\":\"AllLabels\"},{\"attributes\":{\"bottom_units\":\"screen\",\"fill_alpha\":0.5,\"fill_color\":\"lightgrey\",\"left_units\":\"screen\",\"level\":\"overlay\",\"line_alpha\":1.0,\"line_color\":\"black\",\"line_dash\":[4,4],\"line_width\":2,\"right_units\":\"screen\",\"syncable\":false,\"top_units\":\"screen\"},\"id\":\"2000\",\"type\":\"BoxAnnotation\"},{\"attributes\":{\"below\":[{\"id\":\"1986\"}],\"center\":[{\"id\":\"1989\"},{\"id\":\"1993\"}],\"height\":175,\"left\":[{\"id\":\"1990\"}],\"renderers\":[{\"id\":\"2011\"}],\"title\":{\"id\":\"1976\"},\"toolbar\":{\"id\":\"2001\"},\"width\":1000,\"x_range\":{\"id\":\"1978\"},\"x_scale\":{\"id\":\"1982\"},\"y_range\":{\"id\":\"1980\"},\"y_scale\":{\"id\":\"1984\"}},\"id\":\"1975\",\"subtype\":\"Figure\",\"type\":\"Plot\"},{\"attributes\":{\"source\":{\"id\":\"2044\"}},\"id\":\"2048\",\"type\":\"CDSView\"},{\"attributes\":{},\"id\":\"2154\",\"type\":\"BasicTickFormatter\"},{\"attributes\":{\"formatter\":{\"id\":\"2145\"},\"major_label_policy\":{\"id\":\"2143\"},\"ticker\":{\"id\":\"2028\"}},\"id\":\"2027\",\"type\":\"CategoricalAxis\"},{\"attributes\":{\"axis\":{\"id\":\"1990\"},\"dimension\":1,\"ticker\":null},\"id\":\"1993\",\"type\":\"Grid\"},{\"attributes\":{},\"id\":\"2143\",\"type\":\"AllLabels\"},{\"attributes\":{\"axis\":{\"id\":\"2027\"},\"dimension\":1,\"ticker\":null},\"id\":\"2029\",\"type\":\"Grid\"},{\"attributes\":{},\"id\":\"2155\",\"type\":\"Selection\"},{\"attributes\":{\"axis\":{\"id\":\"1986\"},\"ticker\":null},\"id\":\"1989\",\"type\":\"Grid\"},{\"attributes\":{\"axis\":{\"id\":\"2024\"},\"ticker\":null},\"id\":\"2026\",\"type\":\"Grid\"},{\"attributes\":{\"axis_label\":\"Sample Index\",\"formatter\":{\"id\":\"2154\"},\"major_label_policy\":{\"id\":\"2152\"},\"ticker\":{\"id\":\"1987\"}},\"id\":\"1986\",\"type\":\"LinearAxis\"},{\"attributes\":{\"active_multi\":null,\"tools\":[{\"id\":\"1994\"},{\"id\":\"1995\"},{\"id\":\"1996\"},{\"id\":\"1997\"},{\"id\":\"1998\"},{\"id\":\"1999\"}]},\"id\":\"2001\",\"type\":\"Toolbar\"},{\"attributes\":{},\"id\":\"2156\",\"type\":\"UnionRenderers\"},{\"attributes\":{\"data_source\":{\"id\":\"2044\"},\"glyph\":{\"id\":\"2045\"},\"hover_glyph\":null,\"muted_glyph\":null,\"nonselection_glyph\":{\"id\":\"2046\"},\"view\":{\"id\":\"2048\"}},\"id\":\"2047\",\"type\":\"GlyphRenderer\"},{\"attributes\":{},\"id\":\"1987\",\"type\":\"BasicTicker\"},{\"attributes\":{},\"id\":\"1998\",\"type\":\"ResetTool\"},{\"attributes\":{},\"id\":\"2025\",\"type\":\"CategoricalTicker\"},{\"attributes\":{},\"id\":\"2028\",\"type\":\"CategoricalTicker\"},{\"attributes\":{},\"id\":\"2158\",\"type\":\"UnionRenderers\"},{\"attributes\":{\"formatter\":{\"id\":\"2148\"},\"major_label_policy\":{\"id\":\"2146\"},\"ticker\":{\"id\":\"2025\"}},\"id\":\"2024\",\"type\":\"CategoricalAxis\"},{\"attributes\":{},\"id\":\"2157\",\"type\":\"Selection\"},{\"attributes\":{},\"id\":\"2030\",\"type\":\"PanTool\"},{\"attributes\":{},\"id\":\"1991\",\"type\":\"BasicTicker\"},{\"attributes\":{\"fill_alpha\":{\"value\":0.1},\"fill_color\":{\"field\":\"fill_color\"},\"height\":{\"value\":1},\"line_alpha\":{\"value\":0.1},\"line_color\":{\"field\":\"line_color\"},\"width\":{\"value\":1},\"x\":{\"field\":\"x\"},\"y\":{\"field\":\"y\"}},\"id\":\"2046\",\"type\":\"Rect\"},{\"attributes\":{},\"id\":\"1995\",\"type\":\"WheelZoomTool\"},{\"attributes\":{},\"id\":\"2160\",\"type\":\"Selection\"},{\"attributes\":{\"overlay\":{\"id\":\"2000\"}},\"id\":\"1996\",\"type\":\"BoxZoomTool\"},{\"attributes\":{\"source\":{\"id\":\"2008\"}},\"id\":\"2012\",\"type\":\"CDSView\"},{\"attributes\":{},\"id\":\"2161\",\"type\":\"UnionRenderers\"},{\"attributes\":{\"bottom_units\":\"screen\",\"fill_alpha\":0.5,\"fill_color\":\"lightgrey\",\"left_units\":\"screen\",\"level\":\"overlay\",\"line_alpha\":1.0,\"line_color\":\"black\",\"line_dash\":[4,4],\"line_width\":2,\"right_units\":\"screen\",\"syncable\":false,\"top_units\":\"screen\"},\"id\":\"2036\",\"type\":\"BoxAnnotation\"},{\"attributes\":{},\"id\":\"2034\",\"type\":\"ResetTool\"},{\"attributes\":{\"fill_alpha\":{\"value\":0.1},\"fill_color\":{\"field\":\"fill_color\"},\"height\":{\"value\":1},\"line_alpha\":{\"value\":0.1},\"line_color\":{\"field\":\"line_color\"},\"width\":{\"value\":1},\"x\":{\"field\":\"x\"},\"y\":{\"value\":0.3}},\"id\":\"2010\",\"type\":\"Rect\"},{\"attributes\":{},\"id\":\"2022\",\"type\":\"CategoricalScale\"},{\"attributes\":{\"text\":\"Stochastic Matrix\"},\"id\":\"2014\",\"type\":\"Title\"},{\"attributes\":{},\"id\":\"1978\",\"type\":\"DataRange1d\"},{\"attributes\":{},\"id\":\"2033\",\"type\":\"SaveTool\"},{\"attributes\":{\"text\":\"# of Vehicles vs Time\"},\"id\":\"1976\",\"type\":\"Title\"},{\"attributes\":{\"data\":{\"fill_color\":[\"#1f59b9\",\"#9528c7\",\"#f9b749\",\"#f9b749\",\"#f9b749\",\"#f9b749\",\"#9528c7\",\"#f9b749\",\"#9528c7\",\"#9528c7\",\"#9528c7\",\"#9528c7\",\"#f9b749\",\"#1f59b9\",\"#f9b749\",\"#f9b749\",\"#1f59b9\",\"#1f59b9\",\"#9528c7\",\"#9528c7\",\"#f9b749\",\"#f9b749\",\"#f9b749\",\"#f9b749\",\"#f9b749\",\"#f9b749\",\"#f9b749\",\"#f9b749\",\"#f9b749\",\"#1f59b9\",\"#9528c7\",\"#9528c7\",\"#1f59b9\",\"#f9b749\",\"#9528c7\",\"#f9b749\",\"#9528c7\",\"#1f59b9\",\"#f9b749\",\"#1f59b9\",\"#1f59b9\",\"#f9b749\",\"#f9b749\",\"#9528c7\",\"#f9b749\",\"#f9b749\",\"#f9b749\",\"#1f59b9\",\"#f9b749\",\"#9528c7\",\"#9528c7\",\"#9528c7\",\"#f9b749\",\"#f9b749\",\"#9528c7\",\"#f9b749\",\"#f9b749\",\"#1f59b9\",\"#f9b749\",\"#9528c7\",\"#9528c7\",\"#9528c7\",\"#1f59b9\",\"#f9b749\",\"#f9b749\",\"#9528c7\",\"#f9b749\",\"#9528c7\",\"#f9b749\",\"#f9b749\",\"#9528c7\",\"#f9b749\",\"#f9b749\",\"#9528c7\",\"#9528c7\",\"#9528c7\",\"#9528c7\",\"#9528c7\",\"#9528c7\",\"#1f59b9\",\"#9528c7\",\"#9528c7\",\"#1f59b9\",\"#9528c7\",\"#f9b749\",\"#1f59b9\",\"#9528c7\",\"#f9b749\",\"#1f59b9\",\"#f9b749\",\"#1f59b9\",\"#1f59b9\",\"#1f59b9\",\"#f9b749\",\"#f9b749\",\"#f9b749\",\"#f9b749\",\"#f9b749\",\"#f9b749\",\"#f9b749\",\"#f9b749\",\"#f9b749\",\"#f9b749\",\"#f9b749\",\"#9528c7\",\"#f9b749\",\"#9528c7\",\"#1f59b9\",\"#9528c7\",\"#1f59b9\",\"#9528c7\",\"#9528c7\",\"#f9b749\",\"#f9b749\",\"#f9b749\",\"#9528c7\",\"#f9b749\",\"#1f59b9\",\"#f9b749\",\"#f9b749\",\"#f9b749\",\"#9528c7\",\"#9528c7\",\"#f9b749\",\"#f9b749\",\"#f9b749\",\"#f9b749\",\"#f9b749\",\"#f9b749\",\"#f9b749\",\"#9528c7\",\"#9528c7\",\"#9528c7\",\"#1f59b9\",\"#f9b749\",\"#f9b749\",\"#f9b749\",\"#9528c7\",\"#9528c7\",\"#9528c7\",\"#9528c7\",\"#f9b749\",\"#f9b749\",\"#9528c7\",\"#1f59b9\",\"#f9b749\",\"#f9b749\",\"#9528c7\",\"#f9b749\",\"#f9b749\"],\"line_color\":[\"#1f59b9\",\"#9528c7\",\"#f9b749\",\"#f9b749\",\"#f9b749\",\"#f9b749\",\"#9528c7\",\"#f9b749\",\"#9528c7\",\"#9528c7\",\"#9528c7\",\"#9528c7\",\"#f9b749\",\"#1f59b9\",\"#f9b749\",\"#f9b749\",\"#1f59b9\",\"#1f59b9\",\"#9528c7\",\"#9528c7\",\"#f9b749\",\"#f9b749\",\"#f9b749\",\"#f9b749\",\"#f9b749\",\"#f9b749\",\"#f9b749\",\"#f9b749\",\"#f9b749\",\"#1f59b9\",\"#9528c7\",\"#9528c7\",\"#1f59b9\",\"#f9b749\",\"#9528c7\",\"#f9b749\",\"#9528c7\",\"#1f59b9\",\"#f9b749\",\"#1f59b9\",\"#1f59b9\",\"#f9b749\",\"#f9b749\",\"#9528c7\",\"#f9b749\",\"#f9b749\",\"#f9b749\",\"#1f59b9\",\"#f9b749\",\"#9528c7\",\"#9528c7\",\"#9528c7\",\"#f9b749\",\"#f9b749\",\"#9528c7\",\"#f9b749\",\"#f9b749\",\"#1f59b9\",\"#f9b749\",\"#9528c7\",\"#9528c7\",\"#9528c7\",\"#1f59b9\",\"#f9b749\",\"#f9b749\",\"#9528c7\",\"#f9b749\",\"#9528c7\",\"#f9b749\",\"#f9b749\",\"#9528c7\",\"#f9b749\",\"#f9b749\",\"#9528c7\",\"#9528c7\",\"#9528c7\",\"#9528c7\",\"#9528c7\",\"#9528c7\",\"#1f59b9\",\"#9528c7\",\"#9528c7\",\"#1f59b9\",\"#9528c7\",\"#f9b749\",\"#1f59b9\",\"#9528c7\",\"#f9b749\",\"#1f59b9\",\"#f9b749\",\"#1f59b9\",\"#1f59b9\",\"#1f59b9\",\"#f9b749\",\"#f9b749\",\"#f9b749\",\"#f9b749\",\"#f9b749\",\"#f9b749\",\"#f9b749\",\"#f9b749\",\"#f9b749\",\"#f9b749\",\"#f9b749\",\"#9528c7\",\"#f9b749\",\"#9528c7\",\"#1f59b9\",\"#9528c7\",\"#1f59b9\",\"#9528c7\",\"#9528c7\",\"#f9b749\",\"#f9b749\",\"#f9b749\",\"#9528c7\",\"#f9b749\",\"#1f59b9\",\"#f9b749\",\"#f9b749\",\"#f9b749\",\"#9528c7\",\"#9528c7\",\"#f9b749\",\"#f9b749\",\"#f9b749\",\"#f9b749\",\"#f9b749\",\"#f9b749\",\"#f9b749\",\"#9528c7\",\"#9528c7\",\"#9528c7\",\"#1f59b9\",\"#f9b749\",\"#f9b749\",\"#f9b749\",\"#9528c7\",\"#9528c7\",\"#9528c7\",\"#9528c7\",\"#f9b749\",\"#f9b749\",\"#9528c7\",\"#1f59b9\",\"#f9b749\",\"#f9b749\",\"#9528c7\",\"#f9b749\",\"#f9b749\"],\"x\":[0,1,2,3,4,5,6,7,8,9,10,11,12,13,14,15,16,17,18,19,20,21,22,23,24,25,26,27,28,29,30,31,32,33,34,35,36,37,38,39,40,41,42,43,44,45,46,47,48,49,50,51,52,53,54,55,56,57,58,59,60,61,62,63,64,65,66,67,68,69,70,71,72,73,74,75,76,77,78,79,80,81,82,83,84,85,86,87,88,89,90,91,92,93,94,95,96,97,98,99,100,101,102,103,104,105,106,107,108,109,110,111,112,113,114,115,116,117,118,119,120,121,122,123,124,125,126,127,128,129,130,131,132,133,134,135,136,137,138,139,140,141,142,143,144,145,146,147,148,149]},\"selected\":{\"id\":\"2160\"},\"selection_policy\":{\"id\":\"2161\"}},\"id\":\"2008\",\"type\":\"ColumnDataSource\"},{\"attributes\":{\"overlay\":{\"id\":\"2036\"}},\"id\":\"2032\",\"type\":\"BoxZoomTool\"},{\"attributes\":{},\"id\":\"1999\",\"type\":\"HelpTool\"},{\"attributes\":{\"below\":[{\"id\":\"2024\"}],\"center\":[{\"id\":\"2026\"},{\"id\":\"2029\"},{\"id\":\"2050\"}],\"height\":175,\"left\":[{\"id\":\"2027\"}],\"renderers\":[{\"id\":\"2047\"}],\"title\":{\"id\":\"2014\"},\"toolbar\":{\"id\":\"2037\"},\"toolbar_location\":null,\"width\":175,\"x_range\":{\"id\":\"2016\"},\"x_scale\":{\"id\":\"2020\"},\"y_range\":{\"id\":\"2018\"},\"y_scale\":{\"id\":\"2022\"}},\"id\":\"2013\",\"subtype\":\"Figure\",\"type\":\"Plot\"},{\"attributes\":{\"fill_color\":{\"field\":\"fill_color\"},\"height\":{\"value\":1},\"line_color\":{\"field\":\"line_color\"},\"width\":{\"value\":1},\"x\":{\"field\":\"x\"},\"y\":{\"value\":0.3}},\"id\":\"2009\",\"type\":\"Rect\"},{\"attributes\":{},\"id\":\"1994\",\"type\":\"PanTool\"},{\"attributes\":{\"factors\":[\"s0\",\"s1\",\"s2\"]},\"id\":\"2016\",\"type\":\"FactorRange\"},{\"attributes\":{\"data_source\":{\"id\":\"2008\"},\"glyph\":{\"id\":\"2009\"},\"hover_glyph\":null,\"muted_glyph\":null,\"nonselection_glyph\":{\"id\":\"2010\"},\"view\":{\"id\":\"2012\"}},\"id\":\"2011\",\"type\":\"GlyphRenderer\"},{\"attributes\":{},\"id\":\"1980\",\"type\":\"DataRange1d\"},{\"attributes\":{},\"id\":\"2031\",\"type\":\"WheelZoomTool\"},{\"attributes\":{},\"id\":\"1997\",\"type\":\"SaveTool\"},{\"attributes\":{},\"id\":\"2146\",\"type\":\"AllLabels\"},{\"attributes\":{},\"id\":\"2149\",\"type\":\"AllLabels\"}],\"root_ids\":[\"2052\"]},\"title\":\"Bokeh Application\",\"version\":\"2.3.1\"}};\n",
       "  var render_items = [{\"docid\":\"906846c8-e2db-42ec-b7a3-413645d53b7f\",\"root_ids\":[\"2052\"],\"roots\":{\"2052\":\"99e4ea22-11ec-429c-9677-275e6d193ac5\"}}];\n",
       "  root.Bokeh.embed.embed_items_notebook(docs_json, render_items);\n",
       "\n",
       "  }\n",
       "  if (root.Bokeh !== undefined) {\n",
       "    embed_document(root);\n",
       "  } else {\n",
       "    var attempts = 0;\n",
       "    var timer = setInterval(function(root) {\n",
       "      if (root.Bokeh !== undefined) {\n",
       "        clearInterval(timer);\n",
       "        embed_document(root);\n",
       "      } else {\n",
       "        attempts++;\n",
       "        if (attempts > 100) {\n",
       "          clearInterval(timer);\n",
       "          console.log(\"Bokeh: ERROR: Unable to run BokehJS code because BokehJS library is missing\");\n",
       "        }\n",
       "      }\n",
       "    }, 10, root)\n",
       "  }\n",
       "})(window);"
      ],
      "application/vnd.bokehjs_exec.v0+json": ""
     },
     "metadata": {
      "application/vnd.bokehjs_exec.v0+json": {
       "id": "2052"
      }
     },
     "output_type": "display_data"
    }
   ],
   "source": [
    "index0 = usual_observations[0]\n",
    "index1 = usual_observations[1]\n",
    "\n",
    "plot_sequence(P_s[index0], observations[index0][:150])\n",
    "plot_sequence(P_s[index1], observations[index1][:150])"
   ]
  },
  {
   "cell_type": "markdown",
   "id": "laughing-planner",
   "metadata": {
    "execution": {
     "iopub.execute_input": "2021-09-07T16:02:47.92682Z",
     "iopub.status.busy": "2021-09-07T16:02:47.924237Z",
     "iopub.status.idle": "2021-09-07T16:02:47.931518Z",
     "shell.execute_reply": "2021-09-07T16:02:47.93031Z",
     "shell.execute_reply.started": "2021-09-07T16:02:47.926755Z"
    },
    "papermill": {
     "duration": 0.035778,
     "end_time": "2021-09-10T16:11:37.793532",
     "exception": false,
     "start_time": "2021-09-10T16:11:37.757754",
     "status": "completed"
    },
    "tags": []
   },
   "source": [
    "#### Two sequences generated by a busy traffic profile"
   ]
  },
  {
   "cell_type": "code",
   "execution_count": 13,
   "id": "accessory-cleaners",
   "metadata": {
    "execution": {
     "iopub.execute_input": "2021-09-10T16:11:37.923161Z",
     "iopub.status.busy": "2021-09-10T16:11:37.912575Z",
     "iopub.status.idle": "2021-09-10T16:11:38.116380Z",
     "shell.execute_reply": "2021-09-10T16:11:38.115759Z",
     "shell.execute_reply.started": "2021-09-10T15:20:36.175078Z"
    },
    "papermill": {
     "duration": 0.28665,
     "end_time": "2021-09-10T16:11:38.116521",
     "exception": false,
     "start_time": "2021-09-10T16:11:37.829871",
     "status": "completed"
    },
    "tags": []
   },
   "outputs": [
    {
     "data": {
      "text/html": [
       "\n",
       "\n",
       "\n",
       "\n",
       "\n",
       "\n",
       "  <div class=\"bk-root\" id=\"944a33d0-ef40-4ac7-b3d8-50fe8e2c490f\" data-root-id=\"2350\"></div>\n"
      ]
     },
     "metadata": {},
     "output_type": "display_data"
    },
    {
     "data": {
      "application/javascript": [
       "(function(root) {\n",
       "  function embed_document(root) {\n",
       "    \n",
       "  var docs_json = {\"23eb4968-d79d-4c06-8e5d-40c6e07fa499\":{\"defs\":[],\"roots\":{\"references\":[{\"attributes\":{\"children\":[{\"id\":\"2311\"},{\"id\":\"2273\"}]},\"id\":\"2350\",\"type\":\"Row\"},{\"attributes\":{\"axis\":{\"id\":\"2284\"},\"ticker\":null},\"id\":\"2287\",\"type\":\"Grid\"},{\"attributes\":{},\"id\":\"2463\",\"type\":\"AllLabels\"},{\"attributes\":{},\"id\":\"2466\",\"type\":\"AllLabels\"},{\"attributes\":{\"data_source\":{\"id\":\"2342\"},\"glyph\":{\"id\":\"2343\"},\"hover_glyph\":null,\"muted_glyph\":null,\"nonselection_glyph\":{\"id\":\"2344\"},\"view\":{\"id\":\"2346\"}},\"id\":\"2345\",\"type\":\"GlyphRenderer\"},{\"attributes\":{},\"id\":\"2289\",\"type\":\"BasicTicker\"},{\"attributes\":{},\"id\":\"2480\",\"type\":\"Selection\"},{\"attributes\":{},\"id\":\"2465\",\"type\":\"CategoricalTickFormatter\"},{\"attributes\":{\"data\":{\"fill_color\":[\"#0000ff\",\"#00a8ff\",\"#caff2c\",\"#0000b6\",\"#00e0fb\",\"#d4ff23\",\"#0000ad\",\"#003cff\",\"#ff8200\"],\"line_color\":[\"#0000ff\",\"#00a8ff\",\"#caff2c\",\"#0000b6\",\"#00e0fb\",\"#d4ff23\",\"#0000ad\",\"#003cff\",\"#ff8200\"],\"x\":[0.5,1.5,2.5,0.5,1.5,2.5,0.5,1.5,2.5],\"y\":[0.5,0.5,0.5,1.5,1.5,1.5,2.5,2.5,2.5]},\"selected\":{\"id\":\"2475\"},\"selection_policy\":{\"id\":\"2476\"}},\"id\":\"2342\",\"type\":\"ColumnDataSource\"},{\"attributes\":{\"active_multi\":null,\"tools\":[{\"id\":\"2328\"},{\"id\":\"2329\"},{\"id\":\"2330\"},{\"id\":\"2331\"},{\"id\":\"2332\"},{\"id\":\"2333\"}]},\"id\":\"2335\",\"type\":\"Toolbar\"},{\"attributes\":{\"axis\":{\"id\":\"2288\"},\"dimension\":1,\"ticker\":null},\"id\":\"2291\",\"type\":\"Grid\"},{\"attributes\":{},\"id\":\"2318\",\"type\":\"CategoricalScale\"},{\"attributes\":{\"source\":{\"id\":\"2306\"}},\"id\":\"2310\",\"type\":\"CDSView\"},{\"attributes\":{},\"id\":\"2285\",\"type\":\"BasicTicker\"},{\"attributes\":{},\"id\":\"2481\",\"type\":\"UnionRenderers\"},{\"attributes\":{\"active_multi\":null,\"tools\":[{\"id\":\"2292\"},{\"id\":\"2293\"},{\"id\":\"2294\"},{\"id\":\"2295\"},{\"id\":\"2296\"},{\"id\":\"2297\"}]},\"id\":\"2299\",\"type\":\"Toolbar\"},{\"attributes\":{\"bottom_units\":\"screen\",\"fill_alpha\":0.5,\"fill_color\":\"lightgrey\",\"left_units\":\"screen\",\"level\":\"overlay\",\"line_alpha\":1.0,\"line_color\":\"black\",\"line_dash\":[4,4],\"line_width\":2,\"right_units\":\"screen\",\"syncable\":false,\"top_units\":\"screen\"},\"id\":\"2298\",\"type\":\"BoxAnnotation\"},{\"attributes\":{\"below\":[{\"id\":\"2322\"}],\"center\":[{\"id\":\"2324\"},{\"id\":\"2327\"},{\"id\":\"2348\"}],\"height\":175,\"left\":[{\"id\":\"2325\"}],\"renderers\":[{\"id\":\"2345\"}],\"title\":{\"id\":\"2312\"},\"toolbar\":{\"id\":\"2335\"},\"toolbar_location\":null,\"width\":175,\"x_range\":{\"id\":\"2314\"},\"x_scale\":{\"id\":\"2318\"},\"y_range\":{\"id\":\"2316\"},\"y_scale\":{\"id\":\"2320\"}},\"id\":\"2311\",\"subtype\":\"Figure\",\"type\":\"Plot\"},{\"attributes\":{\"axis\":{\"id\":\"2325\"},\"dimension\":1,\"ticker\":null},\"id\":\"2327\",\"type\":\"Grid\"},{\"attributes\":{},\"id\":\"2469\",\"type\":\"AllLabels\"},{\"attributes\":{\"data\":{\"fill_color\":[\"#1f59b9\",\"#f9b749\",\"#f9b749\",\"#9528c7\",\"#9528c7\",\"#9528c7\",\"#1f59b9\",\"#9528c7\",\"#9528c7\",\"#9528c7\",\"#9528c7\",\"#9528c7\",\"#9528c7\",\"#9528c7\",\"#9528c7\",\"#9528c7\",\"#f9b749\",\"#9528c7\",\"#9528c7\",\"#9528c7\",\"#9528c7\",\"#9528c7\",\"#9528c7\",\"#9528c7\",\"#f9b749\",\"#9528c7\",\"#9528c7\",\"#9528c7\",\"#9528c7\",\"#9528c7\",\"#9528c7\",\"#9528c7\",\"#9528c7\",\"#9528c7\",\"#f9b749\",\"#f9b749\",\"#9528c7\",\"#9528c7\",\"#9528c7\",\"#9528c7\",\"#1f59b9\",\"#f9b749\",\"#f9b749\",\"#f9b749\",\"#9528c7\",\"#9528c7\",\"#9528c7\",\"#f9b749\",\"#9528c7\",\"#9528c7\",\"#9528c7\",\"#9528c7\",\"#9528c7\",\"#9528c7\",\"#9528c7\",\"#1f59b9\",\"#1f59b9\",\"#9528c7\",\"#f9b749\",\"#f9b749\",\"#9528c7\",\"#9528c7\",\"#9528c7\",\"#9528c7\",\"#9528c7\",\"#9528c7\",\"#9528c7\",\"#9528c7\",\"#9528c7\",\"#1f59b9\",\"#f9b749\",\"#f9b749\",\"#f9b749\",\"#f9b749\",\"#9528c7\",\"#f9b749\",\"#f9b749\",\"#f9b749\",\"#f9b749\",\"#9528c7\",\"#9528c7\",\"#f9b749\",\"#9528c7\",\"#9528c7\",\"#9528c7\",\"#f9b749\",\"#f9b749\",\"#9528c7\",\"#9528c7\",\"#9528c7\",\"#9528c7\",\"#9528c7\",\"#9528c7\",\"#1f59b9\",\"#9528c7\",\"#9528c7\",\"#9528c7\",\"#9528c7\",\"#9528c7\",\"#9528c7\",\"#9528c7\",\"#9528c7\",\"#f9b749\",\"#9528c7\",\"#9528c7\",\"#f9b749\",\"#1f59b9\",\"#9528c7\",\"#9528c7\",\"#f9b749\",\"#f9b749\",\"#f9b749\",\"#9528c7\",\"#9528c7\",\"#9528c7\",\"#9528c7\",\"#f9b749\",\"#9528c7\",\"#9528c7\",\"#9528c7\",\"#9528c7\",\"#9528c7\",\"#9528c7\",\"#9528c7\",\"#f9b749\",\"#9528c7\",\"#9528c7\",\"#9528c7\",\"#f9b749\",\"#9528c7\",\"#9528c7\",\"#9528c7\",\"#9528c7\",\"#9528c7\",\"#f9b749\",\"#9528c7\",\"#9528c7\",\"#9528c7\",\"#f9b749\",\"#f9b749\",\"#9528c7\",\"#9528c7\",\"#9528c7\",\"#f9b749\",\"#9528c7\",\"#9528c7\",\"#f9b749\",\"#1f59b9\",\"#9528c7\",\"#9528c7\"],\"line_color\":[\"#1f59b9\",\"#f9b749\",\"#f9b749\",\"#9528c7\",\"#9528c7\",\"#9528c7\",\"#1f59b9\",\"#9528c7\",\"#9528c7\",\"#9528c7\",\"#9528c7\",\"#9528c7\",\"#9528c7\",\"#9528c7\",\"#9528c7\",\"#9528c7\",\"#f9b749\",\"#9528c7\",\"#9528c7\",\"#9528c7\",\"#9528c7\",\"#9528c7\",\"#9528c7\",\"#9528c7\",\"#f9b749\",\"#9528c7\",\"#9528c7\",\"#9528c7\",\"#9528c7\",\"#9528c7\",\"#9528c7\",\"#9528c7\",\"#9528c7\",\"#9528c7\",\"#f9b749\",\"#f9b749\",\"#9528c7\",\"#9528c7\",\"#9528c7\",\"#9528c7\",\"#1f59b9\",\"#f9b749\",\"#f9b749\",\"#f9b749\",\"#9528c7\",\"#9528c7\",\"#9528c7\",\"#f9b749\",\"#9528c7\",\"#9528c7\",\"#9528c7\",\"#9528c7\",\"#9528c7\",\"#9528c7\",\"#9528c7\",\"#1f59b9\",\"#1f59b9\",\"#9528c7\",\"#f9b749\",\"#f9b749\",\"#9528c7\",\"#9528c7\",\"#9528c7\",\"#9528c7\",\"#9528c7\",\"#9528c7\",\"#9528c7\",\"#9528c7\",\"#9528c7\",\"#1f59b9\",\"#f9b749\",\"#f9b749\",\"#f9b749\",\"#f9b749\",\"#9528c7\",\"#f9b749\",\"#f9b749\",\"#f9b749\",\"#f9b749\",\"#9528c7\",\"#9528c7\",\"#f9b749\",\"#9528c7\",\"#9528c7\",\"#9528c7\",\"#f9b749\",\"#f9b749\",\"#9528c7\",\"#9528c7\",\"#9528c7\",\"#9528c7\",\"#9528c7\",\"#9528c7\",\"#1f59b9\",\"#9528c7\",\"#9528c7\",\"#9528c7\",\"#9528c7\",\"#9528c7\",\"#9528c7\",\"#9528c7\",\"#9528c7\",\"#f9b749\",\"#9528c7\",\"#9528c7\",\"#f9b749\",\"#1f59b9\",\"#9528c7\",\"#9528c7\",\"#f9b749\",\"#f9b749\",\"#f9b749\",\"#9528c7\",\"#9528c7\",\"#9528c7\",\"#9528c7\",\"#f9b749\",\"#9528c7\",\"#9528c7\",\"#9528c7\",\"#9528c7\",\"#9528c7\",\"#9528c7\",\"#9528c7\",\"#f9b749\",\"#9528c7\",\"#9528c7\",\"#9528c7\",\"#f9b749\",\"#9528c7\",\"#9528c7\",\"#9528c7\",\"#9528c7\",\"#9528c7\",\"#f9b749\",\"#9528c7\",\"#9528c7\",\"#9528c7\",\"#f9b749\",\"#f9b749\",\"#9528c7\",\"#9528c7\",\"#9528c7\",\"#f9b749\",\"#9528c7\",\"#9528c7\",\"#f9b749\",\"#1f59b9\",\"#9528c7\",\"#9528c7\"],\"x\":[0,1,2,3,4,5,6,7,8,9,10,11,12,13,14,15,16,17,18,19,20,21,22,23,24,25,26,27,28,29,30,31,32,33,34,35,36,37,38,39,40,41,42,43,44,45,46,47,48,49,50,51,52,53,54,55,56,57,58,59,60,61,62,63,64,65,66,67,68,69,70,71,72,73,74,75,76,77,78,79,80,81,82,83,84,85,86,87,88,89,90,91,92,93,94,95,96,97,98,99,100,101,102,103,104,105,106,107,108,109,110,111,112,113,114,115,116,117,118,119,120,121,122,123,124,125,126,127,128,129,130,131,132,133,134,135,136,137,138,139,140,141,142,143,144,145,146,147,148,149]},\"selected\":{\"id\":\"2480\"},\"selection_policy\":{\"id\":\"2481\"}},\"id\":\"2306\",\"type\":\"ColumnDataSource\"},{\"attributes\":{\"below\":[{\"id\":\"2284\"}],\"center\":[{\"id\":\"2287\"},{\"id\":\"2291\"}],\"height\":175,\"left\":[{\"id\":\"2288\"}],\"renderers\":[{\"id\":\"2309\"}],\"title\":{\"id\":\"2274\"},\"toolbar\":{\"id\":\"2299\"},\"width\":1000,\"x_range\":{\"id\":\"2276\"},\"x_scale\":{\"id\":\"2280\"},\"y_range\":{\"id\":\"2278\"},\"y_scale\":{\"id\":\"2282\"}},\"id\":\"2273\",\"subtype\":\"Figure\",\"type\":\"Plot\"},{\"attributes\":{},\"id\":\"2292\",\"type\":\"PanTool\"},{\"attributes\":{},\"id\":\"2468\",\"type\":\"CategoricalTickFormatter\"},{\"attributes\":{},\"id\":\"2478\",\"type\":\"UnionRenderers\"},{\"attributes\":{\"factors\":[\"s0\",\"s1\",\"s2\"]},\"id\":\"2316\",\"type\":\"FactorRange\"},{\"attributes\":{},\"id\":\"2293\",\"type\":\"WheelZoomTool\"},{\"attributes\":{\"text\":\"# of Vehicles vs Time\"},\"id\":\"2274\",\"type\":\"Title\"},{\"attributes\":{\"bottom_units\":\"screen\",\"fill_alpha\":0.5,\"fill_color\":\"lightgrey\",\"left_units\":\"screen\",\"level\":\"overlay\",\"line_alpha\":1.0,\"line_color\":\"black\",\"line_dash\":[4,4],\"line_width\":2,\"right_units\":\"screen\",\"syncable\":false,\"top_units\":\"screen\"},\"id\":\"2334\",\"type\":\"BoxAnnotation\"},{\"attributes\":{},\"id\":\"2323\",\"type\":\"CategoricalTicker\"},{\"attributes\":{},\"id\":\"2329\",\"type\":\"WheelZoomTool\"},{\"attributes\":{},\"id\":\"2471\",\"type\":\"BasicTickFormatter\"},{\"attributes\":{\"overlay\":{\"id\":\"2298\"}},\"id\":\"2294\",\"type\":\"BoxZoomTool\"},{\"attributes\":{},\"id\":\"2276\",\"type\":\"DataRange1d\"},{\"attributes\":{},\"id\":\"2326\",\"type\":\"CategoricalTicker\"},{\"attributes\":{},\"id\":\"2477\",\"type\":\"Selection\"},{\"attributes\":{\"source\":{\"id\":\"2342\"}},\"id\":\"2346\",\"type\":\"CDSView\"},{\"attributes\":{},\"id\":\"2472\",\"type\":\"AllLabels\"},{\"attributes\":{},\"id\":\"2295\",\"type\":\"SaveTool\"},{\"attributes\":{\"formatter\":{\"id\":\"2471\"},\"major_label_policy\":{\"id\":\"2469\"},\"ticker\":{\"id\":\"2289\"},\"visible\":false},\"id\":\"2288\",\"type\":\"LinearAxis\"},{\"attributes\":{},\"id\":\"2280\",\"type\":\"LinearScale\"},{\"attributes\":{\"axis\":{\"id\":\"2322\"},\"ticker\":null},\"id\":\"2324\",\"type\":\"Grid\"},{\"attributes\":{},\"id\":\"2320\",\"type\":\"CategoricalScale\"},{\"attributes\":{\"fill_alpha\":{\"value\":0.1},\"fill_color\":{\"field\":\"fill_color\"},\"height\":{\"value\":1},\"line_alpha\":{\"value\":0.1},\"line_color\":{\"field\":\"line_color\"},\"width\":{\"value\":1},\"x\":{\"field\":\"x\"},\"y\":{\"field\":\"y\"}},\"id\":\"2344\",\"type\":\"Rect\"},{\"attributes\":{},\"id\":\"2296\",\"type\":\"ResetTool\"},{\"attributes\":{},\"id\":\"2328\",\"type\":\"PanTool\"},{\"attributes\":{},\"id\":\"2474\",\"type\":\"BasicTickFormatter\"},{\"attributes\":{},\"id\":\"2278\",\"type\":\"DataRange1d\"},{\"attributes\":{\"fill_alpha\":{\"value\":0.1},\"fill_color\":{\"field\":\"fill_color\"},\"height\":{\"value\":1},\"line_alpha\":{\"value\":0.1},\"line_color\":{\"field\":\"line_color\"},\"width\":{\"value\":1},\"x\":{\"field\":\"x\"},\"y\":{\"value\":0.3}},\"id\":\"2308\",\"type\":\"Rect\"},{\"attributes\":{\"overlay\":{\"id\":\"2334\"}},\"id\":\"2330\",\"type\":\"BoxZoomTool\"},{\"attributes\":{},\"id\":\"2297\",\"type\":\"HelpTool\"},{\"attributes\":{\"formatter\":{\"id\":\"2465\"},\"major_label_policy\":{\"id\":\"2463\"},\"ticker\":{\"id\":\"2326\"}},\"id\":\"2325\",\"type\":\"CategoricalAxis\"},{\"attributes\":{},\"id\":\"2333\",\"type\":\"HelpTool\"},{\"attributes\":{},\"id\":\"2331\",\"type\":\"SaveTool\"},{\"attributes\":{},\"id\":\"2476\",\"type\":\"UnionRenderers\"},{\"attributes\":{},\"id\":\"2282\",\"type\":\"LinearScale\"},{\"attributes\":{\"fill_color\":{\"field\":\"fill_color\"},\"height\":{\"value\":1},\"line_color\":{\"field\":\"line_color\"},\"width\":{\"value\":1},\"x\":{\"field\":\"x\"},\"y\":{\"value\":0.3}},\"id\":\"2307\",\"type\":\"Rect\"},{\"attributes\":{\"factors\":[\"s0\",\"s1\",\"s2\"]},\"id\":\"2314\",\"type\":\"FactorRange\"},{\"attributes\":{\"data_source\":{\"id\":\"2306\"},\"glyph\":{\"id\":\"2307\"},\"hover_glyph\":null,\"muted_glyph\":null,\"nonselection_glyph\":{\"id\":\"2308\"},\"view\":{\"id\":\"2310\"}},\"id\":\"2309\",\"type\":\"GlyphRenderer\"},{\"attributes\":{\"data\":{\"vals\":{\"__ndarray__\":\"yXa+nxovvT/jpZvEILDSPzVeukkMAuM/+n5qvHSTqD++nxov3STWPzEIrBxaZOM/arx0kxgEpj9WDi2yne/HP3npJjEIrOg/\",\"dtype\":\"float64\",\"order\":\"little\",\"shape\":[9]},\"x\":[0.5,1.5,2.5,0.5,1.5,2.5,0.5,1.5,2.5],\"y\":[0.5,0.5,0.5,1.5,1.5,1.5,2.5,2.5,2.5]},\"selected\":{\"id\":\"2477\"},\"selection_policy\":{\"id\":\"2478\"}},\"id\":\"2347\",\"type\":\"ColumnDataSource\"},{\"attributes\":{},\"id\":\"2332\",\"type\":\"ResetTool\"},{\"attributes\":{\"axis_label\":\"Sample Index\",\"formatter\":{\"id\":\"2474\"},\"major_label_policy\":{\"id\":\"2472\"},\"ticker\":{\"id\":\"2285\"}},\"id\":\"2284\",\"type\":\"LinearAxis\"},{\"attributes\":{\"fill_color\":{\"field\":\"fill_color\"},\"height\":{\"value\":1},\"line_color\":{\"field\":\"line_color\"},\"width\":{\"value\":1},\"x\":{\"field\":\"x\"},\"y\":{\"field\":\"y\"}},\"id\":\"2343\",\"type\":\"Rect\"},{\"attributes\":{},\"id\":\"2475\",\"type\":\"Selection\"},{\"attributes\":{\"formatter\":{\"id\":\"2468\"},\"major_label_policy\":{\"id\":\"2466\"},\"ticker\":{\"id\":\"2323\"}},\"id\":\"2322\",\"type\":\"CategoricalAxis\"},{\"attributes\":{\"text\":\"Stochastic Matrix\"},\"id\":\"2312\",\"type\":\"Title\"},{\"attributes\":{\"render_mode\":\"css\",\"source\":{\"id\":\"2347\"},\"text\":{\"field\":\"vals\"},\"text_color\":{\"value\":\"white\"},\"text_font_size\":{\"value\":\"1em\"},\"x\":{\"field\":\"x\"},\"x_offset\":{\"value\":-12},\"y\":{\"field\":\"y\"},\"y_offset\":{\"value\":-5}},\"id\":\"2348\",\"type\":\"LabelSet\"}],\"root_ids\":[\"2350\"]},\"title\":\"Bokeh Application\",\"version\":\"2.3.1\"}};\n",
       "  var render_items = [{\"docid\":\"23eb4968-d79d-4c06-8e5d-40c6e07fa499\",\"root_ids\":[\"2350\"],\"roots\":{\"2350\":\"944a33d0-ef40-4ac7-b3d8-50fe8e2c490f\"}}];\n",
       "  root.Bokeh.embed.embed_items_notebook(docs_json, render_items);\n",
       "\n",
       "  }\n",
       "  if (root.Bokeh !== undefined) {\n",
       "    embed_document(root);\n",
       "  } else {\n",
       "    var attempts = 0;\n",
       "    var timer = setInterval(function(root) {\n",
       "      if (root.Bokeh !== undefined) {\n",
       "        clearInterval(timer);\n",
       "        embed_document(root);\n",
       "      } else {\n",
       "        attempts++;\n",
       "        if (attempts > 100) {\n",
       "          clearInterval(timer);\n",
       "          console.log(\"Bokeh: ERROR: Unable to run BokehJS code because BokehJS library is missing\");\n",
       "        }\n",
       "      }\n",
       "    }, 10, root)\n",
       "  }\n",
       "})(window);"
      ],
      "application/vnd.bokehjs_exec.v0+json": ""
     },
     "metadata": {
      "application/vnd.bokehjs_exec.v0+json": {
       "id": "2350"
      }
     },
     "output_type": "display_data"
    },
    {
     "data": {
      "text/html": [
       "\n",
       "\n",
       "\n",
       "\n",
       "\n",
       "\n",
       "  <div class=\"bk-root\" id=\"fe5d2e83-85e4-497c-9001-464ef7d9a650\" data-root-id=\"2670\"></div>\n"
      ]
     },
     "metadata": {},
     "output_type": "display_data"
    },
    {
     "data": {
      "application/javascript": [
       "(function(root) {\n",
       "  function embed_document(root) {\n",
       "    \n",
       "  var docs_json = {\"80bd5eb4-b14b-4cfd-8f1a-752d9c8d032b\":{\"defs\":[],\"roots\":{\"references\":[{\"attributes\":{\"children\":[{\"id\":\"2631\"},{\"id\":\"2593\"}]},\"id\":\"2670\",\"type\":\"Row\"},{\"attributes\":{},\"id\":\"2646\",\"type\":\"CategoricalTicker\"},{\"attributes\":{\"fill_alpha\":{\"value\":0.1},\"fill_color\":{\"field\":\"fill_color\"},\"height\":{\"value\":1},\"line_alpha\":{\"value\":0.1},\"line_color\":{\"field\":\"line_color\"},\"width\":{\"value\":1},\"x\":{\"field\":\"x\"},\"y\":{\"field\":\"y\"}},\"id\":\"2664\",\"type\":\"Rect\"},{\"attributes\":{\"formatter\":{\"id\":\"2810\"},\"major_label_policy\":{\"id\":\"2808\"},\"ticker\":{\"id\":\"2643\"}},\"id\":\"2642\",\"type\":\"CategoricalAxis\"},{\"attributes\":{},\"id\":\"2598\",\"type\":\"DataRange1d\"},{\"attributes\":{},\"id\":\"2822\",\"type\":\"Selection\"},{\"attributes\":{\"active_multi\":null,\"tools\":[{\"id\":\"2612\"},{\"id\":\"2613\"},{\"id\":\"2614\"},{\"id\":\"2615\"},{\"id\":\"2616\"},{\"id\":\"2617\"}]},\"id\":\"2619\",\"type\":\"Toolbar\"},{\"attributes\":{},\"id\":\"2808\",\"type\":\"AllLabels\"},{\"attributes\":{\"formatter\":{\"id\":\"2813\"},\"major_label_policy\":{\"id\":\"2811\"},\"ticker\":{\"id\":\"2609\"},\"visible\":false},\"id\":\"2608\",\"type\":\"LinearAxis\"},{\"attributes\":{},\"id\":\"2807\",\"type\":\"CategoricalTickFormatter\"},{\"attributes\":{\"formatter\":{\"id\":\"2807\"},\"major_label_policy\":{\"id\":\"2805\"},\"ticker\":{\"id\":\"2646\"}},\"id\":\"2645\",\"type\":\"CategoricalAxis\"},{\"attributes\":{},\"id\":\"2810\",\"type\":\"CategoricalTickFormatter\"},{\"attributes\":{\"axis\":{\"id\":\"2645\"},\"dimension\":1,\"ticker\":null},\"id\":\"2647\",\"type\":\"Grid\"},{\"attributes\":{},\"id\":\"2609\",\"type\":\"BasicTicker\"},{\"attributes\":{},\"id\":\"2820\",\"type\":\"UnionRenderers\"},{\"attributes\":{\"axis\":{\"id\":\"2604\"},\"ticker\":null},\"id\":\"2607\",\"type\":\"Grid\"},{\"attributes\":{},\"id\":\"2814\",\"type\":\"AllLabels\"},{\"attributes\":{\"bottom_units\":\"screen\",\"fill_alpha\":0.5,\"fill_color\":\"lightgrey\",\"left_units\":\"screen\",\"level\":\"overlay\",\"line_alpha\":1.0,\"line_color\":\"black\",\"line_dash\":[4,4],\"line_width\":2,\"right_units\":\"screen\",\"syncable\":false,\"top_units\":\"screen\"},\"id\":\"2618\",\"type\":\"BoxAnnotation\"},{\"attributes\":{},\"id\":\"2805\",\"type\":\"AllLabels\"},{\"attributes\":{\"data\":{\"fill_color\":[\"#000cff\",\"#0068ff\",\"#e7ff0f\",\"#0024ff\",\"#00e0fb\",\"#77ff80\",\"#0000fa\",\"#0000ff\",\"#ff7a00\"],\"line_color\":[\"#000cff\",\"#0068ff\",\"#e7ff0f\",\"#0024ff\",\"#00e0fb\",\"#77ff80\",\"#0000fa\",\"#0000ff\",\"#ff7a00\"],\"x\":[0.5,1.5,2.5,0.5,1.5,2.5,0.5,1.5,2.5],\"y\":[0.5,0.5,0.5,1.5,1.5,1.5,2.5,2.5,2.5]},\"selected\":{\"id\":\"2817\"},\"selection_policy\":{\"id\":\"2818\"}},\"id\":\"2662\",\"type\":\"ColumnDataSource\"},{\"attributes\":{},\"id\":\"2605\",\"type\":\"BasicTicker\"},{\"attributes\":{\"axis\":{\"id\":\"2608\"},\"dimension\":1,\"ticker\":null},\"id\":\"2611\",\"type\":\"Grid\"},{\"attributes\":{\"fill_color\":{\"field\":\"fill_color\"},\"height\":{\"value\":1},\"line_color\":{\"field\":\"line_color\"},\"width\":{\"value\":1},\"x\":{\"field\":\"x\"},\"y\":{\"field\":\"y\"}},\"id\":\"2663\",\"type\":\"Rect\"},{\"attributes\":{\"source\":{\"id\":\"2626\"}},\"id\":\"2630\",\"type\":\"CDSView\"},{\"attributes\":{},\"id\":\"2617\",\"type\":\"HelpTool\"},{\"attributes\":{},\"id\":\"2819\",\"type\":\"Selection\"},{\"attributes\":{\"axis_label\":\"Sample Index\",\"formatter\":{\"id\":\"2816\"},\"major_label_policy\":{\"id\":\"2814\"},\"ticker\":{\"id\":\"2605\"}},\"id\":\"2604\",\"type\":\"LinearAxis\"},{\"attributes\":{\"below\":[{\"id\":\"2604\"}],\"center\":[{\"id\":\"2607\"},{\"id\":\"2611\"}],\"height\":175,\"left\":[{\"id\":\"2608\"}],\"renderers\":[{\"id\":\"2629\"}],\"title\":{\"id\":\"2594\"},\"toolbar\":{\"id\":\"2619\"},\"width\":1000,\"x_range\":{\"id\":\"2596\"},\"x_scale\":{\"id\":\"2600\"},\"y_range\":{\"id\":\"2598\"},\"y_scale\":{\"id\":\"2602\"}},\"id\":\"2593\",\"subtype\":\"Figure\",\"type\":\"Plot\"},{\"attributes\":{\"factors\":[\"s0\",\"s1\",\"s2\"]},\"id\":\"2636\",\"type\":\"FactorRange\"},{\"attributes\":{},\"id\":\"2602\",\"type\":\"LinearScale\"},{\"attributes\":{},\"id\":\"2817\",\"type\":\"Selection\"},{\"attributes\":{},\"id\":\"2648\",\"type\":\"PanTool\"},{\"attributes\":{},\"id\":\"2816\",\"type\":\"BasicTickFormatter\"},{\"attributes\":{\"bottom_units\":\"screen\",\"fill_alpha\":0.5,\"fill_color\":\"lightgrey\",\"left_units\":\"screen\",\"level\":\"overlay\",\"line_alpha\":1.0,\"line_color\":\"black\",\"line_dash\":[4,4],\"line_width\":2,\"right_units\":\"screen\",\"syncable\":false,\"top_units\":\"screen\"},\"id\":\"2654\",\"type\":\"BoxAnnotation\"},{\"attributes\":{},\"id\":\"2638\",\"type\":\"CategoricalScale\"},{\"attributes\":{},\"id\":\"2823\",\"type\":\"UnionRenderers\"},{\"attributes\":{},\"id\":\"2653\",\"type\":\"HelpTool\"},{\"attributes\":{\"fill_alpha\":{\"value\":0.1},\"fill_color\":{\"field\":\"fill_color\"},\"height\":{\"value\":1},\"line_alpha\":{\"value\":0.1},\"line_color\":{\"field\":\"line_color\"},\"width\":{\"value\":1},\"x\":{\"field\":\"x\"},\"y\":{\"value\":0.3}},\"id\":\"2628\",\"type\":\"Rect\"},{\"attributes\":{\"active_multi\":null,\"tools\":[{\"id\":\"2648\"},{\"id\":\"2649\"},{\"id\":\"2650\"},{\"id\":\"2651\"},{\"id\":\"2652\"},{\"id\":\"2653\"}]},\"id\":\"2655\",\"type\":\"Toolbar\"},{\"attributes\":{\"data_source\":{\"id\":\"2662\"},\"glyph\":{\"id\":\"2663\"},\"hover_glyph\":null,\"muted_glyph\":null,\"nonselection_glyph\":{\"id\":\"2664\"},\"view\":{\"id\":\"2666\"}},\"id\":\"2665\",\"type\":\"GlyphRenderer\"},{\"attributes\":{},\"id\":\"2818\",\"type\":\"UnionRenderers\"},{\"attributes\":{},\"id\":\"2640\",\"type\":\"CategoricalScale\"},{\"attributes\":{},\"id\":\"2652\",\"type\":\"ResetTool\"},{\"attributes\":{\"text\":\"Stochastic Matrix\"},\"id\":\"2632\",\"type\":\"Title\"},{\"attributes\":{},\"id\":\"2615\",\"type\":\"SaveTool\"},{\"attributes\":{},\"id\":\"2596\",\"type\":\"DataRange1d\"},{\"attributes\":{},\"id\":\"2651\",\"type\":\"SaveTool\"},{\"attributes\":{},\"id\":\"2612\",\"type\":\"PanTool\"},{\"attributes\":{\"source\":{\"id\":\"2662\"}},\"id\":\"2666\",\"type\":\"CDSView\"},{\"attributes\":{\"data\":{\"fill_color\":[\"#1f59b9\",\"#9528c7\",\"#9528c7\",\"#9528c7\",\"#1f59b9\",\"#9528c7\",\"#9528c7\",\"#9528c7\",\"#9528c7\",\"#f9b749\",\"#9528c7\",\"#9528c7\",\"#9528c7\",\"#9528c7\",\"#9528c7\",\"#9528c7\",\"#9528c7\",\"#9528c7\",\"#9528c7\",\"#9528c7\",\"#9528c7\",\"#9528c7\",\"#9528c7\",\"#9528c7\",\"#f9b749\",\"#9528c7\",\"#9528c7\",\"#f9b749\",\"#9528c7\",\"#9528c7\",\"#9528c7\",\"#9528c7\",\"#9528c7\",\"#9528c7\",\"#f9b749\",\"#9528c7\",\"#9528c7\",\"#9528c7\",\"#9528c7\",\"#9528c7\",\"#9528c7\",\"#9528c7\",\"#9528c7\",\"#9528c7\",\"#9528c7\",\"#f9b749\",\"#9528c7\",\"#9528c7\",\"#9528c7\",\"#9528c7\",\"#9528c7\",\"#9528c7\",\"#9528c7\",\"#9528c7\",\"#1f59b9\",\"#9528c7\",\"#9528c7\",\"#9528c7\",\"#9528c7\",\"#9528c7\",\"#9528c7\",\"#9528c7\",\"#1f59b9\",\"#9528c7\",\"#f9b749\",\"#9528c7\",\"#9528c7\",\"#9528c7\",\"#9528c7\",\"#9528c7\",\"#9528c7\",\"#9528c7\",\"#f9b749\",\"#9528c7\",\"#9528c7\",\"#9528c7\",\"#9528c7\",\"#9528c7\",\"#9528c7\",\"#9528c7\",\"#f9b749\",\"#f9b749\",\"#9528c7\",\"#9528c7\",\"#9528c7\",\"#f9b749\",\"#1f59b9\",\"#9528c7\",\"#9528c7\",\"#9528c7\",\"#9528c7\",\"#9528c7\",\"#9528c7\",\"#9528c7\",\"#1f59b9\",\"#9528c7\",\"#9528c7\",\"#9528c7\",\"#1f59b9\",\"#9528c7\",\"#9528c7\",\"#9528c7\",\"#1f59b9\",\"#9528c7\",\"#9528c7\",\"#1f59b9\",\"#9528c7\",\"#9528c7\",\"#9528c7\",\"#9528c7\",\"#f9b749\",\"#9528c7\",\"#9528c7\",\"#9528c7\",\"#9528c7\",\"#f9b749\",\"#9528c7\",\"#9528c7\",\"#9528c7\",\"#9528c7\",\"#9528c7\",\"#9528c7\",\"#1f59b9\",\"#9528c7\",\"#9528c7\",\"#1f59b9\",\"#9528c7\",\"#9528c7\",\"#9528c7\",\"#9528c7\",\"#9528c7\",\"#9528c7\",\"#9528c7\",\"#9528c7\",\"#9528c7\",\"#9528c7\",\"#9528c7\",\"#9528c7\",\"#9528c7\",\"#9528c7\",\"#f9b749\",\"#9528c7\",\"#f9b749\",\"#f9b749\",\"#9528c7\",\"#1f59b9\",\"#9528c7\",\"#9528c7\",\"#9528c7\",\"#9528c7\"],\"line_color\":[\"#1f59b9\",\"#9528c7\",\"#9528c7\",\"#9528c7\",\"#1f59b9\",\"#9528c7\",\"#9528c7\",\"#9528c7\",\"#9528c7\",\"#f9b749\",\"#9528c7\",\"#9528c7\",\"#9528c7\",\"#9528c7\",\"#9528c7\",\"#9528c7\",\"#9528c7\",\"#9528c7\",\"#9528c7\",\"#9528c7\",\"#9528c7\",\"#9528c7\",\"#9528c7\",\"#9528c7\",\"#f9b749\",\"#9528c7\",\"#9528c7\",\"#f9b749\",\"#9528c7\",\"#9528c7\",\"#9528c7\",\"#9528c7\",\"#9528c7\",\"#9528c7\",\"#f9b749\",\"#9528c7\",\"#9528c7\",\"#9528c7\",\"#9528c7\",\"#9528c7\",\"#9528c7\",\"#9528c7\",\"#9528c7\",\"#9528c7\",\"#9528c7\",\"#f9b749\",\"#9528c7\",\"#9528c7\",\"#9528c7\",\"#9528c7\",\"#9528c7\",\"#9528c7\",\"#9528c7\",\"#9528c7\",\"#1f59b9\",\"#9528c7\",\"#9528c7\",\"#9528c7\",\"#9528c7\",\"#9528c7\",\"#9528c7\",\"#9528c7\",\"#1f59b9\",\"#9528c7\",\"#f9b749\",\"#9528c7\",\"#9528c7\",\"#9528c7\",\"#9528c7\",\"#9528c7\",\"#9528c7\",\"#9528c7\",\"#f9b749\",\"#9528c7\",\"#9528c7\",\"#9528c7\",\"#9528c7\",\"#9528c7\",\"#9528c7\",\"#9528c7\",\"#f9b749\",\"#f9b749\",\"#9528c7\",\"#9528c7\",\"#9528c7\",\"#f9b749\",\"#1f59b9\",\"#9528c7\",\"#9528c7\",\"#9528c7\",\"#9528c7\",\"#9528c7\",\"#9528c7\",\"#9528c7\",\"#1f59b9\",\"#9528c7\",\"#9528c7\",\"#9528c7\",\"#1f59b9\",\"#9528c7\",\"#9528c7\",\"#9528c7\",\"#1f59b9\",\"#9528c7\",\"#9528c7\",\"#1f59b9\",\"#9528c7\",\"#9528c7\",\"#9528c7\",\"#9528c7\",\"#f9b749\",\"#9528c7\",\"#9528c7\",\"#9528c7\",\"#9528c7\",\"#f9b749\",\"#9528c7\",\"#9528c7\",\"#9528c7\",\"#9528c7\",\"#9528c7\",\"#9528c7\",\"#1f59b9\",\"#9528c7\",\"#9528c7\",\"#1f59b9\",\"#9528c7\",\"#9528c7\",\"#9528c7\",\"#9528c7\",\"#9528c7\",\"#9528c7\",\"#9528c7\",\"#9528c7\",\"#9528c7\",\"#9528c7\",\"#9528c7\",\"#9528c7\",\"#9528c7\",\"#9528c7\",\"#f9b749\",\"#9528c7\",\"#f9b749\",\"#f9b749\",\"#9528c7\",\"#1f59b9\",\"#9528c7\",\"#9528c7\",\"#9528c7\",\"#9528c7\"],\"x\":[0,1,2,3,4,5,6,7,8,9,10,11,12,13,14,15,16,17,18,19,20,21,22,23,24,25,26,27,28,29,30,31,32,33,34,35,36,37,38,39,40,41,42,43,44,45,46,47,48,49,50,51,52,53,54,55,56,57,58,59,60,61,62,63,64,65,66,67,68,69,70,71,72,73,74,75,76,77,78,79,80,81,82,83,84,85,86,87,88,89,90,91,92,93,94,95,96,97,98,99,100,101,102,103,104,105,106,107,108,109,110,111,112,113,114,115,116,117,118,119,120,121,122,123,124,125,126,127,128,129,130,131,132,133,134,135,136,137,138,139,140,141,142,143,144,145,146,147,148,149]},\"selected\":{\"id\":\"2822\"},\"selection_policy\":{\"id\":\"2823\"}},\"id\":\"2626\",\"type\":\"ColumnDataSource\"},{\"attributes\":{\"below\":[{\"id\":\"2642\"}],\"center\":[{\"id\":\"2644\"},{\"id\":\"2647\"},{\"id\":\"2668\"}],\"height\":175,\"left\":[{\"id\":\"2645\"}],\"renderers\":[{\"id\":\"2665\"}],\"title\":{\"id\":\"2632\"},\"toolbar\":{\"id\":\"2655\"},\"toolbar_location\":null,\"width\":175,\"x_range\":{\"id\":\"2634\"},\"x_scale\":{\"id\":\"2638\"},\"y_range\":{\"id\":\"2636\"},\"y_scale\":{\"id\":\"2640\"}},\"id\":\"2631\",\"subtype\":\"Figure\",\"type\":\"Plot\"},{\"attributes\":{\"text\":\"# of Vehicles vs Time\"},\"id\":\"2594\",\"type\":\"Title\"},{\"attributes\":{\"overlay\":{\"id\":\"2654\"}},\"id\":\"2650\",\"type\":\"BoxZoomTool\"},{\"attributes\":{\"overlay\":{\"id\":\"2618\"}},\"id\":\"2614\",\"type\":\"BoxZoomTool\"},{\"attributes\":{\"factors\":[\"s0\",\"s1\",\"s2\"]},\"id\":\"2634\",\"type\":\"FactorRange\"},{\"attributes\":{\"render_mode\":\"css\",\"source\":{\"id\":\"2667\"},\"text\":{\"field\":\"vals\"},\"text_color\":{\"value\":\"white\"},\"text_font_size\":{\"value\":\"1em\"},\"x\":{\"field\":\"x\"},\"x_offset\":{\"value\":-12},\"y\":{\"field\":\"y\"},\"y_offset\":{\"value\":-5}},\"id\":\"2668\",\"type\":\"LabelSet\"},{\"attributes\":{\"fill_color\":{\"field\":\"fill_color\"},\"height\":{\"value\":1},\"line_color\":{\"field\":\"line_color\"},\"width\":{\"value\":1},\"x\":{\"field\":\"x\"},\"y\":{\"value\":0.3}},\"id\":\"2627\",\"type\":\"Rect\"},{\"attributes\":{},\"id\":\"2616\",\"type\":\"ResetTool\"},{\"attributes\":{\"data_source\":{\"id\":\"2626\"},\"glyph\":{\"id\":\"2627\"},\"hover_glyph\":null,\"muted_glyph\":null,\"nonselection_glyph\":{\"id\":\"2628\"},\"view\":{\"id\":\"2630\"}},\"id\":\"2629\",\"type\":\"GlyphRenderer\"},{\"attributes\":{},\"id\":\"2649\",\"type\":\"WheelZoomTool\"},{\"attributes\":{\"data\":{\"vals\":{\"__ndarray__\":\"7FG4HoXrwT9xPQrXo3DNPylcj8L1KOQ/d76fGi/dxD9qvHSTGATWP1pkO99Pjd8/iUFg5dAiuz8ZBFYOLbK9PyGwcmiR7eg/\",\"dtype\":\"float64\",\"order\":\"little\",\"shape\":[9]},\"x\":[0.5,1.5,2.5,0.5,1.5,2.5,0.5,1.5,2.5],\"y\":[0.5,0.5,0.5,1.5,1.5,1.5,2.5,2.5,2.5]},\"selected\":{\"id\":\"2819\"},\"selection_policy\":{\"id\":\"2820\"}},\"id\":\"2667\",\"type\":\"ColumnDataSource\"},{\"attributes\":{},\"id\":\"2813\",\"type\":\"BasicTickFormatter\"},{\"attributes\":{\"axis\":{\"id\":\"2642\"},\"ticker\":null},\"id\":\"2644\",\"type\":\"Grid\"},{\"attributes\":{},\"id\":\"2600\",\"type\":\"LinearScale\"},{\"attributes\":{},\"id\":\"2811\",\"type\":\"AllLabels\"},{\"attributes\":{},\"id\":\"2613\",\"type\":\"WheelZoomTool\"},{\"attributes\":{},\"id\":\"2643\",\"type\":\"CategoricalTicker\"}],\"root_ids\":[\"2670\"]},\"title\":\"Bokeh Application\",\"version\":\"2.3.1\"}};\n",
       "  var render_items = [{\"docid\":\"80bd5eb4-b14b-4cfd-8f1a-752d9c8d032b\",\"root_ids\":[\"2670\"],\"roots\":{\"2670\":\"fe5d2e83-85e4-497c-9001-464ef7d9a650\"}}];\n",
       "  root.Bokeh.embed.embed_items_notebook(docs_json, render_items);\n",
       "\n",
       "  }\n",
       "  if (root.Bokeh !== undefined) {\n",
       "    embed_document(root);\n",
       "  } else {\n",
       "    var attempts = 0;\n",
       "    var timer = setInterval(function(root) {\n",
       "      if (root.Bokeh !== undefined) {\n",
       "        clearInterval(timer);\n",
       "        embed_document(root);\n",
       "      } else {\n",
       "        attempts++;\n",
       "        if (attempts > 100) {\n",
       "          clearInterval(timer);\n",
       "          console.log(\"Bokeh: ERROR: Unable to run BokehJS code because BokehJS library is missing\");\n",
       "        }\n",
       "      }\n",
       "    }, 10, root)\n",
       "  }\n",
       "})(window);"
      ],
      "application/vnd.bokehjs_exec.v0+json": ""
     },
     "metadata": {
      "application/vnd.bokehjs_exec.v0+json": {
       "id": "2670"
      }
     },
     "output_type": "display_data"
    }
   ],
   "source": [
    "index0 = busy_observations[0]\n",
    "index1 = busy_observations[1]\n",
    "\n",
    "plot_sequence(P_s[index0], observations[index0][:150])\n",
    "plot_sequence(P_s[index1], observations[index1][:150])"
   ]
  },
  {
   "cell_type": "markdown",
   "id": "expanded-painting",
   "metadata": {
    "papermill": {
     "duration": 0.037859,
     "end_time": "2021-09-10T16:11:38.192842",
     "exception": false,
     "start_time": "2021-09-10T16:11:38.154983",
     "status": "completed"
    },
    "tags": []
   },
   "source": [
    "<a id='estimating-matrix'></a>\n",
    "# Estimating the Stochastic Matrix and Feature Vector for Time Series\n",
    "\n",
    "Let's get back to the original objective of this exercise which is,  ___given a sequence of observations, estimating the stochastic matrix and using this matrix as a feature vector.___ This feature vector can later be used by different machine learning algorithms for various tasks such as understanding the natural groupings and different traffic regimes (dimensionality reduction, visualization, clustering) or predicting the traffic density based on observations of the road.\n",
    "\n",
    "Generally, machine learning algorithms require tabular data with a fixed format, unlike unbounded time series data, therefore, fitting a Markov chain as a preprocessing step in an ML pipeline can be useful for converting arbitrary length time series observations into a fixed length vectore, that summarizes the dynamic behavior of the underlying process.\n",
    "\n",
    "Using Markov chains become tricky, due to the strong assumption of _Markov property_, and the underlying process that have generated the data may not necessarily be a good fit, which will result in a model that is not perfect, and may only be applicable under certain conditions, however, as long as the model serves the objectives of the task, we can use it by acknowledging its limitations and being prepared to mitigate the drawbacks. As stated above, as long as the Markov chain model can capture interesting aspects of the dynamic behavior of the observed time series, we can use it for creating a feature vector out of observations.\n",
    "\n",
    "In the cell below, we are defining a function which takes a random sequence as an argument and returns the estimated stochastic matrix. The process of estimating the state transition probabilities of a Markov chain is as simple as counting the observed state transitions and calculating state transition frequencies.\n",
    "\n",
    "Below function implementation is perhaps highly inefficient, however simple and commented enough to understand the estimation process."
   ]
  },
  {
   "cell_type": "code",
   "execution_count": 14,
   "id": "packed-reliance",
   "metadata": {
    "execution": {
     "iopub.execute_input": "2021-09-10T16:11:38.278052Z",
     "iopub.status.busy": "2021-09-10T16:11:38.277284Z",
     "iopub.status.idle": "2021-09-10T16:11:38.280912Z",
     "shell.execute_reply": "2021-09-10T16:11:38.280314Z",
     "shell.execute_reply.started": "2021-09-10T15:20:37.401371Z"
    },
    "papermill": {
     "duration": 0.049643,
     "end_time": "2021-09-10T16:11:38.281052",
     "exception": false,
     "start_time": "2021-09-10T16:11:38.231409",
     "status": "completed"
    },
    "tags": []
   },
   "outputs": [],
   "source": [
    "def estimate_p(sequence, L=0):\n",
    "    '''\n",
    "    Function for estimating the stochastic matrix of a given Markov chain realization (observations)\n",
    "    Optional parameter L can be used for specifying the number of observations to use in estimation\n",
    "    '''\n",
    "    #make sure the length to be used in estimation does not exceed the available length\n",
    "    #use entire data available if L is not specified\n",
    "    Ls = len(sequence)    \n",
    "    if L==0 or L > Ls:\n",
    "        L = Ls\n",
    "    \n",
    "    #get the number of distinct states in the sequence (State Space)\n",
    "    N = np.unique(seq).shape[0]\n",
    "    \n",
    "    p_hat = np.zeros((N,N))\n",
    "    \n",
    "    #loop through the sequence and count the state transitions\n",
    "    previous_state = sequence[0]\n",
    "    for state in sequence[1:L]:\n",
    "        current_state = state\n",
    "        p_hat[previous_state, current_state] +=1\n",
    "        previous_state = current_state\n",
    "    \n",
    "    p_hat = p_hat/L\n",
    "    p_hat = p_hat/p_hat.sum(axis=1)[:,None]\n",
    "    \n",
    "    return p_hat"
   ]
  },
  {
   "cell_type": "markdown",
   "id": "opposed-error",
   "metadata": {
    "papermill": {
     "duration": 0.038508,
     "end_time": "2021-09-10T16:11:38.358277",
     "exception": false,
     "start_time": "2021-09-10T16:11:38.319769",
     "status": "completed"
    },
    "tags": []
   },
   "source": [
    "<a id='estimation-from-observation'></a>\n",
    "### Estimating the Stochastic Matrix From Observations"
   ]
  },
  {
   "cell_type": "code",
   "execution_count": 15,
   "id": "superior-milan",
   "metadata": {
    "execution": {
     "iopub.execute_input": "2021-09-10T16:11:38.447342Z",
     "iopub.status.busy": "2021-09-10T16:11:38.443510Z",
     "iopub.status.idle": "2021-09-10T16:11:39.630947Z",
     "shell.execute_reply": "2021-09-10T16:11:39.629657Z",
     "shell.execute_reply.started": "2021-09-10T15:20:37.4115Z"
    },
    "papermill": {
     "duration": 1.234583,
     "end_time": "2021-09-10T16:11:39.631094",
     "exception": false,
     "start_time": "2021-09-10T16:11:38.396511",
     "status": "completed"
    },
    "tags": []
   },
   "outputs": [
    {
     "data": {
      "text/html": [
       "\n",
       "\n",
       "\n",
       "\n",
       "\n",
       "\n",
       "  <div class=\"bk-root\" id=\"487eceef-3550-482b-9969-7df2bc07e2d3\" data-root-id=\"3013\"></div>\n"
      ]
     },
     "metadata": {},
     "output_type": "display_data"
    },
    {
     "data": {
      "application/javascript": [
       "(function(root) {\n",
       "  function embed_document(root) {\n",
       "    \n",
       "  var docs_json = {\"bbe37b3a-7506-4d15-bb5c-02ee64ec9132\":{\"defs\":[],\"roots\":{\"references\":[{\"attributes\":{\"children\":[{\"id\":\"2935\"},{\"id\":\"2974\"}]},\"id\":\"3013\",\"type\":\"Row\"},{\"attributes\":{\"active_multi\":null,\"tools\":[{\"id\":\"2952\"},{\"id\":\"2953\"},{\"id\":\"2954\"},{\"id\":\"2955\"},{\"id\":\"2956\"},{\"id\":\"2957\"}]},\"id\":\"2959\",\"type\":\"Toolbar\"},{\"attributes\":{},\"id\":\"2983\",\"type\":\"CategoricalScale\"},{\"attributes\":{\"axis\":{\"id\":\"2949\"},\"dimension\":1,\"ticker\":null},\"id\":\"2951\",\"type\":\"Grid\"},{\"attributes\":{\"overlay\":{\"id\":\"2997\"}},\"id\":\"2993\",\"type\":\"BoxZoomTool\"},{\"attributes\":{\"data_source\":{\"id\":\"3005\"},\"glyph\":{\"id\":\"3006\"},\"hover_glyph\":null,\"muted_glyph\":null,\"nonselection_glyph\":{\"id\":\"3007\"},\"view\":{\"id\":\"3009\"}},\"id\":\"3008\",\"type\":\"GlyphRenderer\"},{\"attributes\":{\"fill_alpha\":{\"value\":0.1},\"fill_color\":{\"field\":\"fill_color\"},\"height\":{\"value\":1},\"line_alpha\":{\"value\":0.1},\"line_color\":{\"field\":\"line_color\"},\"width\":{\"value\":1},\"x\":{\"field\":\"x\"},\"y\":{\"field\":\"y\"}},\"id\":\"2968\",\"type\":\"Rect\"},{\"attributes\":{},\"id\":\"2994\",\"type\":\"SaveTool\"},{\"attributes\":{\"data\":{\"vals\":{\"__ndarray__\":\"ke18PzVe5j/8qfHSTWLAP76fGi/dJMY/mG4Sg8DK7T8ZBFYOLbKtP7pJDAIrh4Y/nu+nxks37T8ZBFYOLbKtP7gehetRuJ4/\",\"dtype\":\"float64\",\"order\":\"little\",\"shape\":[9]},\"x\":[0.5,1.5,2.5,0.5,1.5,2.5,0.5,1.5,2.5],\"y\":[0.5,0.5,0.5,1.5,1.5,1.5,2.5,2.5,2.5]},\"selected\":{\"id\":\"3189\"},\"selection_policy\":{\"id\":\"3190\"}},\"id\":\"3010\",\"type\":\"ColumnDataSource\"},{\"attributes\":{},\"id\":\"2995\",\"type\":\"ResetTool\"},{\"attributes\":{\"text\":\"Estimated\"},\"id\":\"2975\",\"type\":\"Title\"},{\"attributes\":{\"formatter\":{\"id\":\"3172\"},\"major_label_policy\":{\"id\":\"3170\"},\"ticker\":{\"id\":\"2950\"}},\"id\":\"2949\",\"type\":\"CategoricalAxis\"},{\"attributes\":{\"factors\":[\"s0\",\"s1\",\"s2\"]},\"id\":\"2977\",\"type\":\"FactorRange\"},{\"attributes\":{\"factors\":[\"s0\",\"s1\",\"s2\"]},\"id\":\"2940\",\"type\":\"FactorRange\"},{\"attributes\":{\"source\":{\"id\":\"3005\"}},\"id\":\"3009\",\"type\":\"CDSView\"},{\"attributes\":{\"fill_alpha\":{\"value\":0.1},\"fill_color\":{\"field\":\"fill_color\"},\"height\":{\"value\":1},\"line_alpha\":{\"value\":0.1},\"line_color\":{\"field\":\"line_color\"},\"width\":{\"value\":1},\"x\":{\"field\":\"x\"},\"y\":{\"field\":\"y\"}},\"id\":\"3007\",\"type\":\"Rect\"},{\"attributes\":{},\"id\":\"2996\",\"type\":\"HelpTool\"},{\"attributes\":{\"data_source\":{\"id\":\"2966\"},\"glyph\":{\"id\":\"2967\"},\"hover_glyph\":null,\"muted_glyph\":null,\"nonselection_glyph\":{\"id\":\"2968\"},\"view\":{\"id\":\"2970\"}},\"id\":\"2969\",\"type\":\"GlyphRenderer\"},{\"attributes\":{\"formatter\":{\"id\":\"3175\"},\"major_label_policy\":{\"id\":\"3173\"},\"ticker\":{\"id\":\"2947\"}},\"id\":\"2946\",\"type\":\"CategoricalAxis\"},{\"attributes\":{\"axis\":{\"id\":\"2946\"},\"ticker\":null},\"id\":\"2948\",\"type\":\"Grid\"},{\"attributes\":{},\"id\":\"2942\",\"type\":\"CategoricalScale\"},{\"attributes\":{\"factors\":[\"s0\",\"s1\",\"s2\"]},\"id\":\"2979\",\"type\":\"FactorRange\"},{\"attributes\":{\"formatter\":{\"id\":\"3181\"},\"major_label_policy\":{\"id\":\"3179\"},\"ticker\":{\"id\":\"2986\"}},\"id\":\"2985\",\"type\":\"CategoricalAxis\"},{\"attributes\":{},\"id\":\"2981\",\"type\":\"CategoricalScale\"},{\"attributes\":{\"data\":{\"fill_color\":[\"#ffc400\",\"#0004ff\",\"#0028ff\",\"#d60000\",\"#0000c4\",\"#00008d\",\"#e40000\",\"#0000c4\",\"#00009b\"],\"line_color\":[\"#ffc400\",\"#0004ff\",\"#0028ff\",\"#d60000\",\"#0000c4\",\"#00008d\",\"#e40000\",\"#0000c4\",\"#00009b\"],\"x\":[0.5,1.5,2.5,0.5,1.5,2.5,0.5,1.5,2.5],\"y\":[0.5,0.5,0.5,1.5,1.5,1.5,2.5,2.5,2.5]},\"selected\":{\"id\":\"3182\"},\"selection_policy\":{\"id\":\"3183\"}},\"id\":\"2966\",\"type\":\"ColumnDataSource\"},{\"attributes\":{},\"id\":\"2947\",\"type\":\"CategoricalTicker\"},{\"attributes\":{},\"id\":\"2952\",\"type\":\"PanTool\"},{\"attributes\":{},\"id\":\"2989\",\"type\":\"CategoricalTicker\"},{\"attributes\":{},\"id\":\"3184\",\"type\":\"Selection\"},{\"attributes\":{},\"id\":\"3189\",\"type\":\"Selection\"},{\"attributes\":{},\"id\":\"2986\",\"type\":\"CategoricalTicker\"},{\"attributes\":{},\"id\":\"2953\",\"type\":\"WheelZoomTool\"},{\"attributes\":{\"axis\":{\"id\":\"2985\"},\"ticker\":null},\"id\":\"2987\",\"type\":\"Grid\"},{\"attributes\":{},\"id\":\"3190\",\"type\":\"UnionRenderers\"},{\"attributes\":{},\"id\":\"2944\",\"type\":\"CategoricalScale\"},{\"attributes\":{\"overlay\":{\"id\":\"2958\"}},\"id\":\"2954\",\"type\":\"BoxZoomTool\"},{\"attributes\":{},\"id\":\"3181\",\"type\":\"CategoricalTickFormatter\"},{\"attributes\":{},\"id\":\"3185\",\"type\":\"UnionRenderers\"},{\"attributes\":{\"axis\":{\"id\":\"2988\"},\"dimension\":1,\"ticker\":null},\"id\":\"2990\",\"type\":\"Grid\"},{\"attributes\":{},\"id\":\"2992\",\"type\":\"WheelZoomTool\"},{\"attributes\":{\"below\":[{\"id\":\"2946\"}],\"center\":[{\"id\":\"2948\"},{\"id\":\"2951\"},{\"id\":\"2972\"}],\"height\":175,\"left\":[{\"id\":\"2949\"}],\"renderers\":[{\"id\":\"2969\"}],\"title\":{\"id\":\"2936\"},\"toolbar\":{\"id\":\"2959\"},\"toolbar_location\":null,\"width\":175,\"x_range\":{\"id\":\"2938\"},\"x_scale\":{\"id\":\"2942\"},\"y_range\":{\"id\":\"2940\"},\"y_scale\":{\"id\":\"2944\"}},\"id\":\"2935\",\"subtype\":\"Figure\",\"type\":\"Plot\"},{\"attributes\":{\"formatter\":{\"id\":\"3178\"},\"major_label_policy\":{\"id\":\"3176\"},\"ticker\":{\"id\":\"2989\"}},\"id\":\"2988\",\"type\":\"CategoricalAxis\"},{\"attributes\":{},\"id\":\"3170\",\"type\":\"AllLabels\"},{\"attributes\":{},\"id\":\"2950\",\"type\":\"CategoricalTicker\"},{\"attributes\":{},\"id\":\"2955\",\"type\":\"SaveTool\"},{\"attributes\":{},\"id\":\"3178\",\"type\":\"CategoricalTickFormatter\"},{\"attributes\":{},\"id\":\"3188\",\"type\":\"UnionRenderers\"},{\"attributes\":{},\"id\":\"2956\",\"type\":\"ResetTool\"},{\"attributes\":{},\"id\":\"3172\",\"type\":\"CategoricalTickFormatter\"},{\"attributes\":{\"source\":{\"id\":\"2966\"}},\"id\":\"2970\",\"type\":\"CDSView\"},{\"attributes\":{\"render_mode\":\"css\",\"source\":{\"id\":\"3010\"},\"text\":{\"field\":\"vals\"},\"text_color\":{\"value\":\"white\"},\"text_font_size\":{\"value\":\"1em\"},\"x\":{\"field\":\"x\"},\"x_offset\":{\"value\":-12},\"y\":{\"field\":\"y\"},\"y_offset\":{\"value\":-5}},\"id\":\"3011\",\"type\":\"LabelSet\"},{\"attributes\":{},\"id\":\"3176\",\"type\":\"AllLabels\"},{\"attributes\":{},\"id\":\"3183\",\"type\":\"UnionRenderers\"},{\"attributes\":{\"bottom_units\":\"screen\",\"fill_alpha\":0.5,\"fill_color\":\"lightgrey\",\"left_units\":\"screen\",\"level\":\"overlay\",\"line_alpha\":1.0,\"line_color\":\"black\",\"line_dash\":[4,4],\"line_width\":2,\"right_units\":\"screen\",\"syncable\":false,\"top_units\":\"screen\"},\"id\":\"2958\",\"type\":\"BoxAnnotation\"},{\"attributes\":{},\"id\":\"3173\",\"type\":\"AllLabels\"},{\"attributes\":{},\"id\":\"2957\",\"type\":\"HelpTool\"},{\"attributes\":{\"data\":{\"fill_color\":[\"#ffc400\",\"#0000ff\",\"#0030ff\",\"#cd0000\",\"#0000bf\",\"#000089\",\"#e40000\",\"#0000bf\",\"#00009f\"],\"line_color\":[\"#ffc400\",\"#0000ff\",\"#0030ff\",\"#cd0000\",\"#0000bf\",\"#000089\",\"#e40000\",\"#0000bf\",\"#00009f\"],\"x\":[0.5,1.5,2.5,0.5,1.5,2.5,0.5,1.5,2.5],\"y\":[0.5,0.5,0.5,1.5,1.5,1.5,2.5,2.5,2.5]},\"selected\":{\"id\":\"3187\"},\"selection_policy\":{\"id\":\"3188\"}},\"id\":\"3005\",\"type\":\"ColumnDataSource\"},{\"attributes\":{},\"id\":\"3179\",\"type\":\"AllLabels\"},{\"attributes\":{\"below\":[{\"id\":\"2985\"}],\"center\":[{\"id\":\"2987\"},{\"id\":\"2990\"},{\"id\":\"3011\"}],\"height\":175,\"left\":[{\"id\":\"2988\"}],\"renderers\":[{\"id\":\"3008\"}],\"title\":{\"id\":\"2975\"},\"toolbar\":{\"id\":\"2998\"},\"toolbar_location\":null,\"width\":175,\"x_range\":{\"id\":\"2977\"},\"x_scale\":{\"id\":\"2981\"},\"y_range\":{\"id\":\"2979\"},\"y_scale\":{\"id\":\"2983\"}},\"id\":\"2974\",\"subtype\":\"Figure\",\"type\":\"Plot\"},{\"attributes\":{},\"id\":\"3182\",\"type\":\"Selection\"},{\"attributes\":{},\"id\":\"3187\",\"type\":\"Selection\"},{\"attributes\":{},\"id\":\"3175\",\"type\":\"CategoricalTickFormatter\"},{\"attributes\":{\"fill_color\":{\"field\":\"fill_color\"},\"height\":{\"value\":1},\"line_color\":{\"field\":\"line_color\"},\"width\":{\"value\":1},\"x\":{\"field\":\"x\"},\"y\":{\"field\":\"y\"}},\"id\":\"3006\",\"type\":\"Rect\"},{\"attributes\":{\"bottom_units\":\"screen\",\"fill_alpha\":0.5,\"fill_color\":\"lightgrey\",\"left_units\":\"screen\",\"level\":\"overlay\",\"line_alpha\":1.0,\"line_color\":\"black\",\"line_dash\":[4,4],\"line_width\":2,\"right_units\":\"screen\",\"syncable\":false,\"top_units\":\"screen\"},\"id\":\"2997\",\"type\":\"BoxAnnotation\"},{\"attributes\":{\"factors\":[\"s0\",\"s1\",\"s2\"]},\"id\":\"2938\",\"type\":\"FactorRange\"},{\"attributes\":{\"fill_color\":{\"field\":\"fill_color\"},\"height\":{\"value\":1},\"line_color\":{\"field\":\"line_color\"},\"width\":{\"value\":1},\"x\":{\"field\":\"x\"},\"y\":{\"field\":\"y\"}},\"id\":\"2967\",\"type\":\"Rect\"},{\"attributes\":{\"data\":{\"vals\":{\"__ndarray__\":\"5dAi2/l+5j/4U+Olm8TAP3Noke18P8U/mpmZmZmZ7T9YObTIdr6vPzm0yHa+n4o/nu+nxks37T+4HoXrUbiuP9nO91PjpZs/\",\"dtype\":\"float64\",\"order\":\"little\",\"shape\":[9]},\"x\":[0.5,1.5,2.5,0.5,1.5,2.5,0.5,1.5,2.5],\"y\":[0.5,0.5,0.5,1.5,1.5,1.5,2.5,2.5,2.5]},\"selected\":{\"id\":\"3184\"},\"selection_policy\":{\"id\":\"3185\"}},\"id\":\"2971\",\"type\":\"ColumnDataSource\"},{\"attributes\":{\"active_multi\":null,\"tools\":[{\"id\":\"2991\"},{\"id\":\"2992\"},{\"id\":\"2993\"},{\"id\":\"2994\"},{\"id\":\"2995\"},{\"id\":\"2996\"}]},\"id\":\"2998\",\"type\":\"Toolbar\"},{\"attributes\":{},\"id\":\"2991\",\"type\":\"PanTool\"},{\"attributes\":{\"text\":\"Original\"},\"id\":\"2936\",\"type\":\"Title\"},{\"attributes\":{\"render_mode\":\"css\",\"source\":{\"id\":\"2971\"},\"text\":{\"field\":\"vals\"},\"text_color\":{\"value\":\"white\"},\"text_font_size\":{\"value\":\"1em\"},\"x\":{\"field\":\"x\"},\"x_offset\":{\"value\":-12},\"y\":{\"field\":\"y\"},\"y_offset\":{\"value\":-5}},\"id\":\"2972\",\"type\":\"LabelSet\"}],\"root_ids\":[\"3013\"]},\"title\":\"Bokeh Application\",\"version\":\"2.3.1\"}};\n",
       "  var render_items = [{\"docid\":\"bbe37b3a-7506-4d15-bb5c-02ee64ec9132\",\"root_ids\":[\"3013\"],\"roots\":{\"3013\":\"487eceef-3550-482b-9969-7df2bc07e2d3\"}}];\n",
       "  root.Bokeh.embed.embed_items_notebook(docs_json, render_items);\n",
       "\n",
       "  }\n",
       "  if (root.Bokeh !== undefined) {\n",
       "    embed_document(root);\n",
       "  } else {\n",
       "    var attempts = 0;\n",
       "    var timer = setInterval(function(root) {\n",
       "      if (root.Bokeh !== undefined) {\n",
       "        clearInterval(timer);\n",
       "        embed_document(root);\n",
       "      } else {\n",
       "        attempts++;\n",
       "        if (attempts > 100) {\n",
       "          clearInterval(timer);\n",
       "          console.log(\"Bokeh: ERROR: Unable to run BokehJS code because BokehJS library is missing\");\n",
       "        }\n",
       "      }\n",
       "    }, 10, root)\n",
       "  }\n",
       "})(window);"
      ],
      "application/vnd.bokehjs_exec.v0+json": ""
     },
     "metadata": {
      "application/vnd.bokehjs_exec.v0+json": {
       "id": "3013"
      }
     },
     "output_type": "display_data"
    }
   ],
   "source": [
    "#Let's try the estimation function\n",
    "\n",
    "p = noisify(regimes[0], noise_factor=0.2)\n",
    "seq = generate_sequence(p, l=5000)\n",
    "\n",
    "#Let's try the estimation function \n",
    "\n",
    "p_hat = estimate_p(seq)\n",
    "\n",
    "p_figure = get_matrix_figure(p, h=175, title='Original')\n",
    "p_hat_figure = get_matrix_figure(p_hat, h=175, title='Estimated')\n",
    "show(row(p_figure, p_hat_figure))"
   ]
  },
  {
   "cell_type": "markdown",
   "id": "baking-forth",
   "metadata": {
    "papermill": {
     "duration": 0.03926,
     "end_time": "2021-09-10T16:11:39.710041",
     "exception": false,
     "start_time": "2021-09-10T16:11:39.670781",
     "status": "completed"
    },
    "tags": []
   },
   "source": [
    "<a id='estimation-accuracy'></a>\n",
    "    \n",
    "### Estimation Accuracy\n",
    "    \n",
    "Although studying the estimation accuracy is not the goal of this notebook, we can play with the parameter `L` and investigate how it affects the estimation error, which can help us tune the _number of observations_ used for estimating the Markov chain. To find a good balance between  accuracy and performance, we will run the estimation using some values of hyperparameter L.  "
   ]
  },
  {
   "cell_type": "code",
   "execution_count": 16,
   "id": "specialized-debut",
   "metadata": {
    "execution": {
     "iopub.execute_input": "2021-09-10T16:11:39.797370Z",
     "iopub.status.busy": "2021-09-10T16:11:39.796299Z",
     "iopub.status.idle": "2021-09-10T16:11:39.920132Z",
     "shell.execute_reply": "2021-09-10T16:11:39.919533Z",
     "shell.execute_reply.started": "2021-09-10T15:20:39.185316Z"
    },
    "papermill": {
     "duration": 0.170855,
     "end_time": "2021-09-10T16:11:39.920276",
     "exception": false,
     "start_time": "2021-09-10T16:11:39.749421",
     "status": "completed"
    },
    "tags": []
   },
   "outputs": [
    {
     "data": {
      "text/html": [
       "\n",
       "\n",
       "\n",
       "\n",
       "\n",
       "\n",
       "  <div class=\"bk-root\" id=\"fc699ca2-8088-4c20-9b10-d98e641e4008\" data-root-id=\"3312\"></div>\n"
      ]
     },
     "metadata": {},
     "output_type": "display_data"
    },
    {
     "data": {
      "application/javascript": [
       "(function(root) {\n",
       "  function embed_document(root) {\n",
       "    \n",
       "  var docs_json = {\"a07d556e-c8a1-4fac-ab7a-358c1baf87ee\":{\"defs\":[],\"roots\":{\"references\":[{\"attributes\":{\"below\":[{\"id\":\"3323\"}],\"center\":[{\"id\":\"3326\"},{\"id\":\"3330\"}],\"left\":[{\"id\":\"3327\"}],\"renderers\":[{\"id\":\"3348\"}],\"title\":{\"id\":\"3313\"},\"toolbar\":{\"id\":\"3338\"},\"x_range\":{\"id\":\"3315\"},\"x_scale\":{\"id\":\"3319\"},\"y_range\":{\"id\":\"3317\"},\"y_scale\":{\"id\":\"3321\"}},\"id\":\"3312\",\"subtype\":\"Figure\",\"type\":\"Plot\"},{\"attributes\":{},\"id\":\"3335\",\"type\":\"ResetTool\"},{\"attributes\":{},\"id\":\"3319\",\"type\":\"LinearScale\"},{\"attributes\":{},\"id\":\"3536\",\"type\":\"UnionRenderers\"},{\"attributes\":{},\"id\":\"3321\",\"type\":\"LinearScale\"},{\"attributes\":{},\"id\":\"3336\",\"type\":\"HelpTool\"},{\"attributes\":{},\"id\":\"3531\",\"type\":\"BasicTickFormatter\"},{\"attributes\":{},\"id\":\"3529\",\"type\":\"AllLabels\"},{\"attributes\":{\"axis_label\":\"# of Observations Used (L)\",\"formatter\":{\"id\":\"3534\"},\"major_label_policy\":{\"id\":\"3532\"},\"ticker\":{\"id\":\"3324\"}},\"id\":\"3323\",\"type\":\"LinearAxis\"},{\"attributes\":{},\"id\":\"3324\",\"type\":\"BasicTicker\"},{\"attributes\":{},\"id\":\"3315\",\"type\":\"DataRange1d\"},{\"attributes\":{\"axis\":{\"id\":\"3323\"},\"ticker\":null},\"id\":\"3326\",\"type\":\"Grid\"},{\"attributes\":{},\"id\":\"3328\",\"type\":\"BasicTicker\"},{\"attributes\":{\"source\":{\"id\":\"3345\"}},\"id\":\"3349\",\"type\":\"CDSView\"},{\"attributes\":{},\"id\":\"3334\",\"type\":\"SaveTool\"},{\"attributes\":{},\"id\":\"3535\",\"type\":\"Selection\"},{\"attributes\":{\"axis\":{\"id\":\"3327\"},\"dimension\":1,\"ticker\":null},\"id\":\"3330\",\"type\":\"Grid\"},{\"attributes\":{},\"id\":\"3532\",\"type\":\"AllLabels\"},{\"attributes\":{},\"id\":\"3534\",\"type\":\"BasicTickFormatter\"},{\"attributes\":{\"bottom_units\":\"screen\",\"fill_alpha\":0.5,\"fill_color\":\"lightgrey\",\"left_units\":\"screen\",\"level\":\"overlay\",\"line_alpha\":1.0,\"line_color\":\"black\",\"line_dash\":[4,4],\"line_width\":2,\"right_units\":\"screen\",\"syncable\":false,\"top_units\":\"screen\"},\"id\":\"3337\",\"type\":\"BoxAnnotation\"},{\"attributes\":{\"active_multi\":null,\"tools\":[{\"id\":\"3331\"},{\"id\":\"3332\"},{\"id\":\"3333\"},{\"id\":\"3334\"},{\"id\":\"3335\"},{\"id\":\"3336\"}]},\"id\":\"3338\",\"type\":\"Toolbar\"},{\"attributes\":{},\"id\":\"3317\",\"type\":\"DataRange1d\"},{\"attributes\":{\"line_color\":\"#1f77b4\",\"x\":{\"field\":\"x\"},\"y\":{\"field\":\"y\"}},\"id\":\"3346\",\"type\":\"Line\"},{\"attributes\":{},\"id\":\"3331\",\"type\":\"PanTool\"},{\"attributes\":{\"axis_label\":\"Sum of Squared Error\",\"formatter\":{\"id\":\"3531\"},\"major_label_policy\":{\"id\":\"3529\"},\"ticker\":{\"id\":\"3328\"}},\"id\":\"3327\",\"type\":\"LinearAxis\"},{\"attributes\":{\"line_alpha\":0.1,\"line_color\":\"#1f77b4\",\"x\":{\"field\":\"x\"},\"y\":{\"field\":\"y\"}},\"id\":\"3347\",\"type\":\"Line\"},{\"attributes\":{},\"id\":\"3332\",\"type\":\"WheelZoomTool\"},{\"attributes\":{\"text\":\"Estimation Error\"},\"id\":\"3313\",\"type\":\"Title\"},{\"attributes\":{\"overlay\":{\"id\":\"3337\"}},\"id\":\"3333\",\"type\":\"BoxZoomTool\"},{\"attributes\":{\"data\":{\"x\":[50,100,200,500,1000,2000,3000,5000],\"y\":[0.24679864371922347,0.15946235330014072,0.09658423908927098,0.07209891982545226,0.03869094508506881,0.0384950226607942,0.019729696512532743,0.012025735364931334]},\"selected\":{\"id\":\"3535\"},\"selection_policy\":{\"id\":\"3536\"}},\"id\":\"3345\",\"type\":\"ColumnDataSource\"},{\"attributes\":{\"data_source\":{\"id\":\"3345\"},\"glyph\":{\"id\":\"3346\"},\"hover_glyph\":null,\"muted_glyph\":null,\"nonselection_glyph\":{\"id\":\"3347\"},\"view\":{\"id\":\"3349\"}},\"id\":\"3348\",\"type\":\"GlyphRenderer\"}],\"root_ids\":[\"3312\"]},\"title\":\"Bokeh Application\",\"version\":\"2.3.1\"}};\n",
       "  var render_items = [{\"docid\":\"a07d556e-c8a1-4fac-ab7a-358c1baf87ee\",\"root_ids\":[\"3312\"],\"roots\":{\"3312\":\"fc699ca2-8088-4c20-9b10-d98e641e4008\"}}];\n",
       "  root.Bokeh.embed.embed_items_notebook(docs_json, render_items);\n",
       "\n",
       "  }\n",
       "  if (root.Bokeh !== undefined) {\n",
       "    embed_document(root);\n",
       "  } else {\n",
       "    var attempts = 0;\n",
       "    var timer = setInterval(function(root) {\n",
       "      if (root.Bokeh !== undefined) {\n",
       "        clearInterval(timer);\n",
       "        embed_document(root);\n",
       "      } else {\n",
       "        attempts++;\n",
       "        if (attempts > 100) {\n",
       "          clearInterval(timer);\n",
       "          console.log(\"Bokeh: ERROR: Unable to run BokehJS code because BokehJS library is missing\");\n",
       "        }\n",
       "      }\n",
       "    }, 10, root)\n",
       "  }\n",
       "})(window);"
      ],
      "application/vnd.bokehjs_exec.v0+json": ""
     },
     "metadata": {
      "application/vnd.bokehjs_exec.v0+json": {
       "id": "3312"
      }
     },
     "output_type": "display_data"
    }
   ],
   "source": [
    "#different values for the parameter to try\n",
    "lengths = [50, 100, 200, 500, 1000, 2000, 3000, 5000]\n",
    "\n",
    "p_hats = []\n",
    "errors = []\n",
    "\n",
    "for L in lengths:\n",
    "    p_hat = estimate_p(seq, L)\n",
    "    p_hats.append(p_hat)\n",
    "    \n",
    "    #error matrix\n",
    "    p_diff = p - p_hat\n",
    "    \n",
    "    #Sqrt of sum of all components of the error matrix\n",
    "    error = np.sqrt(np.sum(p_diff**2))\n",
    "    errors.append(error)\n",
    "\n",
    "\n",
    "fig = figure(title=\"Estimation Error\", x_axis_label='# of Observations Used (L)', y_axis_label='Sum of Squared Error')\n",
    "fig.line(x=lengths, y=errors)\n",
    "show(fig)"
   ]
  },
  {
   "cell_type": "markdown",
   "id": "rental-terrace",
   "metadata": {
    "papermill": {
     "duration": 0.040965,
     "end_time": "2021-09-10T16:11:40.002399",
     "exception": false,
     "start_time": "2021-09-10T16:11:39.961434",
     "status": "completed"
    },
    "tags": []
   },
   "source": [
    "As can be seen in the figure above, the estimation error decreases as more observations are taken into account for estimation. In the next cell, we will estimate the stochastic matrices for previously generated 100 observations. For a reasonable balance between estimation accuracy and duration, we will move forward with 1000 samples for estimation.\n"
   ]
  },
  {
   "cell_type": "markdown",
   "id": "cloudy-process",
   "metadata": {
    "papermill": {
     "duration": 0.04024,
     "end_time": "2021-09-10T16:11:40.083247",
     "exception": false,
     "start_time": "2021-09-10T16:11:40.043007",
     "status": "completed"
    },
    "tags": []
   },
   "source": [
    "<a id='calculating-features'></a>\n",
    "### Calculating Features for Time Series\n",
    "\n",
    "In the cell below, we will estimate the stochastic matrices for previously generated 100 observations. Since our goal is to use this matrix as a feature vector, we will then flatten the matrix and inspect the values. ___The result of the following cell is a dataset of i.i.d observations with 9 dimentions.___ \n",
    "\n",
    "For better visualization and investigation of natural groupings in the extracted features, we will run principal component analisys (PCA) to select and visualize the fIrst two principal components of the feature dataset, with the expectation of being able to observe the initial traffic regimes as clearly separated clusters of points.  \n"
   ]
  },
  {
   "cell_type": "code",
   "execution_count": 17,
   "id": "federal-house",
   "metadata": {
    "execution": {
     "iopub.execute_input": "2021-09-10T16:11:40.176846Z",
     "iopub.status.busy": "2021-09-10T16:11:40.171049Z",
     "iopub.status.idle": "2021-09-10T16:11:40.423335Z",
     "shell.execute_reply": "2021-09-10T16:11:40.422743Z",
     "shell.execute_reply.started": "2021-09-10T15:20:39.817267Z"
    },
    "papermill": {
     "duration": 0.299187,
     "end_time": "2021-09-10T16:11:40.423488",
     "exception": false,
     "start_time": "2021-09-10T16:11:40.124301",
     "status": "completed"
    },
    "tags": []
   },
   "outputs": [],
   "source": [
    "L=1000 \n",
    "p_hats = []\n",
    "\n",
    "for observation in observations:\n",
    "    p_hat = estimate_p(observation, L)    \n",
    "    p_hats.append(p_hat.flatten())\n",
    "    \n",
    "X = np.array(p_hats)"
   ]
  },
  {
   "cell_type": "code",
   "execution_count": 18,
   "id": "guilty-breach",
   "metadata": {
    "execution": {
     "iopub.execute_input": "2021-09-10T16:11:40.517932Z",
     "iopub.status.busy": "2021-09-10T16:11:40.517173Z",
     "iopub.status.idle": "2021-09-10T16:11:40.539677Z",
     "shell.execute_reply": "2021-09-10T16:11:40.540382Z",
     "shell.execute_reply.started": "2021-09-10T15:20:40.066422Z"
    },
    "papermill": {
     "duration": 0.075024,
     "end_time": "2021-09-10T16:11:40.540589",
     "exception": false,
     "start_time": "2021-09-10T16:11:40.465565",
     "status": "completed"
    },
    "tags": []
   },
   "outputs": [
    {
     "data": {
      "text/html": [
       "<div>\n",
       "<style scoped>\n",
       "    .dataframe tbody tr th:only-of-type {\n",
       "        vertical-align: middle;\n",
       "    }\n",
       "\n",
       "    .dataframe tbody tr th {\n",
       "        vertical-align: top;\n",
       "    }\n",
       "\n",
       "    .dataframe thead th {\n",
       "        text-align: right;\n",
       "    }\n",
       "</style>\n",
       "<table border=\"1\" class=\"dataframe\">\n",
       "  <thead>\n",
       "    <tr style=\"text-align: right;\">\n",
       "      <th></th>\n",
       "      <th>f1</th>\n",
       "      <th>f2</th>\n",
       "      <th>f3</th>\n",
       "      <th>f4</th>\n",
       "      <th>f5</th>\n",
       "      <th>f6</th>\n",
       "      <th>f7</th>\n",
       "      <th>f8</th>\n",
       "      <th>f9</th>\n",
       "    </tr>\n",
       "  </thead>\n",
       "  <tbody>\n",
       "    <tr>\n",
       "      <th>0</th>\n",
       "      <td>0.669410</td>\n",
       "      <td>0.172840</td>\n",
       "      <td>0.157750</td>\n",
       "      <td>0.846154</td>\n",
       "      <td>0.083916</td>\n",
       "      <td>0.069930</td>\n",
       "      <td>0.944882</td>\n",
       "      <td>0.039370</td>\n",
       "      <td>0.015748</td>\n",
       "    </tr>\n",
       "    <tr>\n",
       "      <th>1</th>\n",
       "      <td>0.129630</td>\n",
       "      <td>0.314815</td>\n",
       "      <td>0.555556</td>\n",
       "      <td>0.059524</td>\n",
       "      <td>0.361111</td>\n",
       "      <td>0.579365</td>\n",
       "      <td>0.044733</td>\n",
       "      <td>0.209235</td>\n",
       "      <td>0.746032</td>\n",
       "    </tr>\n",
       "    <tr>\n",
       "      <th>2</th>\n",
       "      <td>0.677732</td>\n",
       "      <td>0.181189</td>\n",
       "      <td>0.141079</td>\n",
       "      <td>0.852113</td>\n",
       "      <td>0.077465</td>\n",
       "      <td>0.070423</td>\n",
       "      <td>0.828358</td>\n",
       "      <td>0.007463</td>\n",
       "      <td>0.164179</td>\n",
       "    </tr>\n",
       "    <tr>\n",
       "      <th>3</th>\n",
       "      <td>0.718539</td>\n",
       "      <td>0.139378</td>\n",
       "      <td>0.142084</td>\n",
       "      <td>0.866667</td>\n",
       "      <td>0.103704</td>\n",
       "      <td>0.029630</td>\n",
       "      <td>0.728000</td>\n",
       "      <td>0.144000</td>\n",
       "      <td>0.128000</td>\n",
       "    </tr>\n",
       "    <tr>\n",
       "      <th>4</th>\n",
       "      <td>0.813350</td>\n",
       "      <td>0.103832</td>\n",
       "      <td>0.082818</td>\n",
       "      <td>0.776699</td>\n",
       "      <td>0.097087</td>\n",
       "      <td>0.126214</td>\n",
       "      <td>0.816092</td>\n",
       "      <td>0.103448</td>\n",
       "      <td>0.080460</td>\n",
       "    </tr>\n",
       "  </tbody>\n",
       "</table>\n",
       "</div>"
      ],
      "text/plain": [
       "         f1        f2        f3        f4        f5        f6        f7  \\\n",
       "0  0.669410  0.172840  0.157750  0.846154  0.083916  0.069930  0.944882   \n",
       "1  0.129630  0.314815  0.555556  0.059524  0.361111  0.579365  0.044733   \n",
       "2  0.677732  0.181189  0.141079  0.852113  0.077465  0.070423  0.828358   \n",
       "3  0.718539  0.139378  0.142084  0.866667  0.103704  0.029630  0.728000   \n",
       "4  0.813350  0.103832  0.082818  0.776699  0.097087  0.126214  0.816092   \n",
       "\n",
       "         f8        f9  \n",
       "0  0.039370  0.015748  \n",
       "1  0.209235  0.746032  \n",
       "2  0.007463  0.164179  \n",
       "3  0.144000  0.128000  \n",
       "4  0.103448  0.080460  "
      ]
     },
     "execution_count": 18,
     "metadata": {},
     "output_type": "execute_result"
    }
   ],
   "source": [
    "#Create a dataframe for investigating the values\n",
    "x_df = pd.DataFrame(X, columns=['f1', 'f2', 'f3', 'f4', 'f5', 'f6', 'f7', 'f8', 'f9'])\n",
    "x_df.head()"
   ]
  },
  {
   "cell_type": "markdown",
   "id": "interpreted-alarm",
   "metadata": {
    "papermill": {
     "duration": 0.041381,
     "end_time": "2021-09-10T16:11:40.623688",
     "exception": false,
     "start_time": "2021-09-10T16:11:40.582307",
     "status": "completed"
    },
    "tags": []
   },
   "source": [
    "<a id='pca-and-visualization'></a>\n",
    "### Calculating the Principal Components for Visualizing the Clusters\n",
    "\n",
    "Now that the features vectors have been computed from the observed time series, we can go ahead and calculate PCA to visualize the 2D projection  of the dataset. \n",
    "\n",
    "Since our dataset is quite small (100 observations x 9 features) computing the principal components is straightforward thanks to the scikit-learn implementation. "
   ]
  },
  {
   "cell_type": "code",
   "execution_count": 19,
   "id": "russian-council",
   "metadata": {
    "execution": {
     "iopub.execute_input": "2021-09-10T16:11:40.710602Z",
     "iopub.status.busy": "2021-09-10T16:11:40.709915Z",
     "iopub.status.idle": "2021-09-10T16:11:41.111244Z",
     "shell.execute_reply": "2021-09-10T16:11:41.111827Z",
     "shell.execute_reply.started": "2021-09-10T15:30:00.277032Z"
    },
    "papermill": {
     "duration": 0.446505,
     "end_time": "2021-09-10T16:11:41.112032",
     "exception": false,
     "start_time": "2021-09-10T16:11:40.665527",
     "status": "completed"
    },
    "tags": []
   },
   "outputs": [
    {
     "name": "stdout",
     "output_type": "stream",
     "text": [
      "[0.79064676 0.18401547]\n",
      "[6.62215849 3.19473979]\n"
     ]
    }
   ],
   "source": [
    "from sklearn.decomposition import PCA\n",
    "\n",
    "pca = PCA(n_components=2)\n",
    "\n",
    "p_components = pca.fit_transform(X)\n",
    "\n",
    "print(pca.explained_variance_ratio_)\n",
    "print(pca.singular_values_)"
   ]
  },
  {
   "cell_type": "markdown",
   "id": "corporate-engineer",
   "metadata": {
    "papermill": {
     "duration": 0.041158,
     "end_time": "2021-09-10T16:11:41.195098",
     "exception": false,
     "start_time": "2021-09-10T16:11:41.153940",
     "status": "completed"
    },
    "tags": []
   },
   "source": [
    "### Visualizing the 1st and 2nd Principal Components\n",
    "\n",
    "In the cell below, we have plotted the computed first two principal components of our dataset. For identifying the underlying traffic regimes for each sample, we have color coded the individual points in accordance with their real traffic states.\n",
    "\n",
    "As expected, we can clearly observe 3 distinct linearly-separable clusters of points in the scatter plot."
   ]
  },
  {
   "cell_type": "code",
   "execution_count": 20,
   "id": "equivalent-characteristic",
   "metadata": {
    "execution": {
     "iopub.execute_input": "2021-09-10T16:11:41.304125Z",
     "iopub.status.busy": "2021-09-10T16:11:41.298814Z",
     "iopub.status.idle": "2021-09-10T16:11:41.393645Z",
     "shell.execute_reply": "2021-09-10T16:11:41.394130Z",
     "shell.execute_reply.started": "2021-09-10T15:25:06.744043Z"
    },
    "papermill": {
     "duration": 0.15662,
     "end_time": "2021-09-10T16:11:41.394322",
     "exception": false,
     "start_time": "2021-09-10T16:11:41.237702",
     "status": "completed"
    },
    "tags": []
   },
   "outputs": [
    {
     "data": {
      "text/html": [
       "\n",
       "\n",
       "\n",
       "\n",
       "\n",
       "\n",
       "  <div class=\"bk-root\" id=\"370c03a6-707b-4349-bdf1-d4eba2ab2918\" data-root-id=\"3588\"></div>\n"
      ]
     },
     "metadata": {},
     "output_type": "display_data"
    },
    {
     "data": {
      "application/javascript": [
       "(function(root) {\n",
       "  function embed_document(root) {\n",
       "    \n",
       "  var docs_json = {\"bd414211-df3e-43c8-b320-dc36799a2f89\":{\"defs\":[],\"roots\":{\"references\":[{\"attributes\":{\"below\":[{\"id\":\"3597\"}],\"center\":[{\"id\":\"3600\"},{\"id\":\"3604\"}],\"left\":[{\"id\":\"3601\"}],\"renderers\":[{\"id\":\"3622\"}],\"title\":{\"id\":\"3812\"},\"toolbar\":{\"id\":\"3612\"},\"x_range\":{\"id\":\"3589\"},\"x_scale\":{\"id\":\"3593\"},\"y_range\":{\"id\":\"3591\"},\"y_scale\":{\"id\":\"3595\"}},\"id\":\"3588\",\"subtype\":\"Figure\",\"type\":\"Plot\"},{\"attributes\":{},\"id\":\"3819\",\"type\":\"BasicTickFormatter\"},{\"attributes\":{\"fill_alpha\":{\"value\":0.5},\"fill_color\":{\"field\":\"fill_color\"},\"line_alpha\":{\"value\":0.5},\"line_color\":{\"field\":\"line_color\"},\"size\":{\"value\":5},\"x\":{\"field\":\"x\"},\"y\":{\"field\":\"y\"}},\"id\":\"3620\",\"type\":\"Circle\"},{\"attributes\":{},\"id\":\"3812\",\"type\":\"Title\"},{\"attributes\":{},\"id\":\"3605\",\"type\":\"PanTool\"},{\"attributes\":{\"data\":{\"fill_color\":[\"navy\",\"red\",\"navy\",\"navy\",\"navy\",\"navy\",\"red\",\"green\",\"green\",\"red\",\"navy\",\"red\",\"green\",\"navy\",\"red\",\"red\",\"red\",\"red\",\"navy\",\"red\",\"red\",\"navy\",\"navy\",\"green\",\"green\",\"navy\",\"navy\",\"red\",\"green\",\"navy\",\"green\",\"green\",\"red\",\"navy\",\"navy\",\"green\",\"green\",\"red\",\"green\",\"navy\",\"green\",\"green\",\"green\",\"green\",\"red\",\"navy\",\"green\",\"red\",\"navy\",\"green\",\"navy\",\"green\",\"red\",\"green\",\"navy\",\"red\",\"navy\",\"navy\",\"red\",\"green\",\"red\",\"navy\",\"red\",\"red\",\"red\",\"red\",\"red\",\"green\",\"red\",\"red\",\"red\",\"green\",\"navy\",\"red\",\"navy\",\"red\",\"red\",\"red\",\"navy\",\"green\",\"navy\",\"green\",\"red\",\"green\",\"red\",\"navy\",\"navy\",\"red\",\"green\",\"red\",\"navy\",\"green\",\"green\",\"green\",\"navy\",\"red\",\"green\",\"red\",\"navy\",\"navy\"],\"line_color\":[\"navy\",\"red\",\"navy\",\"navy\",\"navy\",\"navy\",\"red\",\"green\",\"green\",\"red\",\"navy\",\"red\",\"green\",\"navy\",\"red\",\"red\",\"red\",\"red\",\"navy\",\"red\",\"red\",\"navy\",\"navy\",\"green\",\"green\",\"navy\",\"navy\",\"red\",\"green\",\"navy\",\"green\",\"green\",\"red\",\"navy\",\"navy\",\"green\",\"green\",\"red\",\"green\",\"navy\",\"green\",\"green\",\"green\",\"green\",\"red\",\"navy\",\"green\",\"red\",\"navy\",\"green\",\"navy\",\"green\",\"red\",\"green\",\"navy\",\"red\",\"navy\",\"navy\",\"red\",\"green\",\"red\",\"navy\",\"red\",\"red\",\"red\",\"red\",\"red\",\"green\",\"red\",\"red\",\"red\",\"green\",\"navy\",\"red\",\"navy\",\"red\",\"red\",\"red\",\"navy\",\"green\",\"navy\",\"green\",\"red\",\"green\",\"red\",\"navy\",\"navy\",\"red\",\"green\",\"red\",\"navy\",\"green\",\"green\",\"green\",\"navy\",\"red\",\"green\",\"red\",\"navy\",\"navy\"],\"x\":{\"__ndarray__\":\"FwobDvFZ8D+Dg/fKGE7kvyQ9yXQ8g+0/boenlKkC7T8tmXgAaubuP//qNvp31O8/HlpeYL3t4b9guNF0NhDLv4YdTu2ccs2/qTvXbUMZ5L+cBPU7E2jrP83PEvbhAuS/cKbt0kyk0b/CzRUTiuLpPyJDukMPEOO/gmGFGou6479bWElk44/mv/7Yg3Z0VOK/tacofF5/7z8ZHA1XV5jhv7QxwDBK1eC/UR0S3pcd7T8tLryiWj/sPyQmdWv+CNe/KpRHptoDz78sA9hbG6DsPxGaKxCjwPE/POT4lV8/47/FgFTwYgfUvzT/aTmS++0/eJrlQPoNzL+XjUx6FQHQv8xCzqN9B+S/eIl/D2TP8D/emmCXAObpPwhon467+M6/noVaSEoT0b8NABaOgLXhv2HAXAus6M+/rhmogrpv7z9Lfgk6PsPPvwuL6kz1WNK/ZajOwUwf0b/S75O0WpLGv7wnJaAs0OK/7uYhl4is6T/4kDotlrDEvyDKARGuqeG/jp8F4OB76T9IIk5+zwHSv2PIQYAuZeo/fGVoSXM91b+zyhYpLI/jvwZu9vJgSc+/JKKLW1oq6z9Lkxatgq3lv8LpNQWHCes/vGV6rUpq7z9lP79alPfnv1mRVTP9h8i/V7IrojZM4r8yBUUyNfbwPwxhiwMqUOS/9mVhDC3Q5L8z2Kg24jPjv7EnQcfiDea/lLwWv3Of5L9fnPkYuszHvwZiaY9PW9+/EsMiYRHb4r97ZuqS/bzhv9+ykJ8mL9e/2NxeO5zC6j/YaGwvCEvkv1N5kWHG3e0/Qt3+GFpL478RDYlBbs/iv5yl/GCYK+O/8dU79nBp7D8FFbY7ud3TvyERZXG0Fuw/8tfaT/7G1b8nJUbM+ODlv4Z16jRBAtC/3Bp098HB5b8YTguCF1bvP5LuF+ko3Ok/Lxhfq+AX47/GXgvR23u/v2VAM/6LRea/9Ehip5dv7T9wjAsHhxXOv9+YCtXxrtG/TKhloCIu0L/9QvMIzBzxP9UZ3v1kA+G/+7iAWRAsyb8Lt9oiM4Ljv/iBxa0etO4/Mmh0crZ05z8=\",\"dtype\":\"float64\",\"order\":\"little\",\"shape\":[100]},\"y\":{\"__ndarray__\":\"8G+5a5rUvb/heIa3+DjJv8h57fMokse/yRQ+cPN0t7/yJL9yrIy5vw2P108IfsC/lDCUDkro17/UKj65HDnfP+6ehgPWedY/l0WDLIA9zL8yYuko8Z6Hv9no5vziqc+/7S6i0h6u3j+6JiOjHB7Bv9c9Jl0Pucm/e86gW32b2r8kZj+qcaTWv/U2z3jKfdO/83alJhxYvr/lRYYRvQLTv1/FHHiwjte/Pb3z6Gwfkb+a8RwVjjCuv5K3OO3p/+A/OeANGPdx5T8FG8HsMG64vzjVD79KJ8C/cGWdan3Y17+zViuw71vgP1y4FaxSOsK/9WnsokRA2T+A3/wtZnrbPwHlN28Q186/afroaRiWt794N+uKGSHEv4jo0dxxUdY/CLGHkG5Z2T9/bg72pffHv4DoaU0Vn90/QJfuurnUsL8lu5dO3NPYP2axVtlZY+I/lwtQuS1Y4D+NQqoMF/7aP/pFhhpcqMu/UpkgPgo0rr+enLcztVfbP0hHnwyet9e/8WyzjrTci79xRT75u/XbPwFmv9SNLL+/tsF8KNHv2z9z4ktcL8rVvwF0bjn5ctw/YFOnoOH5wr/0AfAGjWLRvzfz/MqcUMG/nqQ9pLiBs790C6y0uhjUv5KLNfJFvN4/XPZ4fqDq1L9cXtWrHIXFv4uwHz5lq9W/mAds6GGo0b+QXLd2ZavQv4GHSexxE9S/CvIx8v0F0b8BJyjyjXfgP9U0KoaiBde/7qLl7SyBy7++2B0F5CrTv+DFHBmcj+E/6fXM04NOvL9pjf2+1DDOv5ZYcvi2mbq/xOYLpdPuzr8MIYG9/PzSv2B8HewnKNa/TPV+tH+nv78au978++bYP6GINV4jX7a/tJwFte2b2D8BKe5r2/XUvy+FNC58Tt0/v13KRY5tyL+2LGMpigO0v5VQZr5FE6y/qCyrFeyZ1L9ehfnFnHXeP11uCikO4M2/Kj5phjdKwL9TKqM9LCTdP1MdSEcO4+A/rhtga1T54D+C7Nz2ZViTv8xFWiRcWsy/7CeorgbV3D8KS8fbFZvUvyfzwuZaJMC/mn3WBzJmpL8=\",\"dtype\":\"float64\",\"order\":\"little\",\"shape\":[100]}},\"selected\":{\"id\":\"3820\"},\"selection_policy\":{\"id\":\"3821\"}},\"id\":\"3619\",\"type\":\"ColumnDataSource\"},{\"attributes\":{},\"id\":\"3606\",\"type\":\"WheelZoomTool\"},{\"attributes\":{},\"id\":\"3816\",\"type\":\"BasicTickFormatter\"},{\"attributes\":{},\"id\":\"3591\",\"type\":\"DataRange1d\"},{\"attributes\":{\"overlay\":{\"id\":\"3611\"}},\"id\":\"3607\",\"type\":\"BoxZoomTool\"},{\"attributes\":{},\"id\":\"3589\",\"type\":\"DataRange1d\"},{\"attributes\":{},\"id\":\"3608\",\"type\":\"SaveTool\"},{\"attributes\":{},\"id\":\"3817\",\"type\":\"AllLabels\"},{\"attributes\":{},\"id\":\"3609\",\"type\":\"ResetTool\"},{\"attributes\":{},\"id\":\"3593\",\"type\":\"LinearScale\"},{\"attributes\":{},\"id\":\"3610\",\"type\":\"HelpTool\"},{\"attributes\":{},\"id\":\"3595\",\"type\":\"LinearScale\"},{\"attributes\":{\"formatter\":{\"id\":\"3819\"},\"major_label_policy\":{\"id\":\"3817\"},\"ticker\":{\"id\":\"3598\"}},\"id\":\"3597\",\"type\":\"LinearAxis\"},{\"attributes\":{},\"id\":\"3602\",\"type\":\"BasicTicker\"},{\"attributes\":{},\"id\":\"3598\",\"type\":\"BasicTicker\"},{\"attributes\":{},\"id\":\"3821\",\"type\":\"UnionRenderers\"},{\"attributes\":{\"data_source\":{\"id\":\"3619\"},\"glyph\":{\"id\":\"3620\"},\"hover_glyph\":null,\"muted_glyph\":null,\"nonselection_glyph\":{\"id\":\"3621\"},\"view\":{\"id\":\"3623\"}},\"id\":\"3622\",\"type\":\"GlyphRenderer\"},{\"attributes\":{\"axis\":{\"id\":\"3597\"},\"ticker\":null},\"id\":\"3600\",\"type\":\"Grid\"},{\"attributes\":{},\"id\":\"3814\",\"type\":\"AllLabels\"},{\"attributes\":{\"formatter\":{\"id\":\"3816\"},\"major_label_policy\":{\"id\":\"3814\"},\"ticker\":{\"id\":\"3602\"}},\"id\":\"3601\",\"type\":\"LinearAxis\"},{\"attributes\":{\"source\":{\"id\":\"3619\"}},\"id\":\"3623\",\"type\":\"CDSView\"},{\"attributes\":{\"bottom_units\":\"screen\",\"fill_alpha\":0.5,\"fill_color\":\"lightgrey\",\"left_units\":\"screen\",\"level\":\"overlay\",\"line_alpha\":1.0,\"line_color\":\"black\",\"line_dash\":[4,4],\"line_width\":2,\"right_units\":\"screen\",\"syncable\":false,\"top_units\":\"screen\"},\"id\":\"3611\",\"type\":\"BoxAnnotation\"},{\"attributes\":{},\"id\":\"3820\",\"type\":\"Selection\"},{\"attributes\":{\"axis\":{\"id\":\"3601\"},\"dimension\":1,\"ticker\":null},\"id\":\"3604\",\"type\":\"Grid\"},{\"attributes\":{\"fill_alpha\":{\"value\":0.1},\"fill_color\":{\"field\":\"fill_color\"},\"line_alpha\":{\"value\":0.1},\"line_color\":{\"field\":\"line_color\"},\"size\":{\"value\":5},\"x\":{\"field\":\"x\"},\"y\":{\"field\":\"y\"}},\"id\":\"3621\",\"type\":\"Circle\"},{\"attributes\":{\"active_multi\":null,\"tools\":[{\"id\":\"3605\"},{\"id\":\"3606\"},{\"id\":\"3607\"},{\"id\":\"3608\"},{\"id\":\"3609\"},{\"id\":\"3610\"}]},\"id\":\"3612\",\"type\":\"Toolbar\"}],\"root_ids\":[\"3588\"]},\"title\":\"Bokeh Application\",\"version\":\"2.3.1\"}};\n",
       "  var render_items = [{\"docid\":\"bd414211-df3e-43c8-b320-dc36799a2f89\",\"root_ids\":[\"3588\"],\"roots\":{\"3588\":\"370c03a6-707b-4349-bdf1-d4eba2ab2918\"}}];\n",
       "  root.Bokeh.embed.embed_items_notebook(docs_json, render_items);\n",
       "\n",
       "  }\n",
       "  if (root.Bokeh !== undefined) {\n",
       "    embed_document(root);\n",
       "  } else {\n",
       "    var attempts = 0;\n",
       "    var timer = setInterval(function(root) {\n",
       "      if (root.Bokeh !== undefined) {\n",
       "        clearInterval(timer);\n",
       "        embed_document(root);\n",
       "      } else {\n",
       "        attempts++;\n",
       "        if (attempts > 100) {\n",
       "          clearInterval(timer);\n",
       "          console.log(\"Bokeh: ERROR: Unable to run BokehJS code because BokehJS library is missing\");\n",
       "        }\n",
       "      }\n",
       "    }, 10, root)\n",
       "  }\n",
       "})(window);"
      ],
      "application/vnd.bokehjs_exec.v0+json": ""
     },
     "metadata": {
      "application/vnd.bokehjs_exec.v0+json": {
       "id": "3588"
      }
     },
     "output_type": "display_data"
    }
   ],
   "source": [
    "cmap={0:'navy',1:'green',2:'red'} #color coding the original traffic states\n",
    "colors = [cmap[c] for c in traffic_states]\n",
    "\n",
    "p = figure()\n",
    "p.circle(p_components[:,0], p_components[:,1], size=5, color=colors, alpha=0.5)\n",
    "\n",
    "show(p)"
   ]
  }
 ],
 "metadata": {
  "kernelspec": {
   "display_name": "Python 3",
   "language": "python",
   "name": "python3"
  },
  "language_info": {
   "codemirror_mode": {
    "name": "ipython",
    "version": 3
   },
   "file_extension": ".py",
   "mimetype": "text/x-python",
   "name": "python",
   "nbconvert_exporter": "python",
   "pygments_lexer": "ipython3",
   "version": "3.7.10"
  },
  "papermill": {
   "default_parameters": {},
   "duration": 38.916791,
   "end_time": "2021-09-10T16:11:42.347913",
   "environment_variables": {},
   "exception": null,
   "input_path": "__notebook__.ipynb",
   "output_path": "__notebook__.ipynb",
   "parameters": {},
   "start_time": "2021-09-10T16:11:03.431122",
   "version": "2.3.3"
  }
 },
 "nbformat": 4,
 "nbformat_minor": 5
}
